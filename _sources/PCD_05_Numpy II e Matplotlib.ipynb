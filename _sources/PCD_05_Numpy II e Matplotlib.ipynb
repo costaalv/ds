{
 "cells": [
  {
   "cell_type": "markdown",
   "metadata": {},
   "source": [
    "# <span style=\"color:blue\"> MBA em Ciência de Dados</span>\n",
    "# <span style=\"color:blue\">Programação para Ciência de Dados</span>\n",
    "\n",
    "## <span style=\"color:blue\">Numpy Parte II e Matplotlib</span>\n",
    "**Material Produzido por Luis Gustavo Nonato**<br>\n",
    "**Cemeai - ICMC/USP São Carlos**\n",
    "---"
   ]
  },
  {
   "cell_type": "markdown",
   "metadata": {},
   "source": [
    "## Numpy - Parte II\n",
    "- *\"Broadcasting\"* (extensão) e funções aritméticas\n",
    "- Comparações\n",
    "- Operações Avançadas: Reduções, Ordenação, Aritmética vetorial,...\n",
    "\n",
    "__References:__<br>\n",
    "[https://www.datacamp.com/community/tutorials/python-numpy-tutorial](https://www.datacamp.com/community/tutorials/python-numpy-tutorial)\n",
    "\n",
    "### Matplotlib\n",
    "- Introdução\n",
    "- Componentes\n",
    "- Texto\n",
    "- Anotações\n",
    "- Legendas\n",
    "- Outros plots\n",
    "\n",
    "__Referencias:__<br>\n",
    "[https://www.datacamp.com/community/tutorials/matplotlib-tutorial-python](https://www.datacamp.com/community/tutorials/matplotlib-tutorial-python)<br>\n",
    "[http://matplotlib.org/Matplotlib.pdf](http://matplotlib.org/Matplotlib.pdf)"
   ]
  },
  {
   "cell_type": "markdown",
   "metadata": {},
   "source": [
    "---\n",
    "## Numpy - Parte II"
   ]
  },
  {
   "cell_type": "markdown",
   "metadata": {},
   "source": [
    "### Broadcasting\n",
    "Para garantir eficiência computacional na realização de operações entre arrays o <font color='blue'>numpy</font> utiliza um mecanismo de extensão de arrays chamado \"broadcasting\". Com o uso de broadcasting:\n",
    "- as operações aritméticas com arrays (soma, subtração, multiplicação e divisão) são feitas elemento a elemento (*\"element-wise\"*)\n",
    "- o __broadcasting__ transforma os arrays envolvidos nas operações aritméticas de modo que tenham as mesmas dimensões, possibilitando assim que as operações possam ser realizada elemento a elemento"
   ]
  },
  {
   "cell_type": "markdown",
   "metadata": {},
   "source": [
    "#### Broadcasting e operações entre um array e um escalar"
   ]
  },
  {
   "cell_type": "markdown",
   "metadata": {},
   "source": [
    "Quando somamos um escalar a um array, o <font color='blue'>numpy</font> primeiro replica o escalar em um array com o mesma dimensão do array envolvido na operação. No examplo baixo, a matriz `A` é somada com o escalar 3. O __broadcasting__ replica o escalar um array 5x5 e então os dois arrays são somados elemento a elemento.\n",
    "```python\n",
    "A = np.arange(25).reshape(5,5) # matriz 5x5\n",
    "s = 3                          # escalar\n",
    "B = s+A                        # matriz 5x5\n",
    "```\n",
    "$$\n",
    "B = s + A = \\left[\\begin{array}{ccccc}\n",
    "3 & 3 & 3 & 3 & 3\\\\\n",
    "3 & 3 & 3 & 3 & 3\\\\\n",
    "3 & 3 & 3 & 3 & 3\\\\\n",
    "3 & 3 & 3 & 3 & 3\\\\\n",
    "3 & 3 & 3 & 3 & 3\n",
    "\\end{array}\\right] + \n",
    "\\left[\\begin{array}{ccccc} \n",
    "0  & 1 & 2 & 3 & 4 \\\\\n",
    "5  & 6 & 7 & 8 & 9\\\\\n",
    "10 & 11 & 12 & 13 & 14\\\\\n",
    "15 & 16 & 17 & 18 & 19\\\\\n",
    "20 & 21 & 22 & 23 & 24\n",
    "\\end{array}\\right]\n",
    "$$"
   ]
  },
  {
   "cell_type": "code",
   "execution_count": 1,
   "metadata": {},
   "outputs": [
    {
     "name": "stdout",
     "output_type": "stream",
     "text": [
      "[[ 0  1  2  3  4]\n",
      " [ 5  6  7  8  9]\n",
      " [10 11 12 13 14]\n",
      " [15 16 17 18 19]\n",
      " [20 21 22 23 24]] \n",
      "\n",
      "[[ 3  4  5  6  7]\n",
      " [ 8  9 10 11 12]\n",
      " [13 14 15 16 17]\n",
      " [18 19 20 21 22]\n",
      " [23 24 25 26 27]]\n"
     ]
    }
   ],
   "source": [
    "import numpy as np\n",
    "\n",
    "# Cria uma matriz 5x5 com números aleatórios\n",
    "A = np.arange(25).reshape(5,5)\n",
    "\n",
    "# define um escalar\n",
    "s = 3\n",
    "\n",
    "# O opeador \"+\" é aplicado elemento por elemento (caso contrário não seria definido)\n",
    "B = s + A\n",
    "\n",
    "print(A,'\\n')\n",
    "print(B)"
   ]
  },
  {
   "cell_type": "markdown",
   "metadata": {},
   "source": [
    "#### Broadcasting e operações entre arrays\n",
    "Broadcasting tambem é aplicado quando operações aritméticas são aplicadas em pares de arrays, porém algumas restrições devem ser respeitadas:\n",
    "- Os dois arrays devem possuir dimensões compatíveis em algum(s) dos eixos\n",
    "- O broadcasting é aplicado nos demais eixos para que ambos os arrays tenham as mesmas dimensões\n",
    "```python\n",
    "A = np.arange(25).reshape(5,5) # matriz 5x5\n",
    "v = np.arange(5)               # array com 5 elementos\n",
    "B = v*A                        # matriz 5x5\n",
    "```\n",
    "$$\n",
    "B = v * A \n",
    "$$\n",
    "\n",
    "$$\n",
    "\\downarrow\n",
    "$$\n",
    "\n",
    "$$\n",
    "\\left[\\begin{array}{ccccc}\n",
    "0  & 1 & 2 & 3 & 4\n",
    "\\end{array}\\right] * \n",
    "\\left[\\begin{array}{ccccc} \n",
    "0  & 1 & 2 & 3 & 4 \\\\\n",
    "5  & 6 & 7 & 8 & 9\\\\\n",
    "10 & 11 & 12 & 13 & 14\\\\\n",
    "15 & 16 & 17 & 18 & 19\\\\\n",
    "20 & 21 & 22 & 23 & 24\n",
    "\\end{array}\\right] \n",
    "$$\n",
    "\n",
    "$$\n",
    "\\downarrow\n",
    "$$\n",
    "\n",
    "$$\n",
    "\\left[\\begin{array}{ccccc}\n",
    "0  & 1 & 2 & 3 & 4\\\\\n",
    "0  & 1 & 2 & 3 & 4\\\\\n",
    "0  & 1 & 2 & 3 & 4\\\\\n",
    "0  & 1 & 2 & 3 & 4\\\\\n",
    "0  & 1 & 2 & 3 & 4\n",
    "\\end{array}\\right] * \n",
    "\\left[\\begin{array}{ccccc} \n",
    "0  & 1 & 2 & 3 & 4 \\\\\n",
    "5  & 6 & 7 & 8 & 9\\\\\n",
    "10 & 11 & 12 & 13 & 14\\\\\n",
    "15 & 16 & 17 & 18 & 19\\\\\n",
    "20 & 21 & 22 & 23 & 24\n",
    "\\end{array}\\right]\n",
    "$$\n",
    "\n",
    "__Cuidado__: A operação <font color='blue'>*</font> corresponde a uma multiplicação elemento por elemento, e não uma multiplicação matricial."
   ]
  },
  {
   "cell_type": "code",
   "execution_count": 2,
   "metadata": {},
   "outputs": [
    {
     "name": "stdout",
     "output_type": "stream",
     "text": [
      "Matriz \"A\" possui  5  linhas e  5  colunas\n",
      "Array \"v\" possui  5  elementos \n",
      "Note que a segunda dimensão de \"v\" não é especificada  (5,)\n",
      "---------------\n",
      "v = \n",
      " [0 1 2 3 4]\n",
      "A = \n",
      " [[ 0  1  2  3  4]\n",
      " [ 5  6  7  8  9]\n",
      " [10 11 12 13 14]\n",
      " [15 16 17 18 19]\n",
      " [20 21 22 23 24]]\n",
      "B = \n",
      " [[ 0  1  4  9 16]\n",
      " [ 0  6 14 24 36]\n",
      " [ 0 11 24 39 56]\n",
      " [ 0 16 34 54 76]\n",
      " [ 0 21 44 69 96]]\n"
     ]
    }
   ],
   "source": [
    "A = np.arange(25).reshape(5,5) # matriz 5x5\n",
    "print('Matriz \"A\" possui ', A.shape[0], ' linhas e ',A.shape[1],' colunas')\n",
    "\n",
    "\n",
    "v = np.arange(5)  # array com 5 elementos\n",
    "                  # como a segunda dimensão não foi especificada, \"v\" é interpretado \n",
    "                  # como um sendo 1x5 (uma linha e 5 colunas)\n",
    "        \n",
    "print('Array \"v\" possui ', v.shape[0], ' elementos ')\n",
    "print('Note que a segunda dimensão de \"v\" não é especificada ',v.shape)\n",
    "\n",
    "# A operação \"*\" é realizada elemento a elemento, broadcasting o array \"v\" para gerar novas linhas\n",
    "B = v * A\n",
    "\n",
    "print(5*'---')\n",
    "print('v = \\n',v)\n",
    "print('A = \\n',A)\n",
    "print('B = \\n',B)"
   ]
  },
  {
   "cell_type": "markdown",
   "metadata": {},
   "source": [
    "O __broadcasting__ é feito nas colunas quando o array `v` é um array coluna\n",
    "```python\n",
    "v = np.arange(5).reshape(5,1) # array com 5 elementos \n",
    "                              # como a segunda dimensão foi especificada, \"v\" é um array \n",
    "                              # com 5 linhas e uma coluna\n",
    "```\n",
    "$$\n",
    "B = v * A \n",
    "$$\n",
    "\n",
    "$$\n",
    "\\downarrow\n",
    "$$\n",
    "\n",
    "$$\n",
    "\\left[\\begin{array}{c}\n",
    "0  \\\\ 1 \\\\ 2 \\\\ 3 \\\\ 4\n",
    "\\end{array}\\right] * \n",
    "\\left[\\begin{array}{ccccc} \n",
    "0  & 1 & 2 & 3 & 4 \\\\\n",
    "5  & 6 & 7 & 8 & 9\\\\\n",
    "10 & 11 & 12 & 13 & 14\\\\\n",
    "15 & 16 & 17 & 18 & 19\\\\\n",
    "20 & 21 & 22 & 23 & 24\n",
    "\\end{array}\\right] \n",
    "$$\n",
    "\n",
    "$$\n",
    "\\downarrow\n",
    "$$\n",
    "\n",
    "$$\n",
    "\\left[\\begin{array}{ccccc}\n",
    "0  & 0 & 0 & 0 & 0\\\\\n",
    "1  & 1 & 1 & 1 & 1\\\\\n",
    "2  & 2 & 2 & 2 & 2\\\\\n",
    "3  & 3 & 3 & 3 & 3\\\\\n",
    "4  & 4 & 4 & 4 & 4\n",
    "\\end{array}\\right] * \n",
    "\\left[\\begin{array}{ccccc} \n",
    "0  & 1 & 2 & 3 & 4 \\\\\n",
    "5  & 6 & 7 & 8 & 9\\\\\n",
    "10 & 11 & 12 & 13 & 14\\\\\n",
    "15 & 16 & 17 & 18 & 19\\\\\n",
    "20 & 21 & 22 & 23 & 24\n",
    "\\end{array}\\right]\n",
    "$$"
   ]
  },
  {
   "cell_type": "code",
   "execution_count": 3,
   "metadata": {},
   "outputs": [
    {
     "name": "stdout",
     "output_type": "stream",
     "text": [
      "(5, 5)\n",
      "(5, 1)\n",
      "[[0]\n",
      " [1]\n",
      " [2]\n",
      " [3]\n",
      " [4]] \n",
      "\n",
      "[[ 0  1  2  3  4]\n",
      " [ 5  6  7  8  9]\n",
      " [10 11 12 13 14]\n",
      " [15 16 17 18 19]\n",
      " [20 21 22 23 24]] \n",
      "\n",
      "[[ 0  0  0  0  0]\n",
      " [ 5  6  7  8  9]\n",
      " [20 22 24 26 28]\n",
      " [45 48 51 54 57]\n",
      " [80 84 88 92 96]]\n"
     ]
    }
   ],
   "source": [
    "A = np.arange(25).reshape(5,5) # matriz 5x5\n",
    "print(A.shape)\n",
    "\n",
    "v = np.arange(5).reshape(5,1) # array com 5 elementos \n",
    "                              # como a segunda dimensão foi especificada, \"v\" é um array com 5 linhas e uma coluna\n",
    "print(v.shape)\n",
    "\n",
    "# A operação \"*\" é feita elemento por elemento, broadcasting \"v\" para gerar novas colunas\n",
    "# Agora \"v\" é um vetor coluna\n",
    "B =  v * A\n",
    "\n",
    "print(v,'\\n')\n",
    "print(A,'\\n')\n",
    "print(B)"
   ]
  },
  {
   "cell_type": "markdown",
   "metadata": {},
   "source": [
    "Broadcasting também é realizado quando os dois operandos são arrays unidimensionais, sendo um deles array linha e o outro array coluna. Neste caso, __Broadcasting__ é aplicado em ambos:\n",
    "```python\n",
    "v = np.arange(5)  # array com 5 elementos\n",
    "                  # como a segunda dimensão não foi especificada, \"v\" é interpretado \n",
    "                  # como um sendo 1x5 (uma linha e 5 colunas)\n",
    "\n",
    "w = np.arange(3).reshape(3,1) # array com 3 elementos \n",
    "                              # como a segunda dimensão foi especificada,  \n",
    "                              # \"v\" é um array com 3 linhas e uma coluna\n",
    "```\n",
    "$$\n",
    "Z = v + w\n",
    "$$\n",
    "\n",
    "$$\n",
    "\\downarrow\n",
    "$$\n",
    "\n",
    "$$\n",
    "\\left[\\begin{array}{ccccc}\n",
    "0  & 1 & 2 & 3 & 4\n",
    "\\end{array}\\right] + \n",
    "\\left[\\begin{array}{c} \n",
    "0  \\\\\n",
    "1 \\\\\n",
    "2\n",
    "\\end{array}\\right] \n",
    "$$\n",
    "\n",
    "$$\n",
    "\\downarrow\n",
    "$$\n",
    "\n",
    "$$\n",
    "\\left[\\begin{array}{ccccc}\n",
    "0  & 1 & 2 & 3 & 4\\\\\n",
    "0  & 1 & 2 & 3 & 4\\\\\n",
    "0  & 1 & 2 & 3 & 4\n",
    "\\end{array}\\right] + \n",
    "\\left[\\begin{array}{ccccc} \n",
    "0 & 0 & 0 & 0 & 0 \\\\\n",
    "1 & 1 & 1 & 1 & 1\\\\\n",
    "2 & 2 & 2 & 2 & 2\n",
    "\\end{array}\\right]\n",
    "$$"
   ]
  },
  {
   "cell_type": "code",
   "execution_count": 4,
   "metadata": {},
   "outputs": [
    {
     "name": "stdout",
     "output_type": "stream",
     "text": [
      "(5,)\n",
      "(3, 1)\n",
      "array v:\n",
      " [0 1 2 3 4] \n",
      "\n",
      "array w:\n",
      " [[0]\n",
      " [1]\n",
      " [2]] \n",
      "\n",
      "array Z = v+w\n",
      " [[0 1 2 3 4]\n",
      " [1 2 3 4 5]\n",
      " [2 3 4 5 6]]\n",
      "(3, 5)\n"
     ]
    }
   ],
   "source": [
    "v = np.arange(5)  # array com 5 elementos\n",
    "                  # como a segunda dimensão não foi especificada, \"v\" é interpretado \n",
    "                  # como um sendo 1x5 (uma linha e 5 colunas)\n",
    "print(v.shape)\n",
    "\n",
    "w = np.arange(3).reshape(3,1) # array com 3 elementos \n",
    "                              # como a segunda dimensão foi especificada, \"v\" é um array \n",
    "                              # com 3 linhas e uma coluna\n",
    "print(w.shape)\n",
    "\n",
    "# A operação \"+\" é feita elemento por elemento, broadcasting \"v\" e \"w\" simultaneamente\n",
    "# Neste caso \"w\" é um vetor coluna e \"v\" é tratado como vetor linha\n",
    "Z =  v + w\n",
    "\n",
    "print('array v:\\n',v,'\\n')\n",
    "print('array w:\\n',w,'\\n')\n",
    "print('array Z = v+w\\n',Z)  \n",
    "print(Z.shape) # note que o resultado é uma matriz 3x5"
   ]
  },
  {
   "cell_type": "markdown",
   "metadata": {},
   "source": [
    "Broadcasting também é usado em atribuiçoes"
   ]
  },
  {
   "cell_type": "code",
   "execution_count": 5,
   "metadata": {},
   "outputs": [
    {
     "name": "stdout",
     "output_type": "stream",
     "text": [
      "[[-1. -2. -3.]\n",
      " [-1. -2. -3.]\n",
      " [-1. -2. -3.]\n",
      " [ 0.  0.  0.]\n",
      " [ 0.  0.  0.]]\n"
     ]
    }
   ],
   "source": [
    "A = np.zeros((5,3)) # matriz 5x3 de zeros\n",
    "\n",
    "A[:3] = [-1,-2,-3] # a lista [-1,-2,-3] é estendida para uma matriz 3x3, criando novas linhas \n",
    "                   # note que apenas parte da matriz 'A' é alterada\n",
    "print(A)"
   ]
  },
  {
   "cell_type": "markdown",
   "metadata": {},
   "source": [
    "Pode-se forçar que o Broadcasting em um dos eixos"
   ]
  },
  {
   "cell_type": "code",
   "execution_count": 6,
   "metadata": {},
   "outputs": [
    {
     "name": "stdout",
     "output_type": "stream",
     "text": [
      "[[0. 0. 0.]\n",
      " [1. 1. 1.]\n",
      " [2. 2. 2.]\n",
      " [3. 3. 3.]\n",
      " [4. 4. 4.]]\n",
      "[[0. 0. 0.]\n",
      " [1. 1. 1.]\n",
      " [2. 2. 2.]\n",
      " [3. 3. 3.]\n",
      " [4. 4. 4.]]\n"
     ]
    }
   ],
   "source": [
    "A = np.zeros((5,3)) # matriz 5x3 de zeros\n",
    "v = np.arange(5)    # array com 5 elementos, segunda dimensão não foi especificada\n",
    "\n",
    "# o comando np.newaxis transform v em um vetor coluna, \n",
    "# realizando o broadcasting em v nas colunas\n",
    "A[:] = v[:,np.newaxis]\n",
    "print(A)\n",
    "\n",
    "# o comando acima é equivalente a\n",
    "A[:] = v.reshape(5,1)\n",
    "print(A)"
   ]
  },
  {
   "cell_type": "markdown",
   "metadata": {},
   "source": [
    "### Comparações\n",
    "Comparações usando `==`, `>`,`<`,`>=`,`<=`, e `!=` também são feitas elemento por elemento."
   ]
  },
  {
   "cell_type": "code",
   "execution_count": 7,
   "metadata": {},
   "outputs": [
    {
     "name": "stdout",
     "output_type": "stream",
     "text": [
      "[[0 1]\n",
      " [2 3]] \n",
      "\n",
      "[[6 5]\n",
      " [4 3]] \n",
      "\n",
      "[[False False]\n",
      " [False  True]]\n"
     ]
    }
   ],
   "source": [
    "A = np.arange(4).reshape(2,2)      # matriz 2x2\n",
    "B = np.arange(6,2,-1).reshape(2,2) # matriz 2x2\n",
    "\n",
    "M = (B == A)\n",
    "\n",
    "print(A,'\\n')\n",
    "print(B,'\\n')\n",
    "print(M)"
   ]
  },
  {
   "cell_type": "markdown",
   "metadata": {},
   "source": [
    "Para verificar se dois arrays são iguais (todos elementos são iguais) deve-se utilizar o método <font color='blue'>array_equal</font>."
   ]
  },
  {
   "cell_type": "code",
   "execution_count": 8,
   "metadata": {},
   "outputs": [
    {
     "name": "stdout",
     "output_type": "stream",
     "text": [
      "False\n",
      "True\n",
      "False\n"
     ]
    }
   ],
   "source": [
    "A = np.arange(4).reshape(2,2)      # matrix 2x2\n",
    "B = np.arange(6,2,-1).reshape(2,2) # matrix 2x2\n",
    "C = np.copy(A)\n",
    "\n",
    "# A resposta é apenas um valor booleano\n",
    "print(np.array_equal(A,B))\n",
    "print(np.array_equal(A,C))\n",
    "\n",
    "# np.array_equal(A,B) é equivalente a:\n",
    "D = (A==B)\n",
    "print(np.all(D))"
   ]
  },
  {
   "cell_type": "markdown",
   "metadata": {},
   "source": [
    "### Reduções\n",
    "O <font color='blue'>numpy</font> possui métodos de redução como  <font color='blue'>sum</font>, <font color='blue'>max</font>, <font color='blue'>min</font>, <font color='blue'>argmax</font> e <font color='blue'>argmin</font>. Tais métodos podem ser aplicados ao array como um todo ou somente às linhas ou colunas.\n",
    "O que controla a forma de aplicação é o parâmetro 'axis'. Quando o parâmetro 'axis' não é especificado, a redução é aplicada ao array todo. \n",
    "- 'axis' não especificado: retorna um valor único\n",
    "- 'axis=0' restringe a redução às colunas (percorre as linhas): retorna um array com número de elementos igual ao número de colunas\n",
    "- 'axis=1' restringe a redução às linhas (percorre as colunas): retorna um array com número de elementos igual ao número de linhas"
   ]
  },
  {
   "cell_type": "code",
   "execution_count": 9,
   "metadata": {},
   "outputs": [
    {
     "name": "stdout",
     "output_type": "stream",
     "text": [
      "[[0. 1. 2. 3. 4.]\n",
      " [0. 1. 2. 3. 4.]\n",
      " [0. 1. 2. 3. 4.]\n",
      " [0. 1. 2. 3. 4.]\n",
      " [0. 1. 2. 3. 4.]] \n",
      "\n",
      "Soma de todos os valores:  50.0\n",
      "Soma dos valores das colunas:  [ 0.  5. 10. 15. 20.]\n",
      "Soma dos valores das linnhas:  [10. 10. 10. 10. 10.]\n"
     ]
    }
   ],
   "source": [
    "A = np.zeros((5,5))  # matriz 5x5 de zeros\n",
    "A[:] = np.arange(5)  # broadcasting o array [0,1,2,3,4] nas linhas\n",
    "\n",
    "print(A,'\\n')\n",
    "\n",
    "print('Soma de todos os valores: ', np.sum(A)) # todos os elementos\n",
    "print('Soma dos valores das colunas: ', np.sum(A,axis=0)) # soma os valores das colunas\n",
    "print('Soma dos valores das linnhas: ', np.sum(A,axis=1)) # soma os valores das linhas"
   ]
  },
  {
   "cell_type": "code",
   "execution_count": 10,
   "metadata": {},
   "outputs": [
    {
     "name": "stdout",
     "output_type": "stream",
     "text": [
      "[[ 1  5 19  8  6]\n",
      " [ 5 21 19  9 15]\n",
      " [21 10 28  0 11]\n",
      " [ 5  3 29 13 27]\n",
      " [25 17  4 12 17]] \n",
      "\n",
      "Maior valor dentre todos na matriz:  29\n",
      "Posição do maior valor dentre todos na matriz:  17\n",
      "Maior valor em cada coluna:  [25 21 29 13 27]\n",
      "Posição do maior valor em cada coluna:  [4 1 3 3 3]\n"
     ]
    }
   ],
   "source": [
    "A = np.random.randint(low=0,high=30,size=(5,5)) # matriz 5x5 com números inteiros \n",
    "                                                # randomicos no intervalor entre 0 e 30\n",
    "print(A,'\\n')\n",
    "\n",
    "# todos os elementos\n",
    "print('Maior valor dentre todos na matriz: ',np.max(A))    # maior valor da matriz\n",
    "print('Posição do maior valor dentre todos na matriz: ',np.argmax(A)) # lineariza a matriz com A.ravel() e \n",
    "                                                                      # retorna a posicão do maior valor\n",
    "\n",
    "# Por coluna\n",
    "print('Maior valor em cada coluna: ',np.max(A,axis=0))  # maior valor em cada coluna\n",
    "print('Posição do maior valor em cada coluna: ',np.argmax(A,axis=0)) # posição do maior valor em cada coluna"
   ]
  },
  {
   "cell_type": "markdown",
   "metadata": {},
   "source": [
    "Reduções estatísticas como:\n",
    "- <font color='blue'>mean</font>: média aritmética\n",
    "- <font color='blue'>median</font>: mediana \n",
    "- <font color='blue'>std</font>: desvio padrão\n",
    "\n",
    "funcionam da mesma forma, ou seja, podem ser aplicados ao array como um todo ou somente às linhas e colunas utilizando o parâmetro 'axis'."
   ]
  },
  {
   "cell_type": "code",
   "execution_count": 11,
   "metadata": {},
   "outputs": [
    {
     "name": "stdout",
     "output_type": "stream",
     "text": [
      "[[22. 29. 29. 19. 20.]\n",
      " [13.  8.  2. 26. 29.]\n",
      " [21. 20. 13. 27. 21.]\n",
      " [20.  7.  6.  1.  6.]\n",
      " [ 9. 24.  9.  6.  9.]] \n",
      "\n",
      "Media de todos os valores:  15.84\n",
      "Media por coluna:  [17.  17.6 11.8 15.8 17. ]\n",
      "Media por linha:  [23.8 15.6 20.4  8.  11.4]\n"
     ]
    }
   ],
   "source": [
    "A = np.random.randint(low=0,high=30,size=(5,5)).astype(float)\n",
    "print(A,'\\n')\n",
    "\n",
    "print('Media de todos os valores: ',np.mean(A))   # média de todos os valores\n",
    "print('Media por coluna: ',np.mean(A,axis=0))     # média por coluna\n",
    "print('Media por linha: ',np.mean(A,axis=1))      # média por linha"
   ]
  },
  {
   "cell_type": "markdown",
   "metadata": {},
   "source": [
    "#### Redução lógica\n",
    "O métodos \n",
    "- <font color='blue'>all</font>: verifica se todos os elementos do array satisfazem a condição (True)\n",
    "- <font color='blue'>any</font>: verifica se algum elemento do array satisfaz a condição (True)\n",
    "\n",
    "também podem ser aplicados ao array como um todo ou somente às linhas e colunas utilizando o parâmetro 'axis'."
   ]
  },
  {
   "cell_type": "code",
   "execution_count": 12,
   "metadata": {},
   "outputs": [
    {
     "name": "stdout",
     "output_type": "stream",
     "text": [
      "[[ 0  1  2  3  4]\n",
      " [ 5  6  7  8  9]\n",
      " [10 11 12 13 14]\n",
      " [15 16 17 18 19]\n",
      " [20 21 22 23 24]] \n",
      "\n",
      "[[False  True  True  True  True]\n",
      " [ True  True  True  True  True]\n",
      " [ True  True  True  True  True]\n",
      " [ True  True  True  True  True]\n",
      " [ True  True  True  True  True]] \n",
      "\n",
      "Todos os elementos são TRUE?  False\n",
      "Algum elemento é TRUE?  True\n",
      "Todos os elementos de cada coluna são TRUE?  [False  True  True  True  True]\n",
      "Algum elemento de cada linha é TRUE?  [ True  True  True  True  True]\n"
     ]
    }
   ],
   "source": [
    "A = np.arange(25).reshape(5,5)\n",
    "print(A,'\\n')\n",
    "\n",
    "M = A > 0\n",
    "print(M,'\\n')\n",
    "\n",
    "print('Todos os elementos são TRUE? ', np.all(M))\n",
    "print('Algum elemento é TRUE? ',np.any(M))\n",
    "\n",
    "print('Todos os elementos de cada coluna são TRUE? ',np.all(M,axis=0))\n",
    "print('Algum elemento de cada linha é TRUE? ',np.any(M,axis=1))"
   ]
  },
  {
   "cell_type": "markdown",
   "metadata": {},
   "source": [
    "### Ordenação \n",
    "#### <font color='blue'>sort</font>\n",
    "O método <font color='blue'>sort</font> do <font color='blue'>numpy</font> ordena os elementos do array. \n",
    "- Quando o método <font color='blue'>sort</font> é invocado utilizando a própria variável, a ordenação é feita diretamente no array (inplace). Por exemplo:\n",
    "```python\n",
    "A = np.random.randint(low=0,high=30,size=(5,5))\n",
    "A.sort()  # modifica o array original\n",
    "```\n",
    "- Quando o método <font color='blue'>sort</font> é invocado pelo <font color='blue'>numpy</font> uma cópia ordenada do array é gerada (o array original não é modificado).\n",
    "```python\n",
    "A = np.random.randint(low=0,high=30,size=(5,5))\n",
    "B = np.sort(A)  # `B` é uma cópia de `A` com linhas ordenas (`A` não é afetado)\n",
    "```\n",
    "\n",
    "Por padrão a ordenação é feita em cada linha (`axis=1` é o valor padrão do parâmetro 'axis' no comando <font color='blue'>sort</font>) "
   ]
  },
  {
   "cell_type": "code",
   "execution_count": 13,
   "metadata": {},
   "outputs": [
    {
     "name": "stdout",
     "output_type": "stream",
     "text": [
      "Array original \"A\": \n",
      " [[27 20 25 15 22]\n",
      " [ 8  4 25 11 21]\n",
      " [11  1  4 13 25]\n",
      " [24  1  4  1 22]\n",
      " [ 6 25 22  3 22]] \n",
      "\n",
      "\"B\" é cópia de \"A\" com valores das linhas ordenados. Array \"A\" não é alterado:\n",
      "B = \n",
      " [[15 20 22 25 27]\n",
      " [ 4  8 11 21 25]\n",
      " [ 1  4 11 13 25]\n",
      " [ 1  1  4 22 24]\n",
      " [ 3  6 22 22 25]] \n",
      "\n",
      "A = \n",
      " [[27 20 25 15 22]\n",
      " [ 8  4 25 11 21]\n",
      " [11  1  4 13 25]\n",
      " [24  1  4  1 22]\n",
      " [ 6 25 22  3 22]] \n",
      "\n"
     ]
    }
   ],
   "source": [
    "A = np.random.randint(low=0,high=30,size=(5,5))\n",
    "print('Array original \"A\": \\n',A,'\\n')\n",
    "\n",
    "B = np.sort(A) # `B` é uma cópia de `A` com linhas ordenas\n",
    "print('\"B\" é cópia de \"A\" com valores das linhas ordenados. Array \"A\" não é alterado:')\n",
    "print('B = \\n',B,'\\n')\n",
    "print('A = \\n',A,'\\n')"
   ]
  },
  {
   "cell_type": "code",
   "execution_count": 14,
   "metadata": {},
   "outputs": [
    {
     "name": "stdout",
     "output_type": "stream",
     "text": [
      "Os valores das linhas do array \"A\" são ordenados: \n",
      " A =\n",
      " [[15 20 22 25 27]\n",
      " [ 4  8 11 21 25]\n",
      " [ 1  4 11 13 25]\n",
      " [ 1  1  4 22 24]\n",
      " [ 3  6 22 22 25]] \n",
      "\n",
      "Os valores das colunas são ordenadas:  \n",
      " A =\n",
      " [[ 1  1  4 13 24]\n",
      " [ 1  4 11 21 25]\n",
      " [ 3  6 11 22 25]\n",
      " [ 4  8 22 22 25]\n",
      " [15 20 22 25 27]] \n",
      "\n"
     ]
    }
   ],
   "source": [
    "A.sort()  # as linhas de `A` são ordenadas modificando o array original\n",
    "print('Os valores das linhas do array \"A\" são ordenados: \\n A =\\n',A,'\\n')\n",
    "\n",
    "A.sort(axis=0) # as COLUNAS de `A` são ordenadas modificando o array original\n",
    "print('Os valores das colunas são ordenadas:  \\n A =\\n',A,'\\n')"
   ]
  },
  {
   "cell_type": "markdown",
   "metadata": {},
   "source": [
    "#### <font color='blue'>argsort</font>\n",
    "O método <font color='blue'>argsort</font> retorna um array contendo os índicies dos elementos ordenados nas linhas. O parâmetro 'axis=0' pode ser utilizado para que a ordenação seja aplicada às colunas.   "
   ]
  },
  {
   "cell_type": "code",
   "execution_count": 15,
   "metadata": {},
   "outputs": [
    {
     "name": "stdout",
     "output_type": "stream",
     "text": [
      "[[12.  1. 26.]\n",
      " [23.  0.  7.]\n",
      " [10. 19. 21.]] \n",
      "\n",
      "[[1 0 2]\n",
      " [1 2 0]\n",
      " [0 1 2]] \n",
      "\n",
      "Indices dos elementos ordenados na linha  0 :  [1 0 2]\n",
      "Linha 0 :            [12.  1. 26.]\n",
      "Linha  0  ordenada:  [ 1. 12. 26.] \n",
      "\n",
      "Indices dos elementos ordenados na linha  1 :  [1 2 0]\n",
      "Linha 1 :            [23.  0.  7.]\n",
      "Linha  1  ordenada:  [ 0.  7. 23.] \n",
      "\n",
      "Indices dos elementos ordenados na linha  2 :  [0 1 2]\n",
      "Linha 2 :            [10. 19. 21.]\n",
      "Linha  2  ordenada:  [10. 19. 21.] \n",
      "\n"
     ]
    }
   ],
   "source": [
    "A = np.array([[12.0,  1.0, 26.0],\n",
    "              [23.0,  0.0,  7.0],\n",
    "              [10.0,  19.0, 21.0]])\n",
    "print(A,'\\n')\n",
    "\n",
    "I = np.argsort(A)  # fornece os indices dos elementos ordenados em cada linha\n",
    "print(I,'\\n')\n",
    "\n",
    "for i in range(A.shape[0]):\n",
    "    print('Indices dos elementos ordenados na linha ',i,': ',I[i])\n",
    "    print('Linha',i,': '+10*' ',A[i])\n",
    "    print('Linha ',i,' ordenada: ',A[i,I[i]],'\\n')"
   ]
  },
  {
   "cell_type": "markdown",
   "metadata": {},
   "source": [
    "### Aritmétrica vetorial e matricial\n",
    "A multiplicação matriz e vetor (ou matriz e matriz) como definida na álgebra matricial é feita utilizando o método <font color='blue'>dot</font>.\n",
    "\n",
    "__Atenção:__ As dimensões devem ser compatíveis"
   ]
  },
  {
   "cell_type": "markdown",
   "metadata": {},
   "source": [
    "$$\n",
    "b1 = \\left[\\begin{array}{cc}\n",
    "           1 & 1 \\\\\n",
    "           2 & 2\n",
    "    \\end{array}\\right]\\cdot\n",
    "    \\left[\\begin{array}{c}\n",
    "           1  \\\\\n",
    "           2 \n",
    "    \\end{array}\\right] = \\left[\\begin{array}{c}\n",
    "           3  \\\\\n",
    "           6 \n",
    "    \\end{array}\\right]\n",
    "$$\n",
    "\n",
    "$$\n",
    "b2 = \\left[\\begin{array}{cc}\n",
    "           1 & 2 \n",
    "    \\end{array}\\right]\\cdot\n",
    "\\left[\\begin{array}{cc}\n",
    "           1 & 1 \\\\\n",
    "           2 & 2\n",
    "    \\end{array}\\right]\\cdot\n",
    "     = \\left[\\begin{array}{cc}\n",
    "           5 & 5\n",
    "    \\end{array}\\right]\n",
    "$$"
   ]
  },
  {
   "cell_type": "code",
   "execution_count": 16,
   "metadata": {},
   "outputs": [
    {
     "name": "stdout",
     "output_type": "stream",
     "text": [
      "Matriz 2x2 A:\n",
      " [[1. 1.]\n",
      " [2. 2.]]\n",
      "Vetor 2x1 v:\n",
      " [[1]\n",
      " [2]]\n",
      "\n",
      " Multiplicando a matriz A pelo vetor v resulta em um vetor 2x1\n",
      "[[3.]\n",
      " [6.]] (2, 1)\n",
      "\n",
      " Multiplicando o vetor transposto v.T pela matriz A pelo resulta em um vetor 1x2\n",
      "[[5. 5.]] (1, 2)\n"
     ]
    }
   ],
   "source": [
    "A = np.zeros((2,2))      # matrix 2x2 de zeros  \n",
    "v = np.array([1,2]).reshape(2,1) # array 2x1\n",
    "A[:] = v                # broadcasting o array 2x1 nas colunas da matriz 'A'\n",
    "\n",
    "print('Matriz 2x2 A:\\n',A)\n",
    "print('Vetor 2x1 v:\\n',v)\n",
    "\n",
    "print('\\n Multiplicando a matriz A pelo vetor v resulta em um vetor 2x1')\n",
    "b1 = np.dot(A,v)   # v e b1 são vetores colunas \n",
    "print(b1,b1.shape)\n",
    "\n",
    "#### Atenção ####\n",
    "# O produto np.dot(v,A) não é válido, pois as dimensões não são compatíveis \n",
    "# (produto de vetor 2x1 com matriz 2x2 não existe tente gerar o produto e veja a mensagem de erro)\n",
    "\n",
    "# Para compadibilizarmos as dimensão precisamos transpor o vetor v\n",
    "# (produto de vetor 1x2 com matriz 2x2 é bem definido e resulta em um vetor 1x2\n",
    "print('\\n Multiplicando o vetor transposto v.T pela matriz A pelo resulta em um vetor 1x2')\n",
    "b2 = np.dot(v.T,A) # v.T é um vetor linha, assim como b2\n",
    "print(b2,b2.shape)"
   ]
  },
  {
   "cell_type": "markdown",
   "metadata": {},
   "source": [
    "## Muito mais...\n",
    "- `numpy.linalg` biblioteca de algebra linear\n",
    "   - resolução de sistema\n",
    "   - decomposição em eigen vetores\n",
    "- numpy.polynomial\n",
    "   - aritmétrica polynomial\n",
    "   - estimativa polynomial \n",
    "   - interpolação polynomial\n",
    "- numpy.fft\n",
    "   - transformação de Fourier \n",
    "- ...\n"
   ]
  },
  {
   "cell_type": "markdown",
   "metadata": {},
   "source": [
    "---\n",
    "## Matplotlib\n",
    "###  Introdução\n",
    "O <font color='blue'>matplotlib</font> é um pacote do python destinado a geração de gráficos. O <font color='blue'>matplotlib</font> possui vários submódulos, sendo o <font color='blue'>pyplot</font> um dos mais utilizados para construção de gráficos. A forma mais comum de importar o <font color='blue'>pyplot</font> é:\n",
    "```python\n",
    "import matplotlib.pyplot as plt  \n",
    "```\n",
    "O <font color='blue'>matplotlib</font> utiliza o <font color='blue'>numpy</font> como base, garantindo um bom desempenho computacional. Assim, os parâmetros empregados nos métodos do <font color='blue'>matplotlib</font> são arrays do <font color='blue'>numpy</font>. Se outros tipos, como listas e tuplas, forem enviadas como parâmetro, o  <font color='blue'>matplotlib</font> as converte internamente para arrays.\n",
    "\n",
    "\n",
    "Um tutorial sobre os métodos do <font color='blue'>pyplot</font> pode ser encontrado em  [https://matplotlib.org/users/pyplot_tutorial.html](https://matplotlib.org/users/pyplot_tutorial.html)"
   ]
  },
  {
   "cell_type": "markdown",
   "metadata": {},
   "source": [
    "### Plot\n",
    "O método <font color='blue'>plot</font> gera gráficos a partir de dois arrays de valores, um correspondendo às coordenadas no eixo horizontal e outro às coordenadas no eixo vertical.\n",
    "- supõe que os arrays enviados como parâmetros correspondem a valores discretos para os eixos horizontal e vertical\n",
    "    - se apenas um array é fornecido, o método automaticamente supõe valores inteiros igualmente espaçados no eixo horizontal\n",
    "- como todos os métodos do <font color='blue'>pyplot</font>, o método <font color='blue'>plot</font> admite um número grande de parâmetros que permitem personalizar o gráfico"
   ]
  },
  {
   "cell_type": "code",
   "execution_count": 17,
   "metadata": {},
   "outputs": [
    {
     "data": {
      "text/plain": [
       "[<matplotlib.lines.Line2D at 0x7f8d63ebd460>]"
      ]
     },
     "execution_count": 17,
     "metadata": {},
     "output_type": "execute_result"
    },
    {
     "data": {
      "image/png": "[encoded data removed]",
      "text/plain": [
       "<Figure size 640x480 with 1 Axes>"
      ]
     },
     "metadata": {},
     "output_type": "display_data"
    }
   ],
   "source": [
    "import numpy as np\n",
    "import matplotlib.pyplot as plt\n",
    "\n",
    "%matplotlib inline  \n",
    "         # o comando \"%matplotlib inline\" faz com que os gráficos fiquem \"embutidos\" no notebook, sem ele uma nova\n",
    "         # janela é criada para cada gráfico.\n",
    "\n",
    "x = np.linspace(-1,1,20) # array com 20 pontos igualmente espaçados no intervalo 0 e 1\n",
    "y = x**2                # valores elevados ao quadrado\n",
    "plt.plot(x,y)           # gera o gráfico dos valores (x,x**2)"
   ]
  },
  {
   "cell_type": "code",
   "execution_count": 18,
   "metadata": {},
   "outputs": [
    {
     "data": {
      "text/plain": [
       "[<matplotlib.lines.Line2D at 0x7f8d5bda9100>]"
      ]
     },
     "execution_count": 18,
     "metadata": {},
     "output_type": "execute_result"
    },
    {
     "data": {
      "image/png": "[encoded data removed]",
      "text/plain": [
       "<Figure size 640x480 with 1 Axes>"
      ]
     },
     "metadata": {},
     "output_type": "display_data"
    }
   ],
   "source": [
    "# parâmetros podem ser fornecidos para controlar a cor (color), expessura (linewidth) e \n",
    "# estilo da linha (linestyle) no gráfico\n",
    "plt.plot(x,y,color='red',linewidth = 5, linestyle = '--')"
   ]
  },
  {
   "cell_type": "code",
   "execution_count": 19,
   "metadata": {},
   "outputs": [
    {
     "data": {
      "text/plain": [
       "[<matplotlib.lines.Line2D at 0x7f8d5bd9ff70>]"
      ]
     },
     "execution_count": 19,
     "metadata": {},
     "output_type": "execute_result"
    },
    {
     "data": {
      "image/png": "[encoded data removed]",
      "text/plain": [
       "<Figure size 640x480 with 1 Axes>"
      ]
     },
     "metadata": {},
     "output_type": "display_data"
    }
   ],
   "source": [
    "# pode-se incluir marcadores (marker) para identificar os pares de valores fornecidos\n",
    "plt.plot(x,y,color='red', linestyle = '--',marker='o')"
   ]
  },
  {
   "cell_type": "code",
   "execution_count": 20,
   "metadata": {},
   "outputs": [
    {
     "data": {
      "text/plain": [
       "[None, None, None]"
      ]
     },
     "execution_count": 20,
     "metadata": {},
     "output_type": "execute_result"
    },
    {
     "data": {
      "image/png": "[encoded data removed]",
      "text/plain": [
       "<Figure size 640x480 with 1 Axes>"
      ]
     },
     "metadata": {},
     "output_type": "display_data"
    }
   ],
   "source": [
    "# Pode-se incluir diversos gráficos\n",
    "line_2_3 = plt.plot(x,y,x,x**4) # gera dois gráficos simultaneamente\n",
    "                                # um com os valores (x,y) e outro com (x,x**3)\n",
    "                                # armazenando o resultado em uma variável\n",
    "        \n",
    "plt.setp(line_2_3,color='red',linewidth = 2, linestyle = '--') # o comando \"setp\" especifica o estilo para todos\n",
    "                                                               # os gráficos referenciados pela variável criada\n",
    "\n",
    "line_4 = plt.plot(x,x**3)     # mais um gráfico é gerado\n",
    "plt.setp(line_4,color='orange',linewidth = 5, linestyle = ':') # com estilo diferente dos dois anteriores"
   ]
  },
  {
   "cell_type": "markdown",
   "metadata": {},
   "source": [
    "### Subplots\n",
    "O método <font color='blue'>subplot</font> possibilita organizar diversos gráficos em uma matriz de gráficos.\n",
    "Os parâmetros do método <font color='blue'>subplot</font> são:\n",
    "- 'num_rows': número de linhas na matriz de gráficos\n",
    "- 'num_cols': número de colunas na matriz de gráficos\n",
    "- 'subplot_number': índice do subplot na matriz linearizada"
   ]
  },
  {
   "cell_type": "code",
   "execution_count": 21,
   "metadata": {},
   "outputs": [
    {
     "data": {
      "text/plain": [
       "[<matplotlib.lines.Line2D at 0x7f8d5bb77dc0>]"
      ]
     },
     "execution_count": 21,
     "metadata": {},
     "output_type": "execute_result"
    },
    {
     "data": {
      "image/png": "[encoded data removed]",
      "text/plain": [
       "<Figure size 640x480 with 4 Axes>"
      ]
     },
     "metadata": {},
     "output_type": "display_data"
    }
   ],
   "source": [
    "import numpy as np\n",
    "import matplotlib.pyplot as plt\n",
    "%matplotlib inline  \n",
    "\n",
    "def f(t):\n",
    "    return(np.exp(-t) * np.cos(2.0*np.pi*t))\n",
    "\n",
    "t2 = np.linspace(0.0, 5.0, 100)\n",
    "\n",
    "plt.subplot(2, 2, 1)  # gera uma matriz 2x2 onde os gráficos serão exibidos e \n",
    "                      # ativa o elemento 1 (elemento superior esquerdo da matriz)\n",
    "                      # para que o gráfico seja gerado nele\n",
    "plt.plot(t2, f(t2), color='black', marker = 'o')\n",
    "\n",
    "plt.subplot(2, 2, 2)  # ativa o elemento 2 (elemento superior direito da matriz)\n",
    "                      # para que o gráfico seja gerado nele\n",
    "plt.plot(t2, np.cos(2.0*np.pi*t2), color='red', linestyle = '--')\n",
    "\n",
    "plt.subplot(2, 2, 3)  # ativa o elemento 3 (elemento inferior esquerdo da matriz)\n",
    "                      # para que o gráfico seja gerado nele\n",
    "plt.plot(t2, t2)\n",
    "\n",
    "plt.subplot(2, 2, 4)  # ativa o elemento 4 (elemento inferior direito da matriz)\n",
    "                      # para que o gráfico seja gerado nele\n",
    "plt.plot(t2, t2**2,marker='s',markersize=1)"
   ]
  },
  {
   "cell_type": "markdown",
   "metadata": {},
   "source": [
    "### Texto\n",
    "O método <font color='blue'>text</font> permite adicionar texto a um gráfico\n",
    "- Texto pode ser adicionado em qualquer local da figura\n",
    "- Características podem ser customizadas através dos parâmetros ou utilizando o método <font color='blue'>setp</font>\n",
    "- Os seguintes métodos são úteis para incluir e organizar textos em um gráfico:\n",
    "    - text() - adiciona texto  em uma localização expecífica\n",
    "    - xlabel() - adiciona um rótulo ao eixo horizontal\n",
    "    - ylabel() - adiciona um rótulo ao eixo vertical\n",
    "    - title() - adiciona um título ao gráfico\n",
    "    - annotate() - adiciona uma anotação (com uma seta opcional) \n",
    "- Várias [outras propriedades](https://matplotlib.org/api/text_api.html)"
   ]
  },
  {
   "cell_type": "code",
   "execution_count": 22,
   "metadata": {},
   "outputs": [
    {
     "data": {
      "image/png": "[encoded data removed]",
      "text/plain": [
       "<Figure size 640x480 with 1 Axes>"
      ]
     },
     "metadata": {},
     "output_type": "display_data"
    }
   ],
   "source": [
    "import numpy as np\n",
    "import matplotlib.pyplot as plt\n",
    "\n",
    "mu, sigma = 10.0, 1.0\n",
    "x = np.random.normal(mu,sigma,size=10000) # gera 10 mil números a partir de uma distribuição Gaussiana\n",
    "\n",
    "# gera um histograma de x\n",
    "plt.hist(x,50,density=1,facecolor='g',alpha=0.75) # o método\"hist\" gera um gráfico de histograma\n",
    "plt.xlabel('Smarts')         # rótulo do eixo horizontal\n",
    "plt.ylabel('Probability')    # rótulo do eixo vertical\n",
    "plt.title('Histogram of x')  # título da figura\n",
    "\n",
    "# posiciona o texto na posição (6.0, 0.35)\n",
    "plt.text(6.0, 0.35, 'mu=10, sigma=1.0')\n",
    "# define o intervalo de valores apresentados no eixo horizontal e vertical\n",
    "plt.axis([5, 15, 0, 0.5])\n",
    "\n",
    "# coloca uma grade no fundo da figura\n",
    "plt.grid(True)"
   ]
  },
  {
   "cell_type": "code",
   "execution_count": 23,
   "metadata": {},
   "outputs": [
    {
     "data": {
      "text/plain": [
       "Text(3, 1.3, 'max local')"
      ]
     },
     "execution_count": 23,
     "metadata": {},
     "output_type": "execute_result"
    },
    {
     "data": {
      "image/png": "[encoded data removed]",
      "text/plain": [
       "<Figure size 640x480 with 1 Axes>"
      ]
     },
     "metadata": {},
     "output_type": "display_data"
    }
   ],
   "source": [
    "import numpy as np\n",
    "import matplotlib.pyplot as plt\n",
    "\n",
    "#ax = plt.subplot(111)\n",
    "t = np.arange(0.0, 5.0, 0.01)\n",
    "s = np.cos(2*np.pi*t)\n",
    "\n",
    "plt.plot(t, s)   # gera o plot da funcao \n",
    "plt.axis([0.0, 5.0, -1.0, 1.5])  # define o intervalo de valores apresentados no eixo horizontal e vertical\n",
    "\n",
    "plt.annotate('max local', xy=(2.05,1.05), xytext=(3,1.3), # gera uma anotação\n",
    "             arrowprops=dict(facecolor='black'))"
   ]
  },
  {
   "cell_type": "markdown",
   "metadata": {},
   "source": [
    "### Legenda\n",
    "Legendas podem ser geradas de forma bastante simples com o métodos <font color='blue'>legend</font>"
   ]
  },
  {
   "cell_type": "code",
   "execution_count": 24,
   "metadata": {},
   "outputs": [
    {
     "data": {
      "text/plain": [
       "<matplotlib.legend.Legend at 0x7f8d5b9e28e0>"
      ]
     },
     "execution_count": 24,
     "metadata": {},
     "output_type": "execute_result"
    },
    {
     "data": {
      "image/png": "[encoded data removed]",
      "text/plain": [
       "<Figure size 640x480 with 1 Axes>"
      ]
     },
     "metadata": {},
     "output_type": "display_data"
    }
   ],
   "source": [
    "import numpy as np\n",
    "import matplotlib.pyplot as plt\n",
    "\n",
    "plt.plot([1,2,3],'o', label=\"label1\")\n",
    "plt.plot([4,3,2], label=\"label2\")\n",
    "\n",
    "plt.legend()"
   ]
  },
  {
   "cell_type": "markdown",
   "metadata": {},
   "source": [
    "__Outros plots úteis:__\n",
    "- bar()\n",
    "- scatter()\n",
    "- stackplot()\n",
    "- matshow()\n",
    "\n",
    "[Mais informações](https://realpython.com/python-matplotlib-guide/)"
   ]
  }
 ],
 "metadata": {
  "kernelspec": {
   "display_name": "Python 3 (ipykernel)",
   "language": "python",
   "name": "python3"
  },
  "language_info": {
   "codemirror_mode": {
    "name": "ipython",
    "version": 3
   },
   "file_extension": ".py",
   "mimetype": "text/x-python",
   "name": "python",
   "nbconvert_exporter": "python",
   "pygments_lexer": "ipython3",
   "version": "3.9.16"
  },
  "toc": {
   "base_numbering": 1,
   "nav_menu": {},
   "number_sections": true,
   "sideBar": true,
   "skip_h1_title": false,
   "title_cell": "Table of Contents",
   "title_sidebar": "Contents",
   "toc_cell": false,
   "toc_position": {},
   "toc_section_display": true,
   "toc_window_display": false
  }
 },
 "nbformat": 4,
 "nbformat_minor": 2
}
