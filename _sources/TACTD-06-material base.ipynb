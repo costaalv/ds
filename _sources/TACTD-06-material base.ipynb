{
 "cells": [
  {
   "cell_type": "markdown",
   "metadata": {
    "id": "CI3_fQDQIXbG"
   },
   "source": [
    "# <font color=\"blue\"> MBA em Ciência de Dados</font>\n",
    "# <font color=\"blue\">Técnicas Avançadas para Captura e Tratamento de Dados</font>\n",
    "\n",
    "## <font color=\"blue\"> Matriz Documento $\\times$ Palavras - Bag of Words</font>\n",
    "**Material Produzido por Luis Gustavo Nonato**<br>\n",
    "**Cemeai - ICMC/USP São Carlos**\n",
    "---"
   ]
  },
  {
   "cell_type": "markdown",
   "metadata": {
    "id": "fuD7jIQEIXbJ"
   },
   "source": [
    "---\n",
    "## Conteúdo\n",
    "- Introdução\n",
    "- Pré-processamento\n",
    "    - Extração de palavras\n",
    "    - Limpeza de símbolos\n",
    "    - Stemming\n",
    "- Construção da Matriz Documentos $\\times$ Palavras\n",
    "    - TF-IDF\n",
    "    - Remoção das palavras mais e menos frequentes\n",
    "    \n",
    "**Bibliografia**\n",
    "- https://www.nltk.org/book/"
   ]
  },
  {
   "cell_type": "markdown",
   "metadata": {
    "id": "6TKKcIfnIXbJ"
   },
   "source": [
    "Os códigos abaixo fazem uso da coleção de documentos presente no diretório `DocCol1` contido no arquivo <font style=\"font-family: monaco\"> DocCol.zip</font>, o qual pode ser baixado do Moodle."
   ]
  },
  {
   "cell_type": "markdown",
   "metadata": {
    "id": "JEBE-S8UIXbK"
   },
   "source": [
    "## Introdução\n",
    "Analisar, comparar e agrupar documentos textuais com base na similaridade de seus conteúdos são tarefas essenciais em muitas aplicações, como análise de sentimentos, levantamento de fatos históricos, dentre outras. \n",
    "\n",
    "Porém, documentos são conjuntos de textos no formato ASCII (ou pondem ser transformados para o formato ASCII), portanto, são dados não estruturados, o que dificulta as tarefas de análise e comparação. Desta forma, é necessário \"vetorizar\" textos a fim de viabilizar o emprego de processos matemáticos e computacionais como forma de tratamento e análise.\n",
    "\n",
    "Um mecanismo bastante importante para \"vetorizar\" documentos é a construção das chamadas matrizes <font color='blue'>Documentos $\\times$ Palavras</font>.\n",
    "\n",
    "O processo de vetorização envolve a extração de palavras relevantes contidas nos textos, descartando símbolos, pontuação, artigos, preposições, pronomes, etc."
   ]
  },
  {
   "cell_type": "markdown",
   "metadata": {
    "id": "vnPTZrKGIXbK"
   },
   "source": [
    "## Pré-processamento\n",
    "A construção de uma matriz Documentos $\\times$ Palavras envolve diversas etapas de pré-processamento:\n",
    "\n",
    "1. Obter a \"string\" correspondente ao texto de cada documento\n",
    "2. Extrair as palavras de cada string\n",
    "3. Remover pontuação e símbolos\n",
    "4. Remover \"Stop Words\"\n",
    "5. Extrair bigramas, trigramas, ...\n",
    "5. Normalização Léxica"
   ]
  },
  {
   "cell_type": "markdown",
   "metadata": {
    "id": "oa7bmIOiIXbK"
   },
   "source": [
    "### Obtendo String a partir de Coleção de Documentos\n",
    "\n",
    "O diretório `DocCol1` contém um conjunto de documentos relacionados a dois tópicos distintos, desenvolvimento espacial (arquivos com as iniciais _sp_) e esportores (arquivos com as iniciais _ba_). O código abaixo carrega todos os documentos e concatena em uma única string."
   ]
  },
  {
   "cell_type": "code",
   "execution_count": 1,
   "metadata": {
    "colab": {
     "base_uri": "https://localhost:8080/"
    },
    "executionInfo": {
     "elapsed": 277,
     "status": "ok",
     "timestamp": 1684517331869,
     "user": {
      "displayName": "Edesio Alcobaça",
      "userId": "01399819462464777505"
     },
     "user_tz": 180
    },
    "id": "kPJQhAmpIXbL",
    "outputId": "54c91b04-ec3b-432c-9e43-2edf7586b95e"
   },
   "outputs": [
    {
     "name": "stdout",
     "output_type": "stream",
     "text": [
      "['DocCol1/ba27', 'DocCol1/ba2', 'DocCol1/ba6', 'DocCol1/ba29', 'DocCol1/ba9']\n"
     ]
    }
   ],
   "source": [
    "# Lendo o documento como uma string\n",
    "import glob  # glob é um pacote que permite varrer arquivos e diretorios\n",
    "\n",
    "files = glob.glob(\"DocCol1/*\")  # O diretório contém um conjunto de documentos já no formato ASCII\n",
    "print(files[:5])\n",
    "\n",
    "docs = ''\n",
    "for fname in files:\n",
    "    with open(fname,'r') as f:\n",
    "        docs = docs+' '+f.read()  # todos os documentos\n",
    "                                  # são concatenadas na string 'docs'"
   ]
  },
  {
   "cell_type": "markdown",
   "metadata": {
    "id": "4ex1qtw3IXbM"
   },
   "source": [
    "### Extraindo Palavras\n",
    "\n",
    "Uma etapa importante do processo de construção de uma matriz <font color='blue'>Documentos $\\times$ Palavras</font> é a identificação das palavras, separando-as dos símbolos, números, etc. O pacote <font color='blue'>nltk</font> do Python possui diversos métodos para processar conjuntos de palavras, incluindo <font color='blue'>word_tokenize</font> que separa as palavras, símbolos, números e outros ''tokens''."
   ]
  },
  {
   "cell_type": "code",
   "execution_count": 3,
   "metadata": {
    "colab": {
     "base_uri": "https://localhost:8080/"
    },
    "executionInfo": {
     "elapsed": 666,
     "status": "ok",
     "timestamp": 1684517332797,
     "user": {
      "displayName": "Edesio Alcobaça",
      "userId": "01399819462464777505"
     },
     "user_tz": 180
    },
    "id": "xG-BVkc2IXbM",
    "outputId": "d06b64fc-4bce-4348-d87c-22b1d8347e8a"
   },
   "outputs": [
    {
     "name": "stderr",
     "output_type": "stream",
     "text": [
      "[nltk_data] Downloading package punkt to /home/alvaro/nltk_data...\n",
      "[nltk_data]   Package punkt is already up-to-date!\n"
     ]
    },
    {
     "name": "stdout",
     "output_type": "stream",
     "text": [
      "['From', ':', 'rudy', '@', 'netcom.com', '(', 'Rudy', 'Wade', ')', 'Subject', ':', 'Re', ':', 'Bases', 'loaded', 'walk', 'gives', 'Reds', 'win', 'in']\n"
     ]
    }
   ],
   "source": [
    "# nltk.word_tokenize transforma a string em uma lista de palavras\n",
    "import nltk\n",
    "nltk.download('punkt')\n",
    "\n",
    "words = nltk.word_tokenize(docs) # extrai as palavras\n",
    "print(words[:20])    # 20 primeiras palavras extraidas"
   ]
  },
  {
   "cell_type": "markdown",
   "metadata": {
    "id": "tJHxQrQOIXbM"
   },
   "source": [
    "### Removendo Símbolos e Caracteres Isolados\n",
    "\n",
    "O resultado do método <font color='blue'>word_tokenize</font> é uma lista onde cada elemento é um ''token''. Para limparmos a lista de modo a preservarmos somente as plavras (removendo símbolos, etc.) utilizando o pacote <font color='blue'>string</font> do Python."
   ]
  },
  {
   "cell_type": "code",
   "execution_count": 4,
   "metadata": {
    "colab": {
     "base_uri": "https://localhost:8080/"
    },
    "executionInfo": {
     "elapsed": 11,
     "status": "ok",
     "timestamp": 1684517332798,
     "user": {
      "displayName": "Edesio Alcobaça",
      "userId": "01399819462464777505"
     },
     "user_tz": 180
    },
    "id": "yfKWCyzRIXbM",
    "outputId": "0ba55982-b7d4-45fe-c564-679f657b849a"
   },
   "outputs": [
    {
     "name": "stdout",
     "output_type": "stream",
     "text": [
      "['from', 'rudy', 'rudy', 'wade', 'subject', 're', 'bases', 'loaded', 'walk', 'gives', 'reds', 'win', 'in', 'in', 'article', 'tedward', 'edward', 'ted', 'fischer', 'writes']\n"
     ]
    }
   ],
   "source": [
    "import string\n",
    "# removend todos os simbolos da lista de palavras\n",
    "# o método \"isalpha\" retorna True quando a string é \n",
    "# formada apenas por letras do alphabeto\n",
    "# string.ascii_letters contém a lista de todas as letras do alphabeto\n",
    "\n",
    "# remove simbolos da\n",
    "# lista de palavras\n",
    "words = [w.lower() for w in words if w.isalpha() and w not in string.ascii_letters]  \n",
    "\n",
    "print(words[:20])"
   ]
  },
  {
   "cell_type": "markdown",
   "metadata": {
    "id": "aXqDKKvkIXbN"
   },
   "source": [
    "### Removendo Stop Words\n",
    "Algumas palavras não contribuem para a semântica dos documentos e devem ser removidas, pois geram um ruído que atrapalha as análises. O método <font color='blue'> stopwords </font> do pacote <font color='blue'> nltk </font> fornece, para várias línguas diferentes, uma lista do que se considera palavras irrelevântes para fins de análise semântica."
   ]
  },
  {
   "cell_type": "code",
   "execution_count": 5,
   "metadata": {
    "colab": {
     "base_uri": "https://localhost:8080/"
    },
    "executionInfo": {
     "elapsed": 321,
     "status": "ok",
     "timestamp": 1684517333114,
     "user": {
      "displayName": "Edesio Alcobaça",
      "userId": "01399819462464777505"
     },
     "user_tz": 180
    },
    "id": "l4igQFwVIXbN",
    "outputId": "194b0abb-44a4-453a-a2a4-ba9e280e91db"
   },
   "outputs": [
    {
     "name": "stdout",
     "output_type": "stream",
     "text": [
      "['i', 'me', 'my', 'myself', 'we']\n",
      "Palavras Relevantes\n",
      " ['rudy', 'rudy', 'wade', 'subject', 'bases', 'loaded', 'walk', 'gives', 'reds', 'win', 'article', 'tedward', 'edward', 'ted', 'fischer', 'writes', 'article', 'mss', 'mark', 'singer']\n"
     ]
    },
    {
     "name": "stderr",
     "output_type": "stream",
     "text": [
      "[nltk_data] Downloading package stopwords to /home/alvaro/nltk_data...\n",
      "[nltk_data]   Package stopwords is already up-to-date!\n"
     ]
    }
   ],
   "source": [
    "from nltk.corpus import stopwords\n",
    "nltk.download('stopwords')\n",
    "\n",
    "# lista das stop words\n",
    "stop_words = stopwords.words('english')\n",
    "print(stop_words[:5])\n",
    "\n",
    "words = [w for w in words if w not in stop_words] # removendo palavras irrelevantes da lista\n",
    "print('Palavras Relevantes\\n',words[:20])                                 # de palavras"
   ]
  },
  {
   "cell_type": "markdown",
   "metadata": {
    "id": "ZqJXeKvfIXbN"
   },
   "source": [
    "### Bigramas, Trigramas, ...\n",
    "Algumas expressões compostas por duas (bigramas) ou mais palavras (n-gramas) contém grande significado semântico, sendo interessante mantê-las juntas na lista de palavras relevantes. O pacote <font color='blue'> nltk </font> contém métodos específicos para extrair bigramas, trigramas, etc."
   ]
  },
  {
   "cell_type": "code",
   "execution_count": 6,
   "metadata": {
    "colab": {
     "base_uri": "https://localhost:8080/"
    },
    "executionInfo": {
     "elapsed": 6,
     "status": "ok",
     "timestamp": 1684517333115,
     "user": {
      "displayName": "Edesio Alcobaça",
      "userId": "01399819462464777505"
     },
     "user_tz": 180
    },
    "id": "T4Wt0gXHIXbN",
    "outputId": "31a09df9-30b0-43ca-a852-812e19735ecc"
   },
   "outputs": [
    {
     "name": "stdout",
     "output_type": "stream",
     "text": [
      "['national space', 'degrees fahrenheit', 'space center', 'astronomical society', 'degrees celsius', 'dewey larson', 'mark singer', 'thu apr', 'celsius degrees', 'jon leech']\n"
     ]
    }
   ],
   "source": [
    "from nltk import word_tokenize\n",
    "from nltk.collocations import * # collocations é o subpacote para \n",
    "                                # manipular n-gramas\n",
    "\n",
    "# BigramAssocMeasures() possui medidas de importância para n-gramas\n",
    "bigram_measures = nltk.collocations.BigramAssocMeasures() \n",
    "\n",
    "# encontrando os top 20 bigramas\n",
    "finder = BigramCollocationFinder.from_words(words)\n",
    "for i in finder.nbest(bigram_measures.raw_freq,20):\n",
    "    words.append(i[0].lower()+' '+i[1].lower())\n",
    "    \n",
    "print(words[-10:])"
   ]
  },
  {
   "cell_type": "markdown",
   "metadata": {
    "id": "CBiPwVtuIXbO"
   },
   "source": [
    "## Normalização Léxica\n",
    "\n",
    "Existem vários métodos de normalização lexica, sendo que _Stemming_ e _Lematização_ estão entre os mais relevantes. Nos exemplos abaixo utilizaremos o método de _Stemming_. Informações e conceitos sobre _Lematização_ podem ser encontrados [aqui](https://www.datacamp.com/community/tutorials/text-analytics-beginners-nltk)"
   ]
  },
  {
   "cell_type": "markdown",
   "metadata": {
    "id": "e2vGJQ5lIXbO"
   },
   "source": [
    "### Stemming\n",
    "O processo de stemming busca converter as palavras para sua forma base, por exemplo: \n",
    "\n",
    "ando, andando, andei, andarei $\\longrightarrow$ andar\n",
    "\n",
    "O pacote <font color='blue'>nltk</font> possui o método <font color='blue'>PorterStemmer</font> que executa o steeming das palavras."
   ]
  },
  {
   "cell_type": "code",
   "execution_count": 7,
   "metadata": {
    "colab": {
     "base_uri": "https://localhost:8080/"
    },
    "executionInfo": {
     "elapsed": 738,
     "status": "ok",
     "timestamp": 1684517334193,
     "user": {
      "displayName": "Edesio Alcobaça",
      "userId": "01399819462464777505"
     },
     "user_tz": 180
    },
    "id": "SRQiOd_9IXbO",
    "outputId": "1d0634c2-f85b-4432-d54c-e6e8b4a64c68"
   },
   "outputs": [
    {
     "name": "stdout",
     "output_type": "stream",
     "text": [
      "['rudi', 'rudi', 'wade', 'subject', 'base', 'load', 'walk', 'give', 'red', 'win', 'articl', 'tedward', 'edward', 'ted', 'fischer', 'write', 'articl', 'mss', 'mark', 'singer', 'write', 'quot', 'futur', 'refer', 'shown', 'consist', 'past', 'overal', 'perform', 'split', 'even', 'match', 'style', 'give', 'advantag', 'use', 'properli', 'predict', 'futur', 'next', 'predict', 'sabo', 'like', 'get', 'hit', 'samuel', 'believ', 'one', 'two', 'thing', 'sabo', 'like', 'samuel', 'get', 'hit', 'good', 'would', 'done', 'long', 'run', 'leav', 'sabo', 'regardless', 'expect', 'actual', 'outcom', 'fact', 'know', 'perez', 'mind', 'left', 'sabo', 'support', 'swap', 'predict', 'opposit', 'fact', 'think', 'anyon', 'claim', 'predict', 'futur', 'particular', 'futur', 'event', 'believ', 'certain', 'trend', 'due', 'caus', 'whether', 'identifi', 'caus', 'therefor', 'continu', 'dismiss', 'work', 'state', 'opinion', 'say']\n"
     ]
    }
   ],
   "source": [
    "from nltk.stem import PorterStemmer\n",
    "\n",
    "words = [PorterStemmer().stem(w) for w in words]\n",
    "print(words[:100])"
   ]
  },
  {
   "cell_type": "markdown",
   "metadata": {
    "id": "LqwDV3XfIXbO"
   },
   "source": [
    "## Construindo a Matriz Documentos $\\times$ Palavras\n",
    "A contrução de uma \"Bag of Words\" (matrix Documentos $\\times$ Palavras) é feita aplicando todos os passos acima em cada documento, juntando todas as informações em um DataFrame (ou array) onde as linhas representam os documentos e as colunas o conjunto de palavras. Cada entrada $(i,j)$ do DataFrame representa o número de vezes que a palavra $j$ aparece no documento $i$, ou seja:\n",
    "\n",
    "$$\n",
    "\\begin{array}{c}\\\\\n",
    "Doc_1\\\\\n",
    "Doc_2\\\\\n",
    "\\vdots\\\\\n",
    "Doc_n\n",
    "\\end{array}\n",
    "\\quad\\Longrightarrow\\quad\n",
    "\\begin{array}{lcccc}\n",
    "     & palavra_1 & palavra_2 & \\cdots & palavra_m\\\\\n",
    "Doc_1 & 0 & 2 &  & 0\\\\ \n",
    "Doc_2 & 3 & 0 &  & 1\\\\\n",
    "      &   &   & \\vdots & \\\\\n",
    "Doc_n & 0 & 0 &  & 0\\\\     \n",
    "\\end{array}\n",
    "$$"
   ]
  },
  {
   "cell_type": "code",
   "execution_count": 8,
   "metadata": {
    "colab": {
     "base_uri": "https://localhost:8080/"
    },
    "executionInfo": {
     "elapsed": 2441,
     "status": "ok",
     "timestamp": 1684517336625,
     "user": {
      "displayName": "Edesio Alcobaça",
      "userId": "01399819462464777505"
     },
     "user_tz": 180
    },
    "id": "1uMe2c4dIXbP",
    "outputId": "b1d83ae7-ca36-4a64-e566-f03ebf0af67b"
   },
   "outputs": [
    {
     "name": "stdout",
     "output_type": "stream",
     "text": [
      "ba27 --> {'rudi': 3, 'wade': 1, 'subject': 2, 'base': 3, 'load': 1, 'walk': 1, 'give': 3, 'red': 1, 'win': 1, 'articl': 2, 'tedward': 1, 'edward': 1, 'ted': 1, 'fischer': 1, 'write': 2, 'mss': 1, 'mark': 4, 'singer': 1, 'quot': 1, 'futur': 6, 'refer': 1, 'shown': 1, 'consist': 3, 'past': 3, 'overal': 2, 'perform': 5, 'split': 2, 'even': 2, 'match': 1, 'style': 1, 'advantag': 1, 'use': 1, 'properli': 1, 'predict': 9, 'next': 3, 'ab': 1, 'sabo': 6, 'like': 3, 'get': 3, 'hit': 9, 'samuel': 2, 'believ': 4, 'one': 5, 'two': 1, 'thing': 1, 'good': 1, 'would': 4, 'done': 1, 'long': 1, 'run': 2, 'leav': 1, 'regardless': 1, 'expect': 3, 'actual': 1, 'outcom': 1, 'fact': 2, 'know': 4, 'perez': 1, 'mind': 3, 'left': 1, 'support': 1, 'swap': 1, 'opposit': 2, 'think': 6, 'anyon': 1, 'claim': 2, 'particular': 2, 'event': 1, 'certain': 2, 'trend': 1, 'due': 1, 'caus': 2, 'whether': 3, 'identifi': 1, 'therefor': 1, 'continu': 2, 'dismiss': 1, 'work': 5, 'state': 3, 'opinion': 5, 'say': 4, 'render': 1, 'contrari': 1, 'invalid': 1, 'retent': 1, 'kind': 2, 'insult': 3, 'well': 4, 'ye': 2, 'awar': 1, 'exist': 4, 'incap': 1, 'understand': 1, 'though': 2, 'suspect': 1, 'simpli': 3, 'unwil': 2, 'yet': 2, 'rather': 1, 'forc': 1, 'seem': 1, 'worth': 1, 'read': 1, 'obvious': 1, 'feel': 1, 'topic': 1, 'import': 1, 'see': 8, 'peopl': 1, 'silli': 1, 'call': 2, 'total': 2, 'idiot': 2, 'stupid': 1, 'chang': 1, 'skill': 1, 'said': 1, 'indic': 4, 'set': 1, 'circumst': 2, 'right': 1, 'beef': 1, 'proven': 1, 'least': 1, 'none': 1, 'abl': 1, 'come': 1, 'pleas': 1, 'let': 1, 'us': 2, 'secret': 1, 'player': 4, 'better': 2, 'tuesday': 3, 'alway': 3, 'might': 4, 'season': 2, 'respond': 1, 'way': 1, 'point': 1, 'admit': 1, 'variabl': 1, 'known': 1, 'guy': 2, 'everi': 1, 'monday': 2, 'night': 2, 'mayb': 1, 'sport': 1, 'shrink': 1, 'morn': 1, 'vitamin': 1, 'b': 1, 'shot': 1, 'someth': 1, 'true': 1, 'mean': 2, 'meaning': 1, 'correl': 5, 'entir': 1, 'leagu': 2, 'day': 1, 'week': 1, 'ca': 3, 'make': 4, 'end': 1, 'chri': 2, 'bat': 5, 'averag': 5, 'clutch': 6, 'situat': 5, 'significantli': 2, 'lower': 1, 'prove': 3, 'happen': 1, 'guess': 1, 'wait': 1, 'year': 4, 'batter': 2, 'xxx': 1, 'amount': 1, 'wors': 1, 'anyth': 2, 'anoth': 1, 'joe': 2, 'carter': 2, 'presum': 1, 'random': 1, 'go': 2, 'case': 1, 'analysi': 1, 'sure': 1, 'find': 3, 'somebodi': 1, 'poorli': 3, 'also': 1, 'exactli': 1, 'tri': 1, 'hitter': 2, 'ask': 1, 'major': 1, 'ballplay': 1, 'high': 1, 'ba': 2, 'gambler': 2, 'fallaci': 2, 'unless': 1, 'reason': 4, 'huh': 1, 'deni': 2, 'argument': 2, 'noth': 1, 'seen': 1, 'detail': 1, 'studi': 1, 'someon': 1, 'post': 1, 'recent': 1, 'neg': 1, 'along': 1, 'line': 1, 'star': 1, 'advers': 1, 'condit': 1, 'late': 1, 'inning': 1, 'close': 1, 'game': 1, 'oppos': 1, 'manag': 2, 'bring': 1, 'ah': 1, 'pitcher': 1, 'face': 1, 'pull': 1, 'ph': 1, 'consid': 1, 'evid': 1, 'suggest': 1, 'wrong': 1, 'term': 2, 'fit': 3, 'nice': 1, 'tell': 1, 'open': 2, 'shoe': 1, 'wear': 1}\n"
     ]
    }
   ],
   "source": [
    "# constuindo um dicionario onde a chave é o rótulo do documento e o valor \n",
    "# as palavras que ocorrem no documento\n",
    "import os\n",
    "import glob\n",
    "import nltk\n",
    "from nltk.corpus import stopwords\n",
    "from nltk.stem import PorterStemmer\n",
    "from collections import Counter\n",
    "\n",
    "# lista das stop words\n",
    "stop_words = stopwords.words('english')\n",
    "\n",
    "files = glob.glob(\"DocCol1/*\")  # vamos utilizar os documento que estão no diretório DocCol3 \n",
    "\n",
    "ddocs = {}\n",
    "for fname in files:\n",
    "    key = fname.split(os.sep)[-1]  # rotulo do documento\n",
    "    with open(fname,'r') as f:  # obtendo a lista de palavras processadas de cada documento\n",
    "        doc = f.read()\n",
    "        # obtendo palavras do documento\n",
    "        words = nltk.word_tokenize(doc) \n",
    "        # removendo simbolos\n",
    "        words = [w.lower() for w in words if w.isalpha()] \n",
    "        # removendo stop words\n",
    "        words = [w for w in words if w not in stop_words]\n",
    "        # stemming\n",
    "        words = [PorterStemmer().stem(w) for w in words]\n",
    "        # calculando a frequência de palavras\n",
    "        ddocs[key] = dict(Counter(words))\n",
    "      \n",
    "print(list(ddocs.keys())[0],'-->',ddocs[list(ddocs.keys())[0]])\n",
    "\n",
    "# No processo acima não incluimos bigramas ou trigramas. \n",
    "# Como exercício, modifique o processo para incorporar\n",
    "# bigramas ou trigramas"
   ]
  },
  {
   "cell_type": "markdown",
   "metadata": {
    "id": "aOwSJL4cIXbP"
   },
   "source": [
    "A variável `ddocs` é um dicionário onde cada chave é o nome de um documento e o valor correspondente é um outro dicionário, cuja chave é uma palavra relevante do documento e o valor o número de ocorrências da palavra no documeto. Ou seja:\n",
    "```\n",
    "{\n",
    "    'Doc1' : {p1: np1, p2:np2,...}\n",
    "    'Doc2' : {p1: np1, p5:np2,...}\n",
    "      :\n",
    "      :\n",
    "}\n",
    "```"
   ]
  },
  {
   "cell_type": "code",
   "execution_count": 9,
   "metadata": {
    "colab": {
     "base_uri": "https://localhost:8080/"
    },
    "executionInfo": {
     "elapsed": 24,
     "status": "ok",
     "timestamp": 1684517336626,
     "user": {
      "displayName": "Edesio Alcobaça",
      "userId": "01399819462464777505"
     },
     "user_tz": 180
    },
    "id": "5EplPUSWIXbP",
    "outputId": "64aff564-d538-42c3-f156-a9f9d26725d1"
   },
   "outputs": [
    {
     "name": "stdout",
     "output_type": "stream",
     "text": [
      "['enlarg', 'increment', 'liftoff', 'dim', 'duplic', 'human', 'nast', 'nurs', 'joint', 'shane']\n"
     ]
    }
   ],
   "source": [
    "# constrindo a lista de todas as palavras\n",
    "# precisamos desta lista para definir as colunas do DataFrame Documentos X Palavras\n",
    "corpus = []\n",
    "\n",
    "for v in ddocs.values():\n",
    "    corpus.extend(list(v.keys()))  # juntando as listas de \n",
    "                                   # palavras de cada documento\n",
    "    \n",
    "corpus = list(set(corpus)) # removendo palavras repetidas\n",
    "print(corpus[:10])"
   ]
  },
  {
   "cell_type": "code",
   "execution_count": 10,
   "metadata": {
    "colab": {
     "base_uri": "https://localhost:8080/",
     "height": 236
    },
    "executionInfo": {
     "elapsed": 19,
     "status": "ok",
     "timestamp": 1684517336626,
     "user": {
      "displayName": "Edesio Alcobaça",
      "userId": "01399819462464777505"
     },
     "user_tz": 180
    },
    "id": "VkRadtYuIXbP",
    "outputId": "bc2c63fb-b723-4511-f652-882bc5ad891e"
   },
   "outputs": [
    {
     "data": {
      "text/html": [
       "<div>\n",
       "<style scoped>\n",
       "    .dataframe tbody tr th:only-of-type {\n",
       "        vertical-align: middle;\n",
       "    }\n",
       "\n",
       "    .dataframe tbody tr th {\n",
       "        vertical-align: top;\n",
       "    }\n",
       "\n",
       "    .dataframe thead th {\n",
       "        text-align: right;\n",
       "    }\n",
       "</style>\n",
       "<table border=\"1\" class=\"dataframe\">\n",
       "  <thead>\n",
       "    <tr style=\"text-align: right;\">\n",
       "      <th></th>\n",
       "      <th>enlarg</th>\n",
       "      <th>increment</th>\n",
       "      <th>liftoff</th>\n",
       "      <th>dim</th>\n",
       "      <th>duplic</th>\n",
       "      <th>human</th>\n",
       "      <th>nast</th>\n",
       "      <th>nurs</th>\n",
       "      <th>joint</th>\n",
       "      <th>shane</th>\n",
       "      <th>...</th>\n",
       "      <th>samuel</th>\n",
       "      <th>ecu</th>\n",
       "      <th>radioastronomi</th>\n",
       "      <th>axi</th>\n",
       "      <th>norton</th>\n",
       "      <th>deep</th>\n",
       "      <th>chemistri</th>\n",
       "      <th>mlb</th>\n",
       "      <th>activist</th>\n",
       "      <th>pagnozzi</th>\n",
       "    </tr>\n",
       "  </thead>\n",
       "  <tbody>\n",
       "    <tr>\n",
       "      <th>ba27</th>\n",
       "      <td>0</td>\n",
       "      <td>0</td>\n",
       "      <td>0</td>\n",
       "      <td>0</td>\n",
       "      <td>0</td>\n",
       "      <td>0</td>\n",
       "      <td>0</td>\n",
       "      <td>0</td>\n",
       "      <td>0</td>\n",
       "      <td>0</td>\n",
       "      <td>...</td>\n",
       "      <td>2</td>\n",
       "      <td>0</td>\n",
       "      <td>0</td>\n",
       "      <td>0</td>\n",
       "      <td>0</td>\n",
       "      <td>0</td>\n",
       "      <td>0</td>\n",
       "      <td>0</td>\n",
       "      <td>0</td>\n",
       "      <td>0</td>\n",
       "    </tr>\n",
       "    <tr>\n",
       "      <th>ba2</th>\n",
       "      <td>0</td>\n",
       "      <td>0</td>\n",
       "      <td>0</td>\n",
       "      <td>0</td>\n",
       "      <td>0</td>\n",
       "      <td>0</td>\n",
       "      <td>1</td>\n",
       "      <td>0</td>\n",
       "      <td>0</td>\n",
       "      <td>0</td>\n",
       "      <td>...</td>\n",
       "      <td>0</td>\n",
       "      <td>0</td>\n",
       "      <td>0</td>\n",
       "      <td>0</td>\n",
       "      <td>0</td>\n",
       "      <td>1</td>\n",
       "      <td>0</td>\n",
       "      <td>0</td>\n",
       "      <td>0</td>\n",
       "      <td>0</td>\n",
       "    </tr>\n",
       "    <tr>\n",
       "      <th>ba6</th>\n",
       "      <td>0</td>\n",
       "      <td>0</td>\n",
       "      <td>0</td>\n",
       "      <td>0</td>\n",
       "      <td>0</td>\n",
       "      <td>0</td>\n",
       "      <td>0</td>\n",
       "      <td>0</td>\n",
       "      <td>0</td>\n",
       "      <td>0</td>\n",
       "      <td>...</td>\n",
       "      <td>0</td>\n",
       "      <td>0</td>\n",
       "      <td>0</td>\n",
       "      <td>0</td>\n",
       "      <td>0</td>\n",
       "      <td>0</td>\n",
       "      <td>0</td>\n",
       "      <td>0</td>\n",
       "      <td>0</td>\n",
       "      <td>0</td>\n",
       "    </tr>\n",
       "    <tr>\n",
       "      <th>ba29</th>\n",
       "      <td>0</td>\n",
       "      <td>0</td>\n",
       "      <td>0</td>\n",
       "      <td>0</td>\n",
       "      <td>0</td>\n",
       "      <td>0</td>\n",
       "      <td>0</td>\n",
       "      <td>0</td>\n",
       "      <td>0</td>\n",
       "      <td>0</td>\n",
       "      <td>...</td>\n",
       "      <td>0</td>\n",
       "      <td>0</td>\n",
       "      <td>0</td>\n",
       "      <td>0</td>\n",
       "      <td>0</td>\n",
       "      <td>0</td>\n",
       "      <td>0</td>\n",
       "      <td>0</td>\n",
       "      <td>0</td>\n",
       "      <td>0</td>\n",
       "    </tr>\n",
       "    <tr>\n",
       "      <th>ba9</th>\n",
       "      <td>0</td>\n",
       "      <td>0</td>\n",
       "      <td>0</td>\n",
       "      <td>0</td>\n",
       "      <td>1</td>\n",
       "      <td>0</td>\n",
       "      <td>0</td>\n",
       "      <td>0</td>\n",
       "      <td>0</td>\n",
       "      <td>0</td>\n",
       "      <td>...</td>\n",
       "      <td>0</td>\n",
       "      <td>0</td>\n",
       "      <td>0</td>\n",
       "      <td>0</td>\n",
       "      <td>0</td>\n",
       "      <td>0</td>\n",
       "      <td>0</td>\n",
       "      <td>0</td>\n",
       "      <td>0</td>\n",
       "      <td>0</td>\n",
       "    </tr>\n",
       "  </tbody>\n",
       "</table>\n",
       "<p>5 rows × 6686 columns</p>\n",
       "</div>"
      ],
      "text/plain": [
       "      enlarg  increment  liftoff  dim  duplic  human  nast  nurs  joint  \\\n",
       "ba27       0          0        0    0       0      0     0     0      0   \n",
       "ba2        0          0        0    0       0      0     1     0      0   \n",
       "ba6        0          0        0    0       0      0     0     0      0   \n",
       "ba29       0          0        0    0       0      0     0     0      0   \n",
       "ba9        0          0        0    0       1      0     0     0      0   \n",
       "\n",
       "      shane  ...  samuel  ecu  radioastronomi  axi  norton  deep  chemistri  \\\n",
       "ba27      0  ...       2    0               0    0       0     0          0   \n",
       "ba2       0  ...       0    0               0    0       0     1          0   \n",
       "ba6       0  ...       0    0               0    0       0     0          0   \n",
       "ba29      0  ...       0    0               0    0       0     0          0   \n",
       "ba9       0  ...       0    0               0    0       0     0          0   \n",
       "\n",
       "      mlb  activist  pagnozzi  \n",
       "ba27    0         0         0  \n",
       "ba2     0         0         0  \n",
       "ba6     0         0         0  \n",
       "ba29    0         0         0  \n",
       "ba9     0         0         0  \n",
       "\n",
       "[5 rows x 6686 columns]"
      ]
     },
     "execution_count": 10,
     "metadata": {},
     "output_type": "execute_result"
    }
   ],
   "source": [
    "# construindo um DataFrame onde os rótulos das colunas são\n",
    "# as palavras e os das linhas os documentos\n",
    "import pandas as pd\n",
    "import numpy as np\n",
    "\n",
    "rows = list(ddocs.keys())\n",
    "\n",
    "BoW = pd.DataFrame(data=np.zeros((len(rows),len(corpus))),\n",
    "                   columns=corpus,index=rows,dtype=int)\n",
    "\n",
    "for k in ddocs.keys():\n",
    "    BoW.loc[k,list(ddocs[k].keys())] = list(ddocs[k].values())\n",
    "\n",
    "BoW.head()  \n",
    "\n",
    "#BoW.to_csv('bag_of_words.csv')"
   ]
  },
  {
   "cell_type": "markdown",
   "metadata": {
    "id": "6VZF97fFIXbQ"
   },
   "source": [
    "### Removendo palavras mais e menos frequentes\n",
    "Palavras que aparecem em apenas um documento ou que aparece em quase todos os documentos não são úteis para discriminar os documentos, sendo necessário removê-las."
   ]
  },
  {
   "cell_type": "code",
   "execution_count": 11,
   "metadata": {
    "colab": {
     "base_uri": "https://localhost:8080/"
    },
    "executionInfo": {
     "elapsed": 17,
     "status": "ok",
     "timestamp": 1684517336626,
     "user": {
      "displayName": "Edesio Alcobaça",
      "userId": "01399819462464777505"
     },
     "user_tz": 180
    },
    "id": "seBSEM29IXbQ",
    "outputId": "8fc86ca6-33da-442b-8172-1aedd4a84429"
   },
   "outputs": [
    {
     "name": "stdout",
     "output_type": "stream",
     "text": [
      "Foram removidas 3006 palavras\n"
     ]
    }
   ],
   "source": [
    "frequency = BoW.sum(axis=0) # conta o número de vezes que cada palavra aparece no corpus\n",
    "smaller = 1.0               # palavras que aparecem \"smaller\" ou menos vezes serão removidas\n",
    "larger = 0.7*BoW.shape[0]   # palavras que aparecem \"larger\" ou mais vezes serão removidas\n",
    "\n",
    "s_mask = (frequency <= smaller) | (frequency >= larger)  # mascara boleana indicando as palavras\n",
    "words_to_remove = frequency[s_mask].index.values         # que serão removidas\n",
    "\n",
    "m = BoW.shape[1]\n",
    "BoW = BoW.drop(words_to_remove, axis=1)  # remove as colunas do DataFrame correspondentes \n",
    "                                         # as palavras que devem ser removidas\n",
    "print('Foram removidas',m-BoW.shape[1],'palavras')"
   ]
  },
  {
   "cell_type": "markdown",
   "metadata": {
    "id": "Xmunx149IXbQ"
   },
   "source": [
    "### Visualizando os documentos\n",
    "Uma das aplicações interessantes de PCA é utilizar uma Bag of Words para encontrar tópicos associados aos documentos. A ideia é que palavras dentro de um mesmo tópico tendem a estar correlacionadas na Bag of Words e tais correlações tendem a ser capturadas pelas direções principais."
   ]
  },
  {
   "cell_type": "code",
   "execution_count": 12,
   "metadata": {
    "colab": {
     "base_uri": "https://localhost:8080/"
    },
    "executionInfo": {
     "elapsed": 16,
     "status": "ok",
     "timestamp": 1684517336627,
     "user": {
      "displayName": "Edesio Alcobaça",
      "userId": "01399819462464777505"
     },
     "user_tz": 180
    },
    "id": "wMULqfRHIXbQ",
    "outputId": "dae0246b-32a3-47eb-9e36-cc280950f065"
   },
   "outputs": [
    {
     "name": "stdout",
     "output_type": "stream",
     "text": [
      "{'ba': 0, 'sp': 6}\n",
      "(54, 2)\n"
     ]
    }
   ],
   "source": [
    "from sklearn.decomposition import PCA\n",
    "from sklearn.preprocessing import StandardScaler\n",
    "\n",
    "docid = {}\n",
    "for i,c in enumerate(BoW.index.values):\n",
    "   if c[0:2] not in docid:              # as duas letras iniciais do indice indicam o\n",
    "      docid[c[0:2]] = i                 # tópico ao qual o documento está relacionado\n",
    "                                        # docid armazena como chave o tópico e valor \n",
    "print(docid)                            # a linha onde aparece pela primeira vez \n",
    "        \n",
    "doc_ids = [docid[c[0:2]] for c in BoW.index.values] # cria uma lista de labels indicando\n",
    "                                                    # a qual topico o documento pertence.  \n",
    "                                                    # Os labels serão utilizados para colorir\n",
    "                                                    # os documentos de acordo com seu tópico\n",
    "X = BoW.values\n",
    "X = StandardScaler().fit_transform(X)               # Aplica uma normalização Z-score\n",
    "                                                    # nos dados para melhorar o resultado do PCA\n",
    "\n",
    "pca_obj = PCA(n_components=2)\n",
    "Xpca = pca_obj.fit_transform(X)\n",
    "\n",
    "print(Xpca.shape)\n",
    "\n",
    "#BoW.to_csv('bag_of_words_4.csv')"
   ]
  },
  {
   "cell_type": "code",
   "execution_count": 13,
   "metadata": {
    "colab": {
     "base_uri": "https://localhost:8080/",
     "height": 465
    },
    "executionInfo": {
     "elapsed": 12,
     "status": "ok",
     "timestamp": 1684517337052,
     "user": {
      "displayName": "Edesio Alcobaça",
      "userId": "01399819462464777505"
     },
     "user_tz": 180
    },
    "id": "eS6krGjQIXbR",
    "outputId": "f37ce778-53c0-4521-f7aa-cc82bb8532d7"
   },
   "outputs": [
    {
     "name": "stdout",
     "output_type": "stream",
     "text": [
      "[0 6]\n"
     ]
    },
    {
     "data": {
      "text/plain": [
       "<matplotlib.collections.PathCollection at 0x7f4c94436790>"
      ]
     },
     "execution_count": 13,
     "metadata": {},
     "output_type": "execute_result"
    },
    {
     "data": {
      "image/png": "[encoded data removed]",
      "text/plain": [
       "<Figure size 640x480 with 1 Axes>"
      ]
     },
     "metadata": {},
     "output_type": "display_data"
    }
   ],
   "source": [
    "import matplotlib.pyplot as plt\n",
    "%matplotlib inline\n",
    "\n",
    "print(np.unique(doc_ids))\n",
    "plt.scatter(Xpca[:,0],Xpca[:,1],c=doc_ids)"
   ]
  },
  {
   "cell_type": "markdown",
   "metadata": {
    "id": "n2M6VbsPIXbR"
   },
   "source": [
    "O resultado do PCA mostra que existem outliers, porem, facando a visualização no cluster inferior esquerdo (veja figura abaixo), vemos uma separação dos documentos de acordo com os tópicos, mostrando que a representação via matriz Documentos $\\times$ Palavras, está, até certo ponto, sendo capaz de representar os documentos de acordo com os tópicos."
   ]
  },
  {
   "cell_type": "code",
   "execution_count": 14,
   "metadata": {
    "colab": {
     "base_uri": "https://localhost:8080/",
     "height": 447
    },
    "executionInfo": {
     "elapsed": 413,
     "status": "ok",
     "timestamp": 1684517337456,
     "user": {
      "displayName": "Edesio Alcobaça",
      "userId": "01399819462464777505"
     },
     "user_tz": 180
    },
    "id": "ewLP-VkqIXbR",
    "outputId": "7750ed3a-00f0-4357-9f72-f7eb5a2d4c48"
   },
   "outputs": [
    {
     "data": {
      "text/plain": [
       "<matplotlib.collections.PathCollection at 0x7f4c94378610>"
      ]
     },
     "execution_count": 14,
     "metadata": {},
     "output_type": "execute_result"
    },
    {
     "data": {
      "image/png": "[encoded data removed]",
      "text/plain": [
       "<Figure size 640x480 with 1 Axes>"
      ]
     },
     "metadata": {},
     "output_type": "display_data"
    }
   ],
   "source": [
    "fig, ax = plt.subplots()\n",
    "ax.set_xlim(-10, 15)\n",
    "ax.set_ylim(-8, 5)\n",
    "\n",
    "plt.scatter(Xpca[:,0],Xpca[:,1],c=doc_ids)"
   ]
  },
  {
   "cell_type": "markdown",
   "metadata": {
    "id": "KfSjqRhMIXbR"
   },
   "source": [
    "## Term Frequency and Inverse Document Frequency (TF-IDF)\n",
    "TF-IDF é uma técnica para quantificar a importância das palavra nos documentos.\n",
    "\n",
    "**Nomenclatura**:\n",
    "- t — palavra\n",
    "- d — documento (conjunto de palavras)\n",
    "- N — número de documentos\n",
    "\n",
    "#### TF\n",
    "TF mede a frequência de uma palavra em um documento. TF depende muito do tamanho do documento e da generalidade da palavra.\n",
    "\n",
    "$$\n",
    "TF(t,d)= \\frac{\\# t \\mbox{ em } d}{\\#\\mbox{ palavras em } d} \n",
    "$$\n",
    "\n",
    "onde $t$ é uma palavra e $d$ um documento.\n",
    "\n",
    "#### IDF\n",
    "IDF mede o quão informativa cada palavra é no conjunto de documentos. Uma palavra que aparece frequentemente em muitos documentos não é útil para discriminar os documentos, portanto seu IDF deve ser próximo de zero.\n",
    "\n",
    "$$\n",
    "IDF(t) = \\frac{N}{\\# t \\mbox{ em todos os documentos}}\n",
    "$$\n",
    "\n",
    "onde $N$ é o número de documentos no corpus.\n",
    "\n",
    "Combinando as duas métricas temos o chamado TF-IDF:\n",
    "\n",
    "$$\n",
    "TFIDF(t,d) = TF(t,d)*\\log(IDF(t))\n",
    "$$"
   ]
  },
  {
   "cell_type": "code",
   "execution_count": 15,
   "metadata": {
    "colab": {
     "base_uri": "https://localhost:8080/"
    },
    "executionInfo": {
     "elapsed": 12,
     "status": "ok",
     "timestamp": 1684517337457,
     "user": {
      "displayName": "Edesio Alcobaça",
      "userId": "01399819462464777505"
     },
     "user_tz": 180
    },
    "id": "erb6uYTaIXbR",
    "outputId": "d09437a7-345a-4055-8d4c-ce9c11ab5e49"
   },
   "outputs": [
    {
     "name": "stdout",
     "output_type": "stream",
     "text": [
      "(3680,)\n",
      "(54, 3680)\n",
      "(54, 3680)\n"
     ]
    }
   ],
   "source": [
    "X = BoW.values\n",
    "\n",
    "# calculando o IDF das palavras\n",
    "X_idf = X.shape[0]/np.sum(X,axis=0)\n",
    "print(X_idf.shape)\n",
    "\n",
    "# calculando TF de palavras em cada documento\n",
    "X_tf = np.apply_along_axis(lambda x: x/np.sum(x>0),1,X)\n",
    "print(X_tf.shape)\n",
    "\n",
    "# calculando TF-IDF\n",
    "X_tfidf = np.apply_along_axis(lambda x: x*np.log(X_idf),1,X_tf)\n",
    "print(X_tfidf.shape)\n",
    "\n",
    "M = (X_tfidf<0)   # valores negativos são zerados\n",
    "X_tfidf[M] = 0.0"
   ]
  },
  {
   "cell_type": "markdown",
   "metadata": {
    "id": "Gex2R8KSIXbS"
   },
   "source": [
    "Os valores na matriz de Documentos $\\times$ Palavras geralmente são substituidos pelos seus correspondentes TF-IDF, o que tende a gerar representações melhores para cada documento."
   ]
  },
  {
   "cell_type": "code",
   "execution_count": 16,
   "metadata": {
    "colab": {
     "base_uri": "https://localhost:8080/",
     "height": 465
    },
    "executionInfo": {
     "elapsed": 11,
     "status": "ok",
     "timestamp": 1684517337457,
     "user": {
      "displayName": "Edesio Alcobaça",
      "userId": "01399819462464777505"
     },
     "user_tz": 180
    },
    "id": "-7zKh1pGIXbT",
    "outputId": "a583c841-1f31-47d7-f7df-348c272fc31f"
   },
   "outputs": [
    {
     "name": "stdout",
     "output_type": "stream",
     "text": [
      "(54, 2)\n"
     ]
    },
    {
     "data": {
      "text/plain": [
       "<matplotlib.collections.PathCollection at 0x7f4c94368a30>"
      ]
     },
     "execution_count": 16,
     "metadata": {},
     "output_type": "execute_result"
    },
    {
     "data": {
      "image/png": "[encoded data removed]",
      "text/plain": [
       "<Figure size 640x480 with 1 Axes>"
      ]
     },
     "metadata": {},
     "output_type": "display_data"
    }
   ],
   "source": [
    "from sklearn.decomposition import PCA\n",
    "from sklearn.preprocessing import StandardScaler\n",
    "\n",
    "X = StandardScaler().fit_transform(X_tfidf)\n",
    "\n",
    "pca_obj = PCA(n_components=2)\n",
    "Xpca = pca_obj.fit_transform(X)\n",
    "\n",
    "print(Xpca.shape)\n",
    "\n",
    "fig, ax = plt.subplots()\n",
    "plt.scatter(Xpca[:,0],Xpca[:,1],c=doc_ids)"
   ]
  },
  {
   "cell_type": "code",
   "execution_count": 17,
   "metadata": {
    "colab": {
     "base_uri": "https://localhost:8080/",
     "height": 452
    },
    "executionInfo": {
     "elapsed": 8,
     "status": "ok",
     "timestamp": 1684517337457,
     "user": {
      "displayName": "Edesio Alcobaça",
      "userId": "01399819462464777505"
     },
     "user_tz": 180
    },
    "id": "CWTm5j2SIXbT",
    "outputId": "d691823e-ec8c-458d-9b26-94793eeafbdd"
   },
   "outputs": [
    {
     "data": {
      "text/plain": [
       "<matplotlib.collections.PathCollection at 0x7f4c942e1280>"
      ]
     },
     "execution_count": 17,
     "metadata": {},
     "output_type": "execute_result"
    },
    {
     "data": {
      "image/png": "[encoded data removed]",
      "text/plain": [
       "<Figure size 640x480 with 1 Axes>"
      ]
     },
     "metadata": {},
     "output_type": "display_data"
    }
   ],
   "source": [
    "fig, ax = plt.subplots()\n",
    "ax.set_xlim(-5,5)\n",
    "ax.set_ylim(-10,10)\n",
    "\n",
    "plt.scatter(Xpca[:,0],Xpca[:,1],c=doc_ids)"
   ]
  },
  {
   "cell_type": "code",
   "execution_count": 18,
   "metadata": {
    "executionInfo": {
     "elapsed": 346,
     "status": "ok",
     "timestamp": 1684517337797,
     "user": {
      "displayName": "Edesio Alcobaça",
      "userId": "01399819462464777505"
     },
     "user_tz": 180
    },
    "id": "T-8SkK6LIXbT"
   },
   "outputs": [],
   "source": [
    "# gerando um data frame com a BoW usando TFIDF\n",
    "df_out = pd.DataFrame(data=X_tfidf,columns=BoW.columns.values,index=rows)\n",
    "\n",
    "df_out.to_csv('bag_of_words_4.csv',index=True)"
   ]
  },
  {
   "cell_type": "code",
   "execution_count": null,
   "metadata": {},
   "outputs": [],
   "source": []
  }
 ],
 "metadata": {
  "colab": {
   "provenance": []
  },
  "kernelspec": {
   "display_name": "Python 3 (ipykernel)",
   "language": "python",
   "name": "python3"
  },
  "language_info": {
   "codemirror_mode": {
    "name": "ipython",
    "version": 3
   },
   "file_extension": ".py",
   "mimetype": "text/x-python",
   "name": "python",
   "nbconvert_exporter": "python",
   "pygments_lexer": "ipython3",
   "version": "3.9.16"
  }
 },
 "nbformat": 4,
 "nbformat_minor": 1
}
