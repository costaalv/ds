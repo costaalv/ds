{
 "cells": [
  {
   "cell_type": "markdown",
   "metadata": {},
   "source": [
    "# MBA em Ciência de Dados\n",
    "## Técnicas Avançadas de Captura e Tratamento de Dados\n",
    "\n",
    "\n",
    "### <span style=\"color:darkred\">Coleta de dados e Preparação de atributos</span>\n",
    "\n",
    "\n",
    "## <span style=\"color:darkred\">Discretização</span>\n",
    "\n",
    "Material Produzido por Moacir Antonelli Ponti<br>\n",
    "*colaboração de Eugenio Ferreira Cabral*\n",
    "\n",
    "CeMEAI - ICMC/USP São Carlos\n",
    "\n",
    "---"
   ]
  },
  {
   "cell_type": "markdown",
   "metadata": {},
   "source": [
    "## Discretização\n",
    "\n",
    "Valores contínuos podem representar um desafio na análise de dados\n",
    "\n",
    "* alguns métodos não permitem o uso de valores contínuos, seja como atributo de entrada ou saída.\n",
    "\n",
    "* assumir valor contínuo pode ser inviável a depender da quantidade de dados disponíveis e sua cobertura no espaço contínuo\n",
    "\n",
    "\n",
    "**Discretizar** é criar um novo atributo discreto (com valores finitos e bem definidos) a partir de um atributo contínuo.\n",
    "\n",
    "* podemos também re-aplicar discretização em dados já discretos, reduzindo a quantidade de valores possíveis\n",
    "\n",
    "---\n",
    "   \n",
    "Vamos usar uma base com dados do PIB e população (dados reais) e outros indicadores (simulados a partir de dados reais) formulada para exemplificar esse conceito, contendo os seguintes atributos:\n",
    "\n",
    "- gid - identificador geográfico do município\n",
    "- UF - unidade federativa\n",
    "- nome - nome do município\n",
    "- Censo - ano do censo relativo aos dados\n",
    "- PIB - total do PIB\n",
    "- pop - populacao em 2009\n",
    "- classe - classe do município (de 1 a 5)\n",
    "- desemprego - índice de desemprego na cidade no ano do Censo\n",
    "- pop_sanea - porcentagem da população servida por saneamento básico \n",
    "- expec_vida - expectativa de vida ao nascer no ano de 2017\n",
    "- pobreza - porcentagem de pessoas em extrema pobreza\n",
    "- IDH - índice em 2010\n",
    "- urbaniz - escala de urbanização do município: rural, baixo, médio, alto, muito alto\n",
    "- dens_pop_urbana - índice de densidade populacional urbana: baixa, média, alta, muito alta\n",
    "    \n",
    "    \n",
    "OBS: desemprego, IDH, pobreza e pop_sanea por município foram simulados com base nos dados reais dos estados\n",
    "\n",
    "    "
   ]
  },
  {
   "cell_type": "code",
   "execution_count": 1,
   "metadata": {},
   "outputs": [
    {
     "data": {
      "text/html": [
       "<div>\n",
       "<style scoped>\n",
       "    .dataframe tbody tr th:only-of-type {\n",
       "        vertical-align: middle;\n",
       "    }\n",
       "\n",
       "    .dataframe tbody tr th {\n",
       "        vertical-align: top;\n",
       "    }\n",
       "\n",
       "    .dataframe thead th {\n",
       "        text-align: right;\n",
       "    }\n",
       "</style>\n",
       "<table border=\"1\" class=\"dataframe\">\n",
       "  <thead>\n",
       "    <tr style=\"text-align: right;\">\n",
       "      <th></th>\n",
       "      <th>gid</th>\n",
       "      <th>UF</th>\n",
       "      <th>nome</th>\n",
       "      <th>Censo</th>\n",
       "      <th>PIB</th>\n",
       "      <th>pop</th>\n",
       "      <th>classe</th>\n",
       "      <th>desemprego</th>\n",
       "      <th>pop_sanea</th>\n",
       "      <th>expec_vida</th>\n",
       "      <th>pobreza</th>\n",
       "      <th>IDH</th>\n",
       "      <th>urbaniz</th>\n",
       "      <th>dens_pop_urbana</th>\n",
       "    </tr>\n",
       "  </thead>\n",
       "  <tbody>\n",
       "    <tr>\n",
       "      <th>0</th>\n",
       "      <td>752</td>\n",
       "      <td>ACRE</td>\n",
       "      <td>Acrelândia</td>\n",
       "      <td>2010.0</td>\n",
       "      <td>151120.015625</td>\n",
       "      <td>12241</td>\n",
       "      <td>2</td>\n",
       "      <td>5.2</td>\n",
       "      <td>33.532382</td>\n",
       "      <td>73.6</td>\n",
       "      <td>19.2</td>\n",
       "      <td>660</td>\n",
       "      <td>rural</td>\n",
       "      <td>muito baixa</td>\n",
       "    </tr>\n",
       "    <tr>\n",
       "      <th>1</th>\n",
       "      <td>747</td>\n",
       "      <td>ACRE</td>\n",
       "      <td>Assis Brasil</td>\n",
       "      <td>2010.0</td>\n",
       "      <td>48347.300781</td>\n",
       "      <td>5662</td>\n",
       "      <td>1</td>\n",
       "      <td>5.0</td>\n",
       "      <td>32.252163</td>\n",
       "      <td>74.2</td>\n",
       "      <td>18.9</td>\n",
       "      <td>664</td>\n",
       "      <td>rural</td>\n",
       "      <td>muito baixa</td>\n",
       "    </tr>\n",
       "    <tr>\n",
       "      <th>2</th>\n",
       "      <td>748</td>\n",
       "      <td>ACRE</td>\n",
       "      <td>Brasiléia</td>\n",
       "      <td>2010.0</td>\n",
       "      <td>194979.828125</td>\n",
       "      <td>20238</td>\n",
       "      <td>1</td>\n",
       "      <td>3.0</td>\n",
       "      <td>31.663354</td>\n",
       "      <td>75.3</td>\n",
       "      <td>19.5</td>\n",
       "      <td>667</td>\n",
       "      <td>baixo</td>\n",
       "      <td>média</td>\n",
       "    </tr>\n",
       "    <tr>\n",
       "      <th>3</th>\n",
       "      <td>754</td>\n",
       "      <td>ACRE</td>\n",
       "      <td>Bujari</td>\n",
       "      <td>2010.0</td>\n",
       "      <td>88708.031250</td>\n",
       "      <td>6772</td>\n",
       "      <td>2</td>\n",
       "      <td>4.8</td>\n",
       "      <td>33.501357</td>\n",
       "      <td>73.4</td>\n",
       "      <td>19.1</td>\n",
       "      <td>659</td>\n",
       "      <td>rural</td>\n",
       "      <td>muito baixa</td>\n",
       "    </tr>\n",
       "    <tr>\n",
       "      <th>4</th>\n",
       "      <td>751</td>\n",
       "      <td>ACRE</td>\n",
       "      <td>Capixaba</td>\n",
       "      <td>2010.0</td>\n",
       "      <td>89052.679688</td>\n",
       "      <td>9287</td>\n",
       "      <td>1</td>\n",
       "      <td>4.4</td>\n",
       "      <td>33.431383</td>\n",
       "      <td>75.4</td>\n",
       "      <td>18.1</td>\n",
       "      <td>661</td>\n",
       "      <td>rural</td>\n",
       "      <td>muito baixa</td>\n",
       "    </tr>\n",
       "    <tr>\n",
       "      <th>...</th>\n",
       "      <td>...</td>\n",
       "      <td>...</td>\n",
       "      <td>...</td>\n",
       "      <td>...</td>\n",
       "      <td>...</td>\n",
       "      <td>...</td>\n",
       "      <td>...</td>\n",
       "      <td>...</td>\n",
       "      <td>...</td>\n",
       "      <td>...</td>\n",
       "      <td>...</td>\n",
       "      <td>...</td>\n",
       "      <td>...</td>\n",
       "      <td>...</td>\n",
       "    </tr>\n",
       "    <tr>\n",
       "      <th>5560</th>\n",
       "      <td>1011</td>\n",
       "      <td>TOCANTINS</td>\n",
       "      <td>Tocantinópolis</td>\n",
       "      <td>2010.0</td>\n",
       "      <td>124657.000000</td>\n",
       "      <td>21826</td>\n",
       "      <td>1</td>\n",
       "      <td>6.5</td>\n",
       "      <td>28.405306</td>\n",
       "      <td>75.0</td>\n",
       "      <td>12.6</td>\n",
       "      <td>705</td>\n",
       "      <td>rural</td>\n",
       "      <td>muito baixa</td>\n",
       "    </tr>\n",
       "    <tr>\n",
       "      <th>5561</th>\n",
       "      <td>5545</td>\n",
       "      <td>TOCANTINS</td>\n",
       "      <td>Tupirama</td>\n",
       "      <td>2010.0</td>\n",
       "      <td>34883.894531</td>\n",
       "      <td>1474</td>\n",
       "      <td>3</td>\n",
       "      <td>4.6</td>\n",
       "      <td>29.447854</td>\n",
       "      <td>74.8</td>\n",
       "      <td>12.9</td>\n",
       "      <td>694</td>\n",
       "      <td>rural</td>\n",
       "      <td>muito baixa</td>\n",
       "    </tr>\n",
       "    <tr>\n",
       "      <th>5562</th>\n",
       "      <td>5546</td>\n",
       "      <td>TOCANTINS</td>\n",
       "      <td>Tupiratins</td>\n",
       "      <td>2010.0</td>\n",
       "      <td>30757.437500</td>\n",
       "      <td>2143</td>\n",
       "      <td>2</td>\n",
       "      <td>7.0</td>\n",
       "      <td>27.172728</td>\n",
       "      <td>74.2</td>\n",
       "      <td>12.6</td>\n",
       "      <td>696</td>\n",
       "      <td>rural</td>\n",
       "      <td>muito baixa</td>\n",
       "    </tr>\n",
       "    <tr>\n",
       "      <th>5563</th>\n",
       "      <td>5141</td>\n",
       "      <td>TOCANTINS</td>\n",
       "      <td>Wanderlândia</td>\n",
       "      <td>2010.0</td>\n",
       "      <td>66966.773438</td>\n",
       "      <td>9493</td>\n",
       "      <td>1</td>\n",
       "      <td>5.4</td>\n",
       "      <td>27.762133</td>\n",
       "      <td>74.4</td>\n",
       "      <td>12.7</td>\n",
       "      <td>692</td>\n",
       "      <td>rural</td>\n",
       "      <td>muito baixa</td>\n",
       "    </tr>\n",
       "    <tr>\n",
       "      <th>5564</th>\n",
       "      <td>1107</td>\n",
       "      <td>TOCANTINS</td>\n",
       "      <td>Xambioá</td>\n",
       "      <td>2010.0</td>\n",
       "      <td>117627.132812</td>\n",
       "      <td>11099</td>\n",
       "      <td>2</td>\n",
       "      <td>4.9</td>\n",
       "      <td>26.265226</td>\n",
       "      <td>74.3</td>\n",
       "      <td>11.6</td>\n",
       "      <td>695</td>\n",
       "      <td>rural</td>\n",
       "      <td>muito baixa</td>\n",
       "    </tr>\n",
       "  </tbody>\n",
       "</table>\n",
       "<p>5565 rows × 14 columns</p>\n",
       "</div>"
      ],
      "text/plain": [
       "       gid         UF            nome   Censo            PIB    pop  classe  \\\n",
       "0      752       ACRE      Acrelândia  2010.0  151120.015625  12241       2   \n",
       "1      747       ACRE    Assis Brasil  2010.0   48347.300781   5662       1   \n",
       "2      748       ACRE       Brasiléia  2010.0  194979.828125  20238       1   \n",
       "3      754       ACRE          Bujari  2010.0   88708.031250   6772       2   \n",
       "4      751       ACRE        Capixaba  2010.0   89052.679688   9287       1   \n",
       "...    ...        ...             ...     ...            ...    ...     ...   \n",
       "5560  1011  TOCANTINS  Tocantinópolis  2010.0  124657.000000  21826       1   \n",
       "5561  5545  TOCANTINS        Tupirama  2010.0   34883.894531   1474       3   \n",
       "5562  5546  TOCANTINS      Tupiratins  2010.0   30757.437500   2143       2   \n",
       "5563  5141  TOCANTINS    Wanderlândia  2010.0   66966.773438   9493       1   \n",
       "5564  1107  TOCANTINS         Xambioá  2010.0  117627.132812  11099       2   \n",
       "\n",
       "      desemprego  pop_sanea  expec_vida  pobreza  IDH urbaniz dens_pop_urbana  \n",
       "0            5.2  33.532382        73.6     19.2  660   rural     muito baixa  \n",
       "1            5.0  32.252163        74.2     18.9  664   rural     muito baixa  \n",
       "2            3.0  31.663354        75.3     19.5  667   baixo           média  \n",
       "3            4.8  33.501357        73.4     19.1  659   rural     muito baixa  \n",
       "4            4.4  33.431383        75.4     18.1  661   rural     muito baixa  \n",
       "...          ...        ...         ...      ...  ...     ...             ...  \n",
       "5560         6.5  28.405306        75.0     12.6  705   rural     muito baixa  \n",
       "5561         4.6  29.447854        74.8     12.9  694   rural     muito baixa  \n",
       "5562         7.0  27.172728        74.2     12.6  696   rural     muito baixa  \n",
       "5563         5.4  27.762133        74.4     12.7  692   rural     muito baixa  \n",
       "5564         4.9  26.265226        74.3     11.6  695   rural     muito baixa  \n",
       "\n",
       "[5565 rows x 14 columns]"
      ]
     },
     "execution_count": 1,
     "metadata": {},
     "output_type": "execute_result"
    }
   ],
   "source": [
    "# carregando as bibliotecas necessárias\n",
    "import numpy as np\n",
    "import matplotlib.pyplot as plt\n",
    "import pandas as pd\n",
    "\n",
    "# carregando dados\n",
    "data = pd.read_csv(\"./dados/municipios_mba.csv\")\n",
    "data"
   ]
  },
  {
   "cell_type": "markdown",
   "metadata": {},
   "source": [
    "## Intervalo ou Histograma\n",
    "\n",
    "Método que usa intervalos (bins) e distribui os elementos para cada intervalo correspondente\n",
    "\n",
    "Vamos analisar o atributo expec_vida e discretizá-lo utilizando intervalos\n"
   ]
  },
  {
   "cell_type": "code",
   "execution_count": 2,
   "metadata": {
    "scrolled": true
   },
   "outputs": [
    {
     "name": "stdout",
     "output_type": "stream",
     "text": [
      "[73.6 74.2 75.3 73.4 75.4 72.6 72.5 74.6 73.3 74.8 74.9 74.1 73.7 75.2\n",
      " 73.1 72.  72.8 71.8 70.6 70.7 73.5 72.7 71.7 70.5 71.4 71.3 71.1 72.4\n",
      " 71.9 73.  70.9 73.2 71.6 72.1 71.  72.2 70.8 71.5 72.9 71.2 73.8 75.\n",
      " 74.3 74.4 74.  72.3 75.1 73.9 74.7 74.5 75.6 75.5 79.3 78.  77.8 77.2\n",
      " 78.6 79.  78.4 77.1 79.4 78.3 77.5 77.9 78.5 77.3 77.  79.8 79.1 77.6\n",
      " 79.6 79.5 77.7 79.7 77.4 78.8 79.2 78.7 80.  78.1 78.2 78.9 75.7 75.8\n",
      " 68.7 68.9 68.8 70.2 69.1 69.  70.3 69.8 70.4 69.5 68.6 69.7 69.6 70.1\n",
      " 69.9 69.4 69.2 70.  69.3 68.5 75.9 76.  76.4 76.6 76.2 76.9 76.1 76.8\n",
      " 76.5 76.7 76.3 80.5 80.1 79.9 80.4 80.9 80.8 80.6 80.3 80.2 80.7]\n"
     ]
    },
    {
     "data": {
      "image/png": "[encoded data removed]",
      "text/plain": [
       "<Figure size 640x480 with 1 Axes>"
      ]
     },
     "metadata": {},
     "output_type": "display_data"
    }
   ],
   "source": [
    "atts = 'expec_vida'\n",
    "data.boxplot(atts)\n",
    "print(data[atts].unique())"
   ]
  },
  {
   "cell_type": "markdown",
   "metadata": {},
   "source": [
    "Olhando para o histograma, que nos dá a frequência de faixas de valores, é possível observar como os dados estão distribuídos e optar por re-definir os dados com base em novos intervalos."
   ]
  },
  {
   "cell_type": "code",
   "execution_count": 3,
   "metadata": {
    "scrolled": true
   },
   "outputs": [
    {
     "data": {
      "image/png": "[encoded data removed]",
      "text/plain": [
       "<Figure size 640x480 with 1 Axes>"
      ]
     },
     "metadata": {},
     "output_type": "display_data"
    }
   ],
   "source": [
    "data[atts].hist(bins=5)\n",
    "plt.show()"
   ]
  },
  {
   "cell_type": "markdown",
   "metadata": {},
   "source": [
    "#### Utilizando intervalos fixos e frequência variável"
   ]
  },
  {
   "cell_type": "code",
   "execution_count": 4,
   "metadata": {},
   "outputs": [
    {
     "name": "stdout",
     "output_type": "stream",
     "text": [
      "[68 71 74 77 80]\n"
     ]
    }
   ],
   "source": [
    "# copiar original\n",
    "data_orig = data.copy()\n",
    "\n",
    "# definir intervalos\n",
    "interv_idade = np.arange(68,82,3)\n",
    "print(interv_idade)\n",
    "\n",
    "# (68-71]\n",
    "# (71-74]\n",
    "# (74-77] ...."
   ]
  },
  {
   "cell_type": "code",
   "execution_count": 5,
   "metadata": {},
   "outputs": [],
   "source": [
    "# realizar discretizacao e armazenar\n",
    "expec_vida_disc =  pd.cut(data['expec_vida'], bins=interv_idade)"
   ]
  },
  {
   "cell_type": "code",
   "execution_count": 6,
   "metadata": {},
   "outputs": [
    {
     "data": {
      "text/plain": [
       "0       73.6\n",
       "1       74.2\n",
       "2       75.3\n",
       "3       73.4\n",
       "4       75.4\n",
       "        ... \n",
       "5560    75.0\n",
       "5561    74.8\n",
       "5562    74.2\n",
       "5563    74.4\n",
       "5564    74.3\n",
       "Name: expec_vida, Length: 5565, dtype: float64"
      ]
     },
     "execution_count": 6,
     "metadata": {},
     "output_type": "execute_result"
    }
   ],
   "source": [
    "data['expec_vida']"
   ]
  },
  {
   "cell_type": "code",
   "execution_count": 7,
   "metadata": {},
   "outputs": [
    {
     "data": {
      "text/plain": [
       "0       (71, 74]\n",
       "1       (74, 77]\n",
       "2       (74, 77]\n",
       "3       (71, 74]\n",
       "4       (74, 77]\n",
       "          ...   \n",
       "5560    (74, 77]\n",
       "5561    (74, 77]\n",
       "5562    (74, 77]\n",
       "5563    (74, 77]\n",
       "5564    (74, 77]\n",
       "Name: expec_vida, Length: 5565, dtype: category\n",
       "Categories (4, interval[int64, right]): [(68, 71] < (71, 74] < (74, 77] < (77, 80]]"
      ]
     },
     "execution_count": 7,
     "metadata": {},
     "output_type": "execute_result"
    }
   ],
   "source": [
    "expec_vida_disc"
   ]
  },
  {
   "cell_type": "code",
   "execution_count": 8,
   "metadata": {},
   "outputs": [
    {
     "name": "stdout",
     "output_type": "stream",
     "text": [
      "category\n"
     ]
    }
   ],
   "source": [
    "# inserir nova coluna na pos. 10\n",
    "data.insert(10, 'expec_vida_disc', expec_vida_disc) \n",
    "#data['expec_vida_disc'] = expec_vida_disc\n",
    "\n",
    "# exibir o tipo da coluna\n",
    "print(data['expec_vida_disc'].dtype.name)"
   ]
  },
  {
   "cell_type": "code",
   "execution_count": 9,
   "metadata": {},
   "outputs": [
    {
     "name": "stdout",
     "output_type": "stream",
     "text": [
      "float64\n"
     ]
    }
   ],
   "source": [
    "print(data['expec_vida'].dtype.name)"
   ]
  },
  {
   "cell_type": "code",
   "execution_count": 10,
   "metadata": {},
   "outputs": [],
   "source": [
    "# tentando exibir histograma da nova variavel\n",
    "#data['expec_vida_disc'].hist()"
   ]
  },
  {
   "cell_type": "code",
   "execution_count": 11,
   "metadata": {},
   "outputs": [
    {
     "data": {
      "text/plain": [
       "(74, 77]    1999\n",
       "(77, 80]    1770\n",
       "(71, 74]    1348\n",
       "(68, 71]     360\n",
       "Name: expec_vida_disc, dtype: int64"
      ]
     },
     "execution_count": 11,
     "metadata": {},
     "output_type": "execute_result"
    }
   ],
   "source": [
    "# para variáveis categoricas podemos usar value_counts\n",
    "data['expec_vida_disc'].value_counts()"
   ]
  },
  {
   "cell_type": "code",
   "execution_count": 12,
   "metadata": {},
   "outputs": [
    {
     "data": {
      "image/png": "[encoded data removed]",
      "text/plain": [
       "<Figure size 640x480 with 1 Axes>"
      ]
     },
     "metadata": {},
     "output_type": "display_data"
    }
   ],
   "source": [
    "data['expec_vida_disc'].value_counts().plot(kind='bar')\n",
    "plt.show()"
   ]
  },
  {
   "cell_type": "markdown",
   "metadata": {},
   "source": [
    "Ao invés dos rótulos automáticos, podemos nomear os intervalos:"
   ]
  },
  {
   "cell_type": "code",
   "execution_count": 13,
   "metadata": {
    "scrolled": true
   },
   "outputs": [
    {
     "name": "stdout",
     "output_type": "stream",
     "text": [
      "[68 71 74 77 80]\n",
      "['muito baixo', 'baixo', 'médio', 'alto']\n"
     ]
    }
   ],
   "source": [
    "interv_idade = np.arange(68,82,3)\n",
    "labels = ['muito baixo', 'baixo', 'médio', 'alto']\n",
    "print(interv_idade)\n",
    "print(labels)"
   ]
  },
  {
   "cell_type": "code",
   "execution_count": 14,
   "metadata": {},
   "outputs": [
    {
     "name": "stdout",
     "output_type": "stream",
     "text": [
      "category\n"
     ]
    },
    {
     "data": {
      "text/plain": [
       "médio          1999\n",
       "alto           1770\n",
       "baixo          1348\n",
       "muito baixo     360\n",
       "Name: expec_vida_disc, dtype: int64"
      ]
     },
     "execution_count": 14,
     "metadata": {},
     "output_type": "execute_result"
    }
   ],
   "source": [
    "data = data_orig.copy()\n",
    "\n",
    "# realizar discretizacao e armazenar\n",
    "expec_vida_disc =  pd.cut(data['expec_vida'], bins=interv_idade, labels=labels)\n",
    "# inserir nova coluna\n",
    "data.insert(10, 'expec_vida_disc', expec_vida_disc)\n",
    "\n",
    "# exibir o tipo da coluna\n",
    "print(data['expec_vida_disc'].dtype.name)\n",
    "data['expec_vida_disc'].value_counts()"
   ]
  },
  {
   "cell_type": "code",
   "execution_count": 15,
   "metadata": {},
   "outputs": [
    {
     "data": {
      "image/png": "[encoded data removed]",
      "text/plain": [
       "<Figure size 640x480 with 1 Axes>"
      ]
     },
     "metadata": {},
     "output_type": "display_data"
    }
   ],
   "source": [
    "data['expec_vida_disc'].value_counts().plot(kind='bar')\n",
    "plt.show()"
   ]
  },
  {
   "cell_type": "code",
   "execution_count": 16,
   "metadata": {
    "scrolled": true
   },
   "outputs": [
    {
     "name": "stdout",
     "output_type": "stream",
     "text": [
      "UF         expec_vida_disc\n",
      "ACRE       médio              12\n",
      "           baixo              10\n",
      "           muito baixo         0\n",
      "           alto                0\n",
      "ALAGOAS    baixo              87\n",
      "                              ..\n",
      "SÃO PAULO  baixo               0\n",
      "TOCANTINS  baixo              97\n",
      "           médio              42\n",
      "           muito baixo         0\n",
      "           alto                0\n",
      "Name: expec_vida_disc, Length: 108, dtype: int64\n"
     ]
    }
   ],
   "source": [
    "print(data.groupby('UF').expec_vida_disc.value_counts())"
   ]
  },
  {
   "cell_type": "markdown",
   "metadata": {},
   "source": [
    "#### Utilizando quantis fixos e frequência balanceada\n",
    "\n",
    "Pandas ainda permite discretização baseada em **quantis**\n",
    "\n",
    "<font color=\"red\">Aqui usamos os mesmos rótulos, mas a interpretação será diferente, pois os dados serão definidos por *quantis* e não por intervalos fixos</font>\n"
   ]
  },
  {
   "cell_type": "code",
   "execution_count": 17,
   "metadata": {},
   "outputs": [
    {
     "name": "stdout",
     "output_type": "stream",
     "text": [
      "baixo          1409\n",
      "muito baixo    1408\n",
      "médio          1378\n",
      "alto           1370\n",
      "Name: expec_vida_4quant, dtype: int64\n"
     ]
    }
   ],
   "source": [
    "labels = ['muito baixo', 'baixo', 'médio', 'alto']\n",
    "\n",
    "# realizar discretizacao e armazenar\n",
    "expec_vida_qdisc =  pd.qcut(data['expec_vida'], 4, labels=labels)\n",
    "# inserir nova coluna\n",
    "data.insert(11, 'expec_vida_4quant', expec_vida_qdisc)\n",
    "\n",
    "# exibir o tipo da coluna\n",
    "print(data['expec_vida_4quant'].value_counts())\n"
   ]
  },
  {
   "cell_type": "code",
   "execution_count": 18,
   "metadata": {},
   "outputs": [
    {
     "name": "stdout",
     "output_type": "stream",
     "text": [
      "(73.5, 75.7]      1409\n",
      "(68.499, 73.5]    1408\n",
      "(75.7, 77.6]      1378\n",
      "(77.6, 80.9]      1370\n",
      "Name: expec_vida, dtype: int64\n"
     ]
    }
   ],
   "source": [
    "# realizar discretizacao e armazenar\n",
    "expec_vida_qdisc_nolabel =  pd.qcut(data['expec_vida'], 4)\n",
    "print(expec_vida_qdisc_nolabel.value_counts())"
   ]
  },
  {
   "cell_type": "code",
   "execution_count": 19,
   "metadata": {},
   "outputs": [
    {
     "data": {
      "image/png": "[encoded data removed]",
      "text/plain": [
       "<Figure size 800x400 with 2 Axes>"
      ]
     },
     "metadata": {},
     "output_type": "display_data"
    }
   ],
   "source": [
    "plt.figure(figsize=(8,4))\n",
    "plt.subplot(121)\n",
    "data['expec_vida_disc'].value_counts().plot(kind='bar')\n",
    "plt.subplot(122)\n",
    "data['expec_vida_4quant'].value_counts().plot(kind='bar')\n",
    "plt.show()"
   ]
  },
  {
   "cell_type": "markdown",
   "metadata": {},
   "source": [
    "## Agrupamento\n",
    "\n",
    "Método que agrupa valores considerando uma ou mais variáveis e considera valores discretos como o rótulo dos grupos.\n",
    "\n",
    "É fundamental nesse caso:\n",
    "1. Conhecer o método de agrupamento sendo utilizado e como funciona\n",
    "2. Entender a distância utilizada para comparar os exemplos, já que algoritmos para análise de agrupamentos são fortemente dependentes da distância utilizada.\n",
    "\n",
    "Para exemplificar, vamos analisar o atributo expec_vida e discretizá-lo usando o método de agrupamento por Mistura de Gaussianas (Gaussian Mixture), e a distância Euclidiana.\n",
    "\n",
    "Importante: os rótulos atribuídos aos grupos não necessariamente indicam a ordem numérica da variável original."
   ]
  },
  {
   "cell_type": "code",
   "execution_count": 20,
   "metadata": {},
   "outputs": [],
   "source": [
    "from sklearn.mixture import GaussianMixture\n",
    "\n",
    "X = np.array(data['expec_vida']).reshape(-1,1)\n",
    "\n",
    "gmm = GaussianMixture(n_components=4, random_state=10).fit(X)\n",
    "\n",
    "probs = np.round(gmm.predict_proba(X), 3)\n",
    "\n",
    "clusters = gmm.predict(X)"
   ]
  },
  {
   "cell_type": "code",
   "execution_count": 21,
   "metadata": {},
   "outputs": [
    {
     "name": "stdout",
     "output_type": "stream",
     "text": [
      "[[0.982 0.    0.018 0.   ]\n",
      " [0.073 0.001 0.926 0.   ]\n",
      " [0.279 0.    0.721 0.   ]\n",
      " [0.145 0.    0.854 0.   ]\n",
      " [0.087 0.001 0.912 0.   ]\n",
      " [0.795 0.    0.205 0.   ]\n",
      " [0.99  0.    0.01  0.   ]\n",
      " [0.893 0.    0.107 0.   ]\n",
      " [0.915 0.    0.085 0.   ]\n",
      " [0.915 0.    0.085 0.   ]]\n",
      "[0 2 2 2 2 0 0 0 0 0]\n"
     ]
    },
    {
     "data": {
      "image/png": "[encoded data removed]",
      "text/plain": [
       "<Figure size 640x480 with 1 Axes>"
      ]
     },
     "metadata": {},
     "output_type": "display_data"
    }
   ],
   "source": [
    "print(probs[30:40,:])\n",
    "print(clusters[30:40])\n",
    "\n",
    "h = plt.hist(clusters)\n",
    "plt.show()"
   ]
  },
  {
   "cell_type": "code",
   "execution_count": 22,
   "metadata": {},
   "outputs": [
    {
     "name": "stdout",
     "output_type": "stream",
     "text": [
      "expec_vida_clu\n",
      "0    68.5\n",
      "1    75.6\n",
      "2    72.3\n",
      "3    77.7\n",
      "Name: expec_vida, dtype: float64\n",
      "expec_vida_clu\n",
      "0    72.2\n",
      "1    77.6\n",
      "2    75.5\n",
      "3    80.9\n",
      "Name: expec_vida, dtype: float64\n"
     ]
    }
   ],
   "source": [
    "# atribuindo a nova variável ao dataframe\n",
    "data['expec_vida_clu'] = clusters\n",
    "\n",
    "# verificando como ficou o agrupamento em termos de mínimos e máximos\n",
    "print(data.groupby('expec_vida_clu').expec_vida.min())\n",
    "print(data.groupby('expec_vida_clu').expec_vida.max())"
   ]
  },
  {
   "cell_type": "markdown",
   "metadata": {},
   "source": [
    "## E os valores nulos / faltantes?\n",
    "\n",
    "Temos que tratar caso a caso, pois o principal problema na discretização é estar *indefinido* qual sua ordenação/posição.\n"
   ]
  },
  {
   "cell_type": "markdown",
   "metadata": {},
   "source": [
    "## Resumo dos discretizadores + Bônus *sklearn*"
   ]
  },
  {
   "cell_type": "markdown",
   "metadata": {},
   "source": [
    "<table align=\"center\">\n",
    "\t<thead>\n",
    "\t\t<tr>\n",
    "\t\t\t<th>Função</th>\n",
    "\t\t\t<th>Observação</th>\n",
    "\t\t</tr>\n",
    "    </thead>\n",
    "    <tbody>\n",
    "\t\t<tr>\n",
    "            <td><a href=\"https://pandas.pydata.org/pandas-docs/stable/reference/api/pandas.cut.html\">cut (pandas)</a></td>\n",
    "            <td>Cria intervalos de tamanhos iguais mas com frequencias de amostras desiguais em cada intervalo.</td>\n",
    "        </tr>\n",
    "\t\t<tr>\n",
    "            <td><a href=\"https://pandas.pydata.org/pandas-docs/stable/reference/api/pandas.qcut.html\">qcut (pandas)</a></td>\n",
    "            <td>Cria intervalos de tamanhos diferentes mas com frequencia de amostras iguais em cada intervalo.</td>\n",
    "\t\t</tr>\n",
    "        <tr>\n",
    "            <td><a href=\"https://scikit-learn.org/stable/modules/generated/sklearn.preprocessing.KBinsDiscretizer.html\">KBinsDiscretizer (sklearn)</a></td>\n",
    "            <td>Cria intervalos utilizando a estratégia especificada por parâmetro e permite fazer a transformação inversa.</td>\n",
    "\t\t</tr>\n",
    "\t</tbody>\n",
    "</table>"
   ]
  },
  {
   "cell_type": "code",
   "execution_count": 23,
   "metadata": {},
   "outputs": [],
   "source": [
    "amostra = pd.DataFrame(np.random.normal(loc=50, scale=20, size=50), columns=['value'])"
   ]
  },
  {
   "cell_type": "code",
   "execution_count": 24,
   "metadata": {},
   "outputs": [],
   "source": [
    "from sklearn.preprocessing import KBinsDiscretizer"
   ]
  },
  {
   "cell_type": "code",
   "execution_count": 25,
   "metadata": {},
   "outputs": [
    {
     "name": "stdout",
     "output_type": "stream",
     "text": [
      "1.0    20\n",
      "2.0    16\n",
      "3.0    12\n",
      "0.0     2\n",
      "Name: value_bins, dtype: int64\n",
      "[array([-12.80972187,  13.78809523,  40.38591234,  66.98372944,\n",
      "         93.58154655])                                         ]\n"
     ]
    }
   ],
   "source": [
    "kbd = KBinsDiscretizer(n_bins=4, encode='ordinal', strategy='uniform')\n",
    "amostra['value_bins'] = kbd.fit_transform(amostra[['value']])\n",
    "print(amostra['value_bins'].value_counts())\n",
    "print(kbd.bin_edges_)"
   ]
  },
  {
   "cell_type": "code",
   "execution_count": 26,
   "metadata": {},
   "outputs": [
    {
     "data": {
      "text/plain": [
       "0.0    13\n",
       "3.0    13\n",
       "1.0    12\n",
       "2.0    12\n",
       "Name: value_bins, dtype: int64"
      ]
     },
     "execution_count": 26,
     "metadata": {},
     "output_type": "execute_result"
    }
   ],
   "source": [
    "kbd = KBinsDiscretizer(n_bins=4, encode='ordinal', strategy='quantile')\n",
    "amostra['value_bins'] = kbd.fit_transform(amostra[['value']])\n",
    "amostra['value_bins'].value_counts()"
   ]
  },
  {
   "cell_type": "code",
   "execution_count": 27,
   "metadata": {},
   "outputs": [
    {
     "data": {
      "text/plain": [
       "1.0    18\n",
       "2.0    17\n",
       "3.0    13\n",
       "0.0     2\n",
       "Name: value_bins, dtype: int64"
      ]
     },
     "execution_count": 27,
     "metadata": {},
     "output_type": "execute_result"
    }
   ],
   "source": [
    "kbd = KBinsDiscretizer(n_bins=4, encode='ordinal', strategy='kmeans')\n",
    "amostra['value_bins'] = kbd.fit_transform(amostra[['value']])\n",
    "amostra['value_bins'].value_counts()"
   ]
  },
  {
   "cell_type": "markdown",
   "metadata": {},
   "source": [
    "OBS: cuidado novamente com uso de algoritmo de agrupamento, em particular utilizando uma única variável"
   ]
  },
  {
   "cell_type": "markdown",
   "metadata": {},
   "source": [
    "A vantagem do `KBinsDiscretizer` é que o modelo salva a transformação permitindo inverter"
   ]
  },
  {
   "cell_type": "code",
   "execution_count": 28,
   "metadata": {},
   "outputs": [
    {
     "data": {
      "text/html": [
       "<div>\n",
       "<style scoped>\n",
       "    .dataframe tbody tr th:only-of-type {\n",
       "        vertical-align: middle;\n",
       "    }\n",
       "\n",
       "    .dataframe tbody tr th {\n",
       "        vertical-align: top;\n",
       "    }\n",
       "\n",
       "    .dataframe thead th {\n",
       "        text-align: right;\n",
       "    }\n",
       "</style>\n",
       "<table border=\"1\" class=\"dataframe\">\n",
       "  <thead>\n",
       "    <tr style=\"text-align: right;\">\n",
       "      <th></th>\n",
       "      <th>value</th>\n",
       "      <th>value_bins</th>\n",
       "    </tr>\n",
       "  </thead>\n",
       "  <tbody>\n",
       "    <tr>\n",
       "      <th>0</th>\n",
       "      <td>13.944473</td>\n",
       "      <td>1.0</td>\n",
       "    </tr>\n",
       "    <tr>\n",
       "      <th>1</th>\n",
       "      <td>67.977635</td>\n",
       "      <td>3.0</td>\n",
       "    </tr>\n",
       "    <tr>\n",
       "      <th>2</th>\n",
       "      <td>31.970922</td>\n",
       "      <td>1.0</td>\n",
       "    </tr>\n",
       "    <tr>\n",
       "      <th>3</th>\n",
       "      <td>48.270479</td>\n",
       "      <td>2.0</td>\n",
       "    </tr>\n",
       "    <tr>\n",
       "      <th>4</th>\n",
       "      <td>47.452931</td>\n",
       "      <td>2.0</td>\n",
       "    </tr>\n",
       "    <tr>\n",
       "      <th>5</th>\n",
       "      <td>90.025125</td>\n",
       "      <td>3.0</td>\n",
       "    </tr>\n",
       "    <tr>\n",
       "      <th>6</th>\n",
       "      <td>16.497258</td>\n",
       "      <td>1.0</td>\n",
       "    </tr>\n",
       "    <tr>\n",
       "      <th>7</th>\n",
       "      <td>82.173926</td>\n",
       "      <td>3.0</td>\n",
       "    </tr>\n",
       "    <tr>\n",
       "      <th>8</th>\n",
       "      <td>37.876954</td>\n",
       "      <td>1.0</td>\n",
       "    </tr>\n",
       "    <tr>\n",
       "      <th>9</th>\n",
       "      <td>28.021776</td>\n",
       "      <td>1.0</td>\n",
       "    </tr>\n",
       "    <tr>\n",
       "      <th>10</th>\n",
       "      <td>78.258143</td>\n",
       "      <td>3.0</td>\n",
       "    </tr>\n",
       "    <tr>\n",
       "      <th>11</th>\n",
       "      <td>70.826562</td>\n",
       "      <td>3.0</td>\n",
       "    </tr>\n",
       "    <tr>\n",
       "      <th>12</th>\n",
       "      <td>93.581547</td>\n",
       "      <td>3.0</td>\n",
       "    </tr>\n",
       "    <tr>\n",
       "      <th>13</th>\n",
       "      <td>76.791723</td>\n",
       "      <td>3.0</td>\n",
       "    </tr>\n",
       "    <tr>\n",
       "      <th>14</th>\n",
       "      <td>43.598877</td>\n",
       "      <td>2.0</td>\n",
       "    </tr>\n",
       "    <tr>\n",
       "      <th>15</th>\n",
       "      <td>39.389731</td>\n",
       "      <td>2.0</td>\n",
       "    </tr>\n",
       "    <tr>\n",
       "      <th>16</th>\n",
       "      <td>21.113431</td>\n",
       "      <td>1.0</td>\n",
       "    </tr>\n",
       "    <tr>\n",
       "      <th>17</th>\n",
       "      <td>45.302586</td>\n",
       "      <td>2.0</td>\n",
       "    </tr>\n",
       "    <tr>\n",
       "      <th>18</th>\n",
       "      <td>49.004045</td>\n",
       "      <td>2.0</td>\n",
       "    </tr>\n",
       "    <tr>\n",
       "      <th>19</th>\n",
       "      <td>-12.809722</td>\n",
       "      <td>0.0</td>\n",
       "    </tr>\n",
       "    <tr>\n",
       "      <th>20</th>\n",
       "      <td>60.412412</td>\n",
       "      <td>2.0</td>\n",
       "    </tr>\n",
       "    <tr>\n",
       "      <th>21</th>\n",
       "      <td>65.398960</td>\n",
       "      <td>3.0</td>\n",
       "    </tr>\n",
       "    <tr>\n",
       "      <th>22</th>\n",
       "      <td>55.761392</td>\n",
       "      <td>2.0</td>\n",
       "    </tr>\n",
       "    <tr>\n",
       "      <th>23</th>\n",
       "      <td>29.576699</td>\n",
       "      <td>1.0</td>\n",
       "    </tr>\n",
       "    <tr>\n",
       "      <th>24</th>\n",
       "      <td>67.612212</td>\n",
       "      <td>3.0</td>\n",
       "    </tr>\n",
       "    <tr>\n",
       "      <th>25</th>\n",
       "      <td>59.060597</td>\n",
       "      <td>2.0</td>\n",
       "    </tr>\n",
       "    <tr>\n",
       "      <th>26</th>\n",
       "      <td>59.930161</td>\n",
       "      <td>2.0</td>\n",
       "    </tr>\n",
       "    <tr>\n",
       "      <th>27</th>\n",
       "      <td>30.688350</td>\n",
       "      <td>1.0</td>\n",
       "    </tr>\n",
       "    <tr>\n",
       "      <th>28</th>\n",
       "      <td>16.996967</td>\n",
       "      <td>1.0</td>\n",
       "    </tr>\n",
       "    <tr>\n",
       "      <th>29</th>\n",
       "      <td>19.138042</td>\n",
       "      <td>1.0</td>\n",
       "    </tr>\n",
       "    <tr>\n",
       "      <th>30</th>\n",
       "      <td>27.126139</td>\n",
       "      <td>1.0</td>\n",
       "    </tr>\n",
       "    <tr>\n",
       "      <th>31</th>\n",
       "      <td>34.772006</td>\n",
       "      <td>1.0</td>\n",
       "    </tr>\n",
       "    <tr>\n",
       "      <th>32</th>\n",
       "      <td>4.451545</td>\n",
       "      <td>0.0</td>\n",
       "    </tr>\n",
       "    <tr>\n",
       "      <th>33</th>\n",
       "      <td>27.448744</td>\n",
       "      <td>1.0</td>\n",
       "    </tr>\n",
       "    <tr>\n",
       "      <th>34</th>\n",
       "      <td>33.192889</td>\n",
       "      <td>1.0</td>\n",
       "    </tr>\n",
       "    <tr>\n",
       "      <th>35</th>\n",
       "      <td>57.159939</td>\n",
       "      <td>2.0</td>\n",
       "    </tr>\n",
       "    <tr>\n",
       "      <th>36</th>\n",
       "      <td>14.017073</td>\n",
       "      <td>1.0</td>\n",
       "    </tr>\n",
       "    <tr>\n",
       "      <th>37</th>\n",
       "      <td>40.188151</td>\n",
       "      <td>2.0</td>\n",
       "    </tr>\n",
       "    <tr>\n",
       "      <th>38</th>\n",
       "      <td>32.904866</td>\n",
       "      <td>1.0</td>\n",
       "    </tr>\n",
       "    <tr>\n",
       "      <th>39</th>\n",
       "      <td>67.457268</td>\n",
       "      <td>3.0</td>\n",
       "    </tr>\n",
       "    <tr>\n",
       "      <th>40</th>\n",
       "      <td>56.795825</td>\n",
       "      <td>2.0</td>\n",
       "    </tr>\n",
       "    <tr>\n",
       "      <th>41</th>\n",
       "      <td>59.358264</td>\n",
       "      <td>2.0</td>\n",
       "    </tr>\n",
       "    <tr>\n",
       "      <th>42</th>\n",
       "      <td>31.239310</td>\n",
       "      <td>1.0</td>\n",
       "    </tr>\n",
       "    <tr>\n",
       "      <th>43</th>\n",
       "      <td>44.744061</td>\n",
       "      <td>2.0</td>\n",
       "    </tr>\n",
       "    <tr>\n",
       "      <th>44</th>\n",
       "      <td>69.877493</td>\n",
       "      <td>3.0</td>\n",
       "    </tr>\n",
       "    <tr>\n",
       "      <th>45</th>\n",
       "      <td>48.239788</td>\n",
       "      <td>2.0</td>\n",
       "    </tr>\n",
       "    <tr>\n",
       "      <th>46</th>\n",
       "      <td>86.149034</td>\n",
       "      <td>3.0</td>\n",
       "    </tr>\n",
       "    <tr>\n",
       "      <th>47</th>\n",
       "      <td>46.207481</td>\n",
       "      <td>2.0</td>\n",
       "    </tr>\n",
       "    <tr>\n",
       "      <th>48</th>\n",
       "      <td>67.796871</td>\n",
       "      <td>3.0</td>\n",
       "    </tr>\n",
       "    <tr>\n",
       "      <th>49</th>\n",
       "      <td>31.603372</td>\n",
       "      <td>1.0</td>\n",
       "    </tr>\n",
       "  </tbody>\n",
       "</table>\n",
       "</div>"
      ],
      "text/plain": [
       "        value  value_bins\n",
       "0   13.944473         1.0\n",
       "1   67.977635         3.0\n",
       "2   31.970922         1.0\n",
       "3   48.270479         2.0\n",
       "4   47.452931         2.0\n",
       "5   90.025125         3.0\n",
       "6   16.497258         1.0\n",
       "7   82.173926         3.0\n",
       "8   37.876954         1.0\n",
       "9   28.021776         1.0\n",
       "10  78.258143         3.0\n",
       "11  70.826562         3.0\n",
       "12  93.581547         3.0\n",
       "13  76.791723         3.0\n",
       "14  43.598877         2.0\n",
       "15  39.389731         2.0\n",
       "16  21.113431         1.0\n",
       "17  45.302586         2.0\n",
       "18  49.004045         2.0\n",
       "19 -12.809722         0.0\n",
       "20  60.412412         2.0\n",
       "21  65.398960         3.0\n",
       "22  55.761392         2.0\n",
       "23  29.576699         1.0\n",
       "24  67.612212         3.0\n",
       "25  59.060597         2.0\n",
       "26  59.930161         2.0\n",
       "27  30.688350         1.0\n",
       "28  16.996967         1.0\n",
       "29  19.138042         1.0\n",
       "30  27.126139         1.0\n",
       "31  34.772006         1.0\n",
       "32   4.451545         0.0\n",
       "33  27.448744         1.0\n",
       "34  33.192889         1.0\n",
       "35  57.159939         2.0\n",
       "36  14.017073         1.0\n",
       "37  40.188151         2.0\n",
       "38  32.904866         1.0\n",
       "39  67.457268         3.0\n",
       "40  56.795825         2.0\n",
       "41  59.358264         2.0\n",
       "42  31.239310         1.0\n",
       "43  44.744061         2.0\n",
       "44  69.877493         3.0\n",
       "45  48.239788         2.0\n",
       "46  86.149034         3.0\n",
       "47  46.207481         2.0\n",
       "48  67.796871         3.0\n",
       "49  31.603372         1.0"
      ]
     },
     "execution_count": 28,
     "metadata": {},
     "output_type": "execute_result"
    }
   ],
   "source": [
    "amostra"
   ]
  },
  {
   "cell_type": "code",
   "execution_count": 29,
   "metadata": {},
   "outputs": [],
   "source": [
    "amostra['inv_bins'] = kbd.inverse_transform(amostra[['value_bins']])"
   ]
  },
  {
   "cell_type": "code",
   "execution_count": 30,
   "metadata": {},
   "outputs": [
    {
     "data": {
      "text/html": [
       "<div>\n",
       "<style scoped>\n",
       "    .dataframe tbody tr th:only-of-type {\n",
       "        vertical-align: middle;\n",
       "    }\n",
       "\n",
       "    .dataframe tbody tr th {\n",
       "        vertical-align: top;\n",
       "    }\n",
       "\n",
       "    .dataframe thead th {\n",
       "        text-align: right;\n",
       "    }\n",
       "</style>\n",
       "<table border=\"1\" class=\"dataframe\">\n",
       "  <thead>\n",
       "    <tr style=\"text-align: right;\">\n",
       "      <th></th>\n",
       "      <th>value</th>\n",
       "      <th>value_bins</th>\n",
       "      <th>inv_bins</th>\n",
       "    </tr>\n",
       "  </thead>\n",
       "  <tbody>\n",
       "    <tr>\n",
       "      <th>0</th>\n",
       "      <td>13.944473</td>\n",
       "      <td>1.0</td>\n",
       "      <td>24.896548</td>\n",
       "    </tr>\n",
       "    <tr>\n",
       "      <th>1</th>\n",
       "      <td>67.977635</td>\n",
       "      <td>3.0</td>\n",
       "      <td>78.372388</td>\n",
       "    </tr>\n",
       "    <tr>\n",
       "      <th>2</th>\n",
       "      <td>31.970922</td>\n",
       "      <td>1.0</td>\n",
       "      <td>24.896548</td>\n",
       "    </tr>\n",
       "    <tr>\n",
       "      <th>3</th>\n",
       "      <td>48.270479</td>\n",
       "      <td>2.0</td>\n",
       "      <td>50.882251</td>\n",
       "    </tr>\n",
       "    <tr>\n",
       "      <th>4</th>\n",
       "      <td>47.452931</td>\n",
       "      <td>2.0</td>\n",
       "      <td>50.882251</td>\n",
       "    </tr>\n",
       "    <tr>\n",
       "      <th>5</th>\n",
       "      <td>90.025125</td>\n",
       "      <td>3.0</td>\n",
       "      <td>78.372388</td>\n",
       "    </tr>\n",
       "    <tr>\n",
       "      <th>6</th>\n",
       "      <td>16.497258</td>\n",
       "      <td>1.0</td>\n",
       "      <td>24.896548</td>\n",
       "    </tr>\n",
       "    <tr>\n",
       "      <th>7</th>\n",
       "      <td>82.173926</td>\n",
       "      <td>3.0</td>\n",
       "      <td>78.372388</td>\n",
       "    </tr>\n",
       "    <tr>\n",
       "      <th>8</th>\n",
       "      <td>37.876954</td>\n",
       "      <td>1.0</td>\n",
       "      <td>24.896548</td>\n",
       "    </tr>\n",
       "    <tr>\n",
       "      <th>9</th>\n",
       "      <td>28.021776</td>\n",
       "      <td>1.0</td>\n",
       "      <td>24.896548</td>\n",
       "    </tr>\n",
       "    <tr>\n",
       "      <th>10</th>\n",
       "      <td>78.258143</td>\n",
       "      <td>3.0</td>\n",
       "      <td>78.372388</td>\n",
       "    </tr>\n",
       "    <tr>\n",
       "      <th>11</th>\n",
       "      <td>70.826562</td>\n",
       "      <td>3.0</td>\n",
       "      <td>78.372388</td>\n",
       "    </tr>\n",
       "    <tr>\n",
       "      <th>12</th>\n",
       "      <td>93.581547</td>\n",
       "      <td>3.0</td>\n",
       "      <td>78.372388</td>\n",
       "    </tr>\n",
       "    <tr>\n",
       "      <th>13</th>\n",
       "      <td>76.791723</td>\n",
       "      <td>3.0</td>\n",
       "      <td>78.372388</td>\n",
       "    </tr>\n",
       "    <tr>\n",
       "      <th>14</th>\n",
       "      <td>43.598877</td>\n",
       "      <td>2.0</td>\n",
       "      <td>50.882251</td>\n",
       "    </tr>\n",
       "    <tr>\n",
       "      <th>15</th>\n",
       "      <td>39.389731</td>\n",
       "      <td>2.0</td>\n",
       "      <td>50.882251</td>\n",
       "    </tr>\n",
       "    <tr>\n",
       "      <th>16</th>\n",
       "      <td>21.113431</td>\n",
       "      <td>1.0</td>\n",
       "      <td>24.896548</td>\n",
       "    </tr>\n",
       "    <tr>\n",
       "      <th>17</th>\n",
       "      <td>45.302586</td>\n",
       "      <td>2.0</td>\n",
       "      <td>50.882251</td>\n",
       "    </tr>\n",
       "    <tr>\n",
       "      <th>18</th>\n",
       "      <td>49.004045</td>\n",
       "      <td>2.0</td>\n",
       "      <td>50.882251</td>\n",
       "    </tr>\n",
       "    <tr>\n",
       "      <th>19</th>\n",
       "      <td>-12.809722</td>\n",
       "      <td>0.0</td>\n",
       "      <td>-0.808949</td>\n",
       "    </tr>\n",
       "    <tr>\n",
       "      <th>20</th>\n",
       "      <td>60.412412</td>\n",
       "      <td>2.0</td>\n",
       "      <td>50.882251</td>\n",
       "    </tr>\n",
       "    <tr>\n",
       "      <th>21</th>\n",
       "      <td>65.398960</td>\n",
       "      <td>3.0</td>\n",
       "      <td>78.372388</td>\n",
       "    </tr>\n",
       "    <tr>\n",
       "      <th>22</th>\n",
       "      <td>55.761392</td>\n",
       "      <td>2.0</td>\n",
       "      <td>50.882251</td>\n",
       "    </tr>\n",
       "    <tr>\n",
       "      <th>23</th>\n",
       "      <td>29.576699</td>\n",
       "      <td>1.0</td>\n",
       "      <td>24.896548</td>\n",
       "    </tr>\n",
       "    <tr>\n",
       "      <th>24</th>\n",
       "      <td>67.612212</td>\n",
       "      <td>3.0</td>\n",
       "      <td>78.372388</td>\n",
       "    </tr>\n",
       "    <tr>\n",
       "      <th>25</th>\n",
       "      <td>59.060597</td>\n",
       "      <td>2.0</td>\n",
       "      <td>50.882251</td>\n",
       "    </tr>\n",
       "    <tr>\n",
       "      <th>26</th>\n",
       "      <td>59.930161</td>\n",
       "      <td>2.0</td>\n",
       "      <td>50.882251</td>\n",
       "    </tr>\n",
       "    <tr>\n",
       "      <th>27</th>\n",
       "      <td>30.688350</td>\n",
       "      <td>1.0</td>\n",
       "      <td>24.896548</td>\n",
       "    </tr>\n",
       "    <tr>\n",
       "      <th>28</th>\n",
       "      <td>16.996967</td>\n",
       "      <td>1.0</td>\n",
       "      <td>24.896548</td>\n",
       "    </tr>\n",
       "    <tr>\n",
       "      <th>29</th>\n",
       "      <td>19.138042</td>\n",
       "      <td>1.0</td>\n",
       "      <td>24.896548</td>\n",
       "    </tr>\n",
       "    <tr>\n",
       "      <th>30</th>\n",
       "      <td>27.126139</td>\n",
       "      <td>1.0</td>\n",
       "      <td>24.896548</td>\n",
       "    </tr>\n",
       "    <tr>\n",
       "      <th>31</th>\n",
       "      <td>34.772006</td>\n",
       "      <td>1.0</td>\n",
       "      <td>24.896548</td>\n",
       "    </tr>\n",
       "    <tr>\n",
       "      <th>32</th>\n",
       "      <td>4.451545</td>\n",
       "      <td>0.0</td>\n",
       "      <td>-0.808949</td>\n",
       "    </tr>\n",
       "    <tr>\n",
       "      <th>33</th>\n",
       "      <td>27.448744</td>\n",
       "      <td>1.0</td>\n",
       "      <td>24.896548</td>\n",
       "    </tr>\n",
       "    <tr>\n",
       "      <th>34</th>\n",
       "      <td>33.192889</td>\n",
       "      <td>1.0</td>\n",
       "      <td>24.896548</td>\n",
       "    </tr>\n",
       "    <tr>\n",
       "      <th>35</th>\n",
       "      <td>57.159939</td>\n",
       "      <td>2.0</td>\n",
       "      <td>50.882251</td>\n",
       "    </tr>\n",
       "    <tr>\n",
       "      <th>36</th>\n",
       "      <td>14.017073</td>\n",
       "      <td>1.0</td>\n",
       "      <td>24.896548</td>\n",
       "    </tr>\n",
       "    <tr>\n",
       "      <th>37</th>\n",
       "      <td>40.188151</td>\n",
       "      <td>2.0</td>\n",
       "      <td>50.882251</td>\n",
       "    </tr>\n",
       "    <tr>\n",
       "      <th>38</th>\n",
       "      <td>32.904866</td>\n",
       "      <td>1.0</td>\n",
       "      <td>24.896548</td>\n",
       "    </tr>\n",
       "    <tr>\n",
       "      <th>39</th>\n",
       "      <td>67.457268</td>\n",
       "      <td>3.0</td>\n",
       "      <td>78.372388</td>\n",
       "    </tr>\n",
       "    <tr>\n",
       "      <th>40</th>\n",
       "      <td>56.795825</td>\n",
       "      <td>2.0</td>\n",
       "      <td>50.882251</td>\n",
       "    </tr>\n",
       "    <tr>\n",
       "      <th>41</th>\n",
       "      <td>59.358264</td>\n",
       "      <td>2.0</td>\n",
       "      <td>50.882251</td>\n",
       "    </tr>\n",
       "    <tr>\n",
       "      <th>42</th>\n",
       "      <td>31.239310</td>\n",
       "      <td>1.0</td>\n",
       "      <td>24.896548</td>\n",
       "    </tr>\n",
       "    <tr>\n",
       "      <th>43</th>\n",
       "      <td>44.744061</td>\n",
       "      <td>2.0</td>\n",
       "      <td>50.882251</td>\n",
       "    </tr>\n",
       "    <tr>\n",
       "      <th>44</th>\n",
       "      <td>69.877493</td>\n",
       "      <td>3.0</td>\n",
       "      <td>78.372388</td>\n",
       "    </tr>\n",
       "    <tr>\n",
       "      <th>45</th>\n",
       "      <td>48.239788</td>\n",
       "      <td>2.0</td>\n",
       "      <td>50.882251</td>\n",
       "    </tr>\n",
       "    <tr>\n",
       "      <th>46</th>\n",
       "      <td>86.149034</td>\n",
       "      <td>3.0</td>\n",
       "      <td>78.372388</td>\n",
       "    </tr>\n",
       "    <tr>\n",
       "      <th>47</th>\n",
       "      <td>46.207481</td>\n",
       "      <td>2.0</td>\n",
       "      <td>50.882251</td>\n",
       "    </tr>\n",
       "    <tr>\n",
       "      <th>48</th>\n",
       "      <td>67.796871</td>\n",
       "      <td>3.0</td>\n",
       "      <td>78.372388</td>\n",
       "    </tr>\n",
       "    <tr>\n",
       "      <th>49</th>\n",
       "      <td>31.603372</td>\n",
       "      <td>1.0</td>\n",
       "      <td>24.896548</td>\n",
       "    </tr>\n",
       "  </tbody>\n",
       "</table>\n",
       "</div>"
      ],
      "text/plain": [
       "        value  value_bins   inv_bins\n",
       "0   13.944473         1.0  24.896548\n",
       "1   67.977635         3.0  78.372388\n",
       "2   31.970922         1.0  24.896548\n",
       "3   48.270479         2.0  50.882251\n",
       "4   47.452931         2.0  50.882251\n",
       "5   90.025125         3.0  78.372388\n",
       "6   16.497258         1.0  24.896548\n",
       "7   82.173926         3.0  78.372388\n",
       "8   37.876954         1.0  24.896548\n",
       "9   28.021776         1.0  24.896548\n",
       "10  78.258143         3.0  78.372388\n",
       "11  70.826562         3.0  78.372388\n",
       "12  93.581547         3.0  78.372388\n",
       "13  76.791723         3.0  78.372388\n",
       "14  43.598877         2.0  50.882251\n",
       "15  39.389731         2.0  50.882251\n",
       "16  21.113431         1.0  24.896548\n",
       "17  45.302586         2.0  50.882251\n",
       "18  49.004045         2.0  50.882251\n",
       "19 -12.809722         0.0  -0.808949\n",
       "20  60.412412         2.0  50.882251\n",
       "21  65.398960         3.0  78.372388\n",
       "22  55.761392         2.0  50.882251\n",
       "23  29.576699         1.0  24.896548\n",
       "24  67.612212         3.0  78.372388\n",
       "25  59.060597         2.0  50.882251\n",
       "26  59.930161         2.0  50.882251\n",
       "27  30.688350         1.0  24.896548\n",
       "28  16.996967         1.0  24.896548\n",
       "29  19.138042         1.0  24.896548\n",
       "30  27.126139         1.0  24.896548\n",
       "31  34.772006         1.0  24.896548\n",
       "32   4.451545         0.0  -0.808949\n",
       "33  27.448744         1.0  24.896548\n",
       "34  33.192889         1.0  24.896548\n",
       "35  57.159939         2.0  50.882251\n",
       "36  14.017073         1.0  24.896548\n",
       "37  40.188151         2.0  50.882251\n",
       "38  32.904866         1.0  24.896548\n",
       "39  67.457268         3.0  78.372388\n",
       "40  56.795825         2.0  50.882251\n",
       "41  59.358264         2.0  50.882251\n",
       "42  31.239310         1.0  24.896548\n",
       "43  44.744061         2.0  50.882251\n",
       "44  69.877493         3.0  78.372388\n",
       "45  48.239788         2.0  50.882251\n",
       "46  86.149034         3.0  78.372388\n",
       "47  46.207481         2.0  50.882251\n",
       "48  67.796871         3.0  78.372388\n",
       "49  31.603372         1.0  24.896548"
      ]
     },
     "execution_count": 30,
     "metadata": {},
     "output_type": "execute_result"
    }
   ],
   "source": [
    "amostra"
   ]
  },
  {
   "cell_type": "code",
   "execution_count": null,
   "metadata": {},
   "outputs": [],
   "source": []
  }
 ],
 "metadata": {
  "kernelspec": {
   "display_name": "Python 3 (ipykernel)",
   "language": "python",
   "name": "python3"
  },
  "language_info": {
   "codemirror_mode": {
    "name": "ipython",
    "version": 3
   },
   "file_extension": ".py",
   "mimetype": "text/x-python",
   "name": "python",
   "nbconvert_exporter": "python",
   "pygments_lexer": "ipython3",
   "version": "3.9.16"
  }
 },
 "nbformat": 4,
 "nbformat_minor": 4
}
