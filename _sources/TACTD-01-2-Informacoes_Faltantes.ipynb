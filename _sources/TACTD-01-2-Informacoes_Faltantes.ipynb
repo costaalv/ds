{
 "cells": [
  {
   "cell_type": "markdown",
   "metadata": {},
   "source": [
    "# Aula 01.2 - Informações faltantes _(missing data)_"
   ]
  },
  {
   "cell_type": "markdown",
   "metadata": {},
   "source": [
    "# MBA em Ciência de Dados\n",
    "# Técnicas Avançadas de Captura e Tratamento de Dados\n",
    "\n",
    "### <span style=\"color:darkred\">Dados estruturados e não estruturados e problemas típicos em bases de dados</span>\n",
    "\n",
    "\n",
    "## <span style=\"color:darkred\">Problemas típicos em bases de dados: Informações faltantes</span>\n",
    "\n",
    "Moacir Antonelli Ponti\n",
    "\n",
    "CeMEAI - ICMC/USP São Carlos\n",
    "\n",
    "---"
   ]
  },
  {
   "cell_type": "markdown",
   "metadata": {},
   "source": [
    "---"
   ]
  },
  {
   "cell_type": "markdown",
   "metadata": {},
   "source": [
    "## Problemas típicos em bases de dados\n",
    "\n",
    "* bases de dados, ainda que estruturadas, possuem problemas\n",
    "* a regra 80/20 diz que **80%** do tempo dos cientistas de dados é gasto **encontrando, limpando e organizando dados**\n",
    "\n",
    "    https://www.ibm.com/cloud/blog/ibm-data-catalog-data-scientists-productivity\n",
    "    \n",
    "<img src=\"./imagens/ibm-8020rule.png\" alt=\"drawing\" width=\"700\"/>\n",
    "\n",
    "* *não reconhecer esses problemas e ignorá-los pode levar a conclusões erradas na fase de análise.*\n",
    "\n",
    "\n",
    "\n",
    "## Informações faltantes (*missing data*)\n",
    "\n",
    "\n",
    "#### Razões para dados faltantes\n",
    "\n",
    "A maior causa da existência de dados faltantes está no projeto do protocolo de *coleta de dados* e na sua execução.\n",
    "\n",
    "Podemos observar as seguintes fontes de dados faltantes:\n",
    "\n",
    "* Omissão / não preenchimento de campo:\n",
    "    * usuário esqueceu\n",
    "    * usuário escolheu não preencher por não saber como preencher\n",
    "    * usuário preferiu não preencher com receio da interpretação da resposta\n",
    "    \n",
    "    \n",
    "* Dados perdidos: \n",
    "    * na digitação (em papel ou digital), \n",
    "    * na transferência de dados \n",
    "    * na migração de bases de dados \n",
    "    * na conversão entre formatos de arquivos    \n",
    "    \n",
    "    \n",
    "* Erro de programação\n",
    "\n"
   ]
  },
  {
   "cell_type": "markdown",
   "metadata": {},
   "source": [
    "### Tipo do dado faltante\n",
    "\n",
    "Seja $V$ o conjunto de todas as observações em um conjunto de dados. \n",
    "\n",
    "$V$ é particionado em $V_c$ e $V_m$, sendo que:\n",
    "* $V_c \\subseteq V$ são as observações completas em todos os campos/atributos,\n",
    "* $V_m \\subseteq V$ são as observações com ao menos um campo/atributo faltante (*missing*),\n",
    "\n",
    "---\n",
    "\n",
    "> Estabelecer a origem dos dados faltantes e sua causa pode ser importante, e só é completamente possível com auxílio de especialistas no domínio ou negócio\n",
    "\n",
    "---\n",
    "\n",
    "#### MCAR - missing completely at random\n",
    "\n",
    "**Faltantes completamente aleatórios**\n",
    "- a probabilidade de $V_m$ ser faltante é independente de $V_m$ e independente de qualquer outra observação $X \\in V_c$ no dataset;\n",
    "- caso em que qualquer dado tem a mesma chance de estar faltando;\n",
    "\n",
    "*Exemplo*: ao avaliar um produto os clientes decidem reportar ou não a sua satisfação jogando cara-ou-coroa;\n",
    "\n",
    "*Nesse caso:* $V_c$ são uma amostra representativa de todas as outras, e podem ser usadas para completar $V_m$\n"
   ]
  },
  {
   "cell_type": "code",
   "execution_count": 1,
   "metadata": {},
   "outputs": [
    {
     "name": "stdout",
     "output_type": "stream",
     "text": [
      "Número de observacoes na base de dados:  30\n"
     ]
    },
    {
     "data": {
      "text/html": [
       "<div>\n",
       "<style scoped>\n",
       "    .dataframe tbody tr th:only-of-type {\n",
       "        vertical-align: middle;\n",
       "    }\n",
       "\n",
       "    .dataframe tbody tr th {\n",
       "        vertical-align: top;\n",
       "    }\n",
       "\n",
       "    .dataframe thead th {\n",
       "        text-align: right;\n",
       "    }\n",
       "</style>\n",
       "<table border=\"1\" class=\"dataframe\">\n",
       "  <thead>\n",
       "    <tr style=\"text-align: right;\">\n",
       "      <th></th>\n",
       "      <th>e-mail</th>\n",
       "      <th>Name</th>\n",
       "      <th>Sex</th>\n",
       "      <th>Rate</th>\n",
       "    </tr>\n",
       "  </thead>\n",
       "  <tbody>\n",
       "    <tr>\n",
       "      <th>0</th>\n",
       "      <td>eug_ewell@live.com</td>\n",
       "      <td>Eugenio Ewell</td>\n",
       "      <td>M</td>\n",
       "      <td>NaN</td>\n",
       "    </tr>\n",
       "    <tr>\n",
       "      <th>1</th>\n",
       "      <td>NaN</td>\n",
       "      <td>Ivo Izidro</td>\n",
       "      <td>M</td>\n",
       "      <td>5.0</td>\n",
       "    </tr>\n",
       "    <tr>\n",
       "      <th>2</th>\n",
       "      <td>multiplx@mac.com</td>\n",
       "      <td>Lindsey Lever</td>\n",
       "      <td>NaN</td>\n",
       "      <td>3.0</td>\n",
       "    </tr>\n",
       "    <tr>\n",
       "      <th>3</th>\n",
       "      <td>bader@sbcglobal.net</td>\n",
       "      <td>Desiree Dardar</td>\n",
       "      <td>F</td>\n",
       "      <td>NaN</td>\n",
       "    </tr>\n",
       "    <tr>\n",
       "      <th>4</th>\n",
       "      <td>nasarius@aol.com</td>\n",
       "      <td>Mariann Mulero</td>\n",
       "      <td>F</td>\n",
       "      <td>3.0</td>\n",
       "    </tr>\n",
       "    <tr>\n",
       "      <th>5</th>\n",
       "      <td>jusdisgi@outlook.com</td>\n",
       "      <td>Kathey Kleiman</td>\n",
       "      <td>F</td>\n",
       "      <td>4.0</td>\n",
       "    </tr>\n",
       "    <tr>\n",
       "      <th>6</th>\n",
       "      <td>rrollison@aol.com</td>\n",
       "      <td>Rupert Rollison</td>\n",
       "      <td>M</td>\n",
       "      <td>2.0</td>\n",
       "    </tr>\n",
       "    <tr>\n",
       "      <th>7</th>\n",
       "      <td>seymoress@aol.com</td>\n",
       "      <td>Signe Seymore</td>\n",
       "      <td>F</td>\n",
       "      <td>NaN</td>\n",
       "    </tr>\n",
       "    <tr>\n",
       "      <th>8</th>\n",
       "      <td>loralemo@gmail.com</td>\n",
       "      <td>Lora Lemoine</td>\n",
       "      <td>F</td>\n",
       "      <td>4.0</td>\n",
       "    </tr>\n",
       "    <tr>\n",
       "      <th>9</th>\n",
       "      <td>NaN</td>\n",
       "      <td>Leanne Lowy</td>\n",
       "      <td>F</td>\n",
       "      <td>4.0</td>\n",
       "    </tr>\n",
       "  </tbody>\n",
       "</table>\n",
       "</div>"
      ],
      "text/plain": [
       "                 e-mail             Name  Sex  Rate\n",
       "0    eug_ewell@live.com    Eugenio Ewell    M   NaN\n",
       "1                   NaN       Ivo Izidro    M   5.0\n",
       "2      multiplx@mac.com    Lindsey Lever  NaN   3.0\n",
       "3   bader@sbcglobal.net   Desiree Dardar    F   NaN\n",
       "4      nasarius@aol.com   Mariann Mulero    F   3.0\n",
       "5  jusdisgi@outlook.com   Kathey Kleiman    F   4.0\n",
       "6     rrollison@aol.com  Rupert Rollison    M   2.0\n",
       "7     seymoress@aol.com    Signe Seymore    F   NaN\n",
       "8    loralemo@gmail.com     Lora Lemoine    F   4.0\n",
       "9                   NaN      Leanne Lowy    F   4.0"
      ]
     },
     "execution_count": 1,
     "metadata": {},
     "output_type": "execute_result"
    }
   ],
   "source": [
    "import numpy as np\n",
    "import matplotlib.pyplot as plt\n",
    "import pandas as pd\n",
    "\n",
    "data_mcar = pd.read_csv(\"./dados/TACTD-01-Faltantes_MCAR.csv\", sep=',', header=0)\n",
    "\n",
    "print(\"Número de observacoes na base de dados: \", data_mcar.shape[0])\n",
    "data_mcar[:10]"
   ]
  },
  {
   "cell_type": "markdown",
   "metadata": {},
   "source": [
    "Digamos que estamos interessados nas avaliacoes realizadas, ou seja \"Rate\", vamos ver as estatísticas descritivas desse atributo"
   ]
  },
  {
   "cell_type": "code",
   "execution_count": 2,
   "metadata": {},
   "outputs": [
    {
     "data": {
      "text/plain": [
       "count    24.000000\n",
       "mean      3.500000\n",
       "std       1.215838\n",
       "min       1.000000\n",
       "25%       3.000000\n",
       "50%       4.000000\n",
       "75%       4.000000\n",
       "max       5.000000\n",
       "Name: Rate, dtype: float64"
      ]
     },
     "execution_count": 2,
     "metadata": {},
     "output_type": "execute_result"
    }
   ],
   "source": [
    "data_mcar['Rate'].describe()"
   ]
  },
  {
   "cell_type": "markdown",
   "metadata": {},
   "source": [
    "Mas sabemos que há dados faltantes, então vamos olhar especificamente para eles"
   ]
  },
  {
   "cell_type": "code",
   "execution_count": 3,
   "metadata": {},
   "outputs": [
    {
     "data": {
      "text/html": [
       "<div>\n",
       "<style scoped>\n",
       "    .dataframe tbody tr th:only-of-type {\n",
       "        vertical-align: middle;\n",
       "    }\n",
       "\n",
       "    .dataframe tbody tr th {\n",
       "        vertical-align: top;\n",
       "    }\n",
       "\n",
       "    .dataframe thead th {\n",
       "        text-align: right;\n",
       "    }\n",
       "</style>\n",
       "<table border=\"1\" class=\"dataframe\">\n",
       "  <thead>\n",
       "    <tr style=\"text-align: right;\">\n",
       "      <th></th>\n",
       "      <th>e-mail</th>\n",
       "      <th>Name</th>\n",
       "      <th>Sex</th>\n",
       "      <th>Rate</th>\n",
       "    </tr>\n",
       "  </thead>\n",
       "  <tbody>\n",
       "    <tr>\n",
       "      <th>0</th>\n",
       "      <td>eug_ewell@live.com</td>\n",
       "      <td>Eugenio Ewell</td>\n",
       "      <td>M</td>\n",
       "      <td>NaN</td>\n",
       "    </tr>\n",
       "    <tr>\n",
       "      <th>3</th>\n",
       "      <td>bader@sbcglobal.net</td>\n",
       "      <td>Desiree Dardar</td>\n",
       "      <td>F</td>\n",
       "      <td>NaN</td>\n",
       "    </tr>\n",
       "    <tr>\n",
       "      <th>7</th>\n",
       "      <td>seymoress@aol.com</td>\n",
       "      <td>Signe Seymore</td>\n",
       "      <td>F</td>\n",
       "      <td>NaN</td>\n",
       "    </tr>\n",
       "    <tr>\n",
       "      <th>13</th>\n",
       "      <td>cobree@aol.com</td>\n",
       "      <td>Carlos Cobre</td>\n",
       "      <td>M</td>\n",
       "      <td>NaN</td>\n",
       "    </tr>\n",
       "    <tr>\n",
       "      <th>18</th>\n",
       "      <td>agapow@comcast.net</td>\n",
       "      <td>Ricardo Rima</td>\n",
       "      <td>M</td>\n",
       "      <td>NaN</td>\n",
       "    </tr>\n",
       "    <tr>\n",
       "      <th>24</th>\n",
       "      <td>NaN</td>\n",
       "      <td>Herta Hatley</td>\n",
       "      <td>NaN</td>\n",
       "      <td>NaN</td>\n",
       "    </tr>\n",
       "  </tbody>\n",
       "</table>\n",
       "</div>"
      ],
      "text/plain": [
       "                 e-mail            Name  Sex  Rate\n",
       "0    eug_ewell@live.com   Eugenio Ewell    M   NaN\n",
       "3   bader@sbcglobal.net  Desiree Dardar    F   NaN\n",
       "7     seymoress@aol.com   Signe Seymore    F   NaN\n",
       "13       cobree@aol.com    Carlos Cobre    M   NaN\n",
       "18   agapow@comcast.net    Ricardo Rima    M   NaN\n",
       "24                  NaN    Herta Hatley  NaN   NaN"
      ]
     },
     "execution_count": 3,
     "metadata": {},
     "output_type": "execute_result"
    }
   ],
   "source": [
    "# observando os dados de avaliacoes que sao nulos\n",
    "data_mcar[data_mcar['Rate'].isnull()]"
   ]
  },
  {
   "cell_type": "code",
   "execution_count": 4,
   "metadata": {},
   "outputs": [
    {
     "data": {
      "image/png": "[encoded data removed]",
      "text/plain": [
       "<Figure size 640x480 with 1 Axes>"
      ]
     },
     "metadata": {},
     "output_type": "display_data"
    }
   ],
   "source": [
    "# olhando para a distribuicao dos dados...\n",
    "hist = data_mcar.hist(bins=np.arange(1,7))"
   ]
  },
  {
   "cell_type": "markdown",
   "metadata": {},
   "source": [
    "Aparentemente, não há uma causa dos dados faltantes, então é provável um cenário **MCAR**, para o qual existem várias técnicas disponíveis para minimizar o efeito de dados faltantes.\n",
    "\n",
    "Note que $V_m$, mostradas acima não parece ter qualquer relação com os valores de $V_m$ nem com outras variáveis $V_c$ observadas."
   ]
  },
  {
   "cell_type": "markdown",
   "metadata": {},
   "source": [
    "---\n",
    "\n",
    "#### MAR : missing at random\n",
    "\n",
    "**Faltantes (condicionalmente) aleatórios**:\n",
    "- a probabilidade de $V_m$ ser faltante é independente de $V_m$, mas\n",
    "- está relacionada a outras variáveis $V_c$ (para os quais há dados disponíveis) no dataset;\n",
    "\n",
    "*Exemplo*: ao revisar um serviço contratado online, *homens* tendem a omitir a satisfação sobre o serviço, mas isso **não** tem relação com seu nível de satisfação,\n",
    "\n",
    "*Nesse caso:* $V_c$ são uma amostra representativa apenas para certo conjunto de observações,\n",
    "\n"
   ]
  },
  {
   "cell_type": "code",
   "execution_count": 5,
   "metadata": {},
   "outputs": [
    {
     "data": {
      "text/html": [
       "<div>\n",
       "<style scoped>\n",
       "    .dataframe tbody tr th:only-of-type {\n",
       "        vertical-align: middle;\n",
       "    }\n",
       "\n",
       "    .dataframe tbody tr th {\n",
       "        vertical-align: top;\n",
       "    }\n",
       "\n",
       "    .dataframe thead th {\n",
       "        text-align: right;\n",
       "    }\n",
       "</style>\n",
       "<table border=\"1\" class=\"dataframe\">\n",
       "  <thead>\n",
       "    <tr style=\"text-align: right;\">\n",
       "      <th></th>\n",
       "      <th>e-mail</th>\n",
       "      <th>Name</th>\n",
       "      <th>Sex</th>\n",
       "      <th>Rate</th>\n",
       "    </tr>\n",
       "  </thead>\n",
       "  <tbody>\n",
       "    <tr>\n",
       "      <th>1</th>\n",
       "      <td>iizi@yahoo.ca</td>\n",
       "      <td>Ivo Izidro</td>\n",
       "      <td>M</td>\n",
       "      <td>NaN</td>\n",
       "    </tr>\n",
       "    <tr>\n",
       "      <th>12</th>\n",
       "      <td>kk@verizon.net</td>\n",
       "      <td>Kraig Kriner</td>\n",
       "      <td>M</td>\n",
       "      <td>NaN</td>\n",
       "    </tr>\n",
       "    <tr>\n",
       "      <th>18</th>\n",
       "      <td>agapow@comcast.net</td>\n",
       "      <td>Ricardo Rima</td>\n",
       "      <td>M</td>\n",
       "      <td>NaN</td>\n",
       "    </tr>\n",
       "    <tr>\n",
       "      <th>23</th>\n",
       "      <td>joelw@live.com</td>\n",
       "      <td>Elias Elmo</td>\n",
       "      <td>M</td>\n",
       "      <td>NaN</td>\n",
       "    </tr>\n",
       "    <tr>\n",
       "      <th>25</th>\n",
       "      <td>jaju@mac.com</td>\n",
       "      <td>Jada Judon</td>\n",
       "      <td>M</td>\n",
       "      <td>NaN</td>\n",
       "    </tr>\n",
       "    <tr>\n",
       "      <th>27</th>\n",
       "      <td>njpayne@comcast.net</td>\n",
       "      <td>Lillian Labree</td>\n",
       "      <td>F</td>\n",
       "      <td>NaN</td>\n",
       "    </tr>\n",
       "  </tbody>\n",
       "</table>\n",
       "</div>"
      ],
      "text/plain": [
       "                 e-mail            Name Sex  Rate\n",
       "1         iizi@yahoo.ca      Ivo Izidro   M   NaN\n",
       "12       kk@verizon.net    Kraig Kriner   M   NaN\n",
       "18   agapow@comcast.net    Ricardo Rima   M   NaN\n",
       "23       joelw@live.com      Elias Elmo   M   NaN\n",
       "25         jaju@mac.com      Jada Judon   M   NaN\n",
       "27  njpayne@comcast.net  Lillian Labree   F   NaN"
      ]
     },
     "execution_count": 5,
     "metadata": {},
     "output_type": "execute_result"
    }
   ],
   "source": [
    "data_mar = pd.read_csv(\"./dados/TACTD-01-Faltantes_MAR.csv\")\n",
    "\n",
    "data_mar[data_mar['Rate'].isna()]"
   ]
  },
  {
   "cell_type": "markdown",
   "metadata": {},
   "source": [
    "Observar os dados visualmente pode não significar muito... vamos usar estatística descritiva e depois olhar apenas para os dados faltantes"
   ]
  },
  {
   "cell_type": "code",
   "execution_count": 6,
   "metadata": {
    "scrolled": true
   },
   "outputs": [
    {
     "data": {
      "text/html": [
       "<div>\n",
       "<style scoped>\n",
       "    .dataframe tbody tr th:only-of-type {\n",
       "        vertical-align: middle;\n",
       "    }\n",
       "\n",
       "    .dataframe tbody tr th {\n",
       "        vertical-align: top;\n",
       "    }\n",
       "\n",
       "    .dataframe thead th {\n",
       "        text-align: right;\n",
       "    }\n",
       "</style>\n",
       "<table border=\"1\" class=\"dataframe\">\n",
       "  <thead>\n",
       "    <tr style=\"text-align: right;\">\n",
       "      <th></th>\n",
       "      <th>Rate</th>\n",
       "    </tr>\n",
       "  </thead>\n",
       "  <tbody>\n",
       "    <tr>\n",
       "      <th>count</th>\n",
       "      <td>24.000000</td>\n",
       "    </tr>\n",
       "    <tr>\n",
       "      <th>mean</th>\n",
       "      <td>3.666667</td>\n",
       "    </tr>\n",
       "    <tr>\n",
       "      <th>std</th>\n",
       "      <td>1.007220</td>\n",
       "    </tr>\n",
       "    <tr>\n",
       "      <th>min</th>\n",
       "      <td>1.000000</td>\n",
       "    </tr>\n",
       "    <tr>\n",
       "      <th>25%</th>\n",
       "      <td>3.000000</td>\n",
       "    </tr>\n",
       "    <tr>\n",
       "      <th>50%</th>\n",
       "      <td>4.000000</td>\n",
       "    </tr>\n",
       "    <tr>\n",
       "      <th>75%</th>\n",
       "      <td>4.000000</td>\n",
       "    </tr>\n",
       "    <tr>\n",
       "      <th>max</th>\n",
       "      <td>5.000000</td>\n",
       "    </tr>\n",
       "  </tbody>\n",
       "</table>\n",
       "</div>"
      ],
      "text/plain": [
       "            Rate\n",
       "count  24.000000\n",
       "mean    3.666667\n",
       "std     1.007220\n",
       "min     1.000000\n",
       "25%     3.000000\n",
       "50%     4.000000\n",
       "75%     4.000000\n",
       "max     5.000000"
      ]
     },
     "execution_count": 6,
     "metadata": {},
     "output_type": "execute_result"
    }
   ],
   "source": [
    "data_mar.describe()"
   ]
  },
  {
   "cell_type": "code",
   "execution_count": 7,
   "metadata": {},
   "outputs": [],
   "source": [
    "# criando um dataframe para visualizar lado a lado a estatística descritiva\n",
    "df_descr = data_mar.describe()"
   ]
  },
  {
   "cell_type": "code",
   "execution_count": 8,
   "metadata": {},
   "outputs": [],
   "source": [
    "df_descr['Rate_F'] = data_mar[data_mar['Sex']=='F'].describe()\n",
    "df_descr['Rate_M'] = data_mar[data_mar['Sex']=='M'].describe()"
   ]
  },
  {
   "cell_type": "code",
   "execution_count": 9,
   "metadata": {},
   "outputs": [
    {
     "data": {
      "text/html": [
       "<div>\n",
       "<style scoped>\n",
       "    .dataframe tbody tr th:only-of-type {\n",
       "        vertical-align: middle;\n",
       "    }\n",
       "\n",
       "    .dataframe tbody tr th {\n",
       "        vertical-align: top;\n",
       "    }\n",
       "\n",
       "    .dataframe thead th {\n",
       "        text-align: right;\n",
       "    }\n",
       "</style>\n",
       "<table border=\"1\" class=\"dataframe\">\n",
       "  <thead>\n",
       "    <tr style=\"text-align: right;\">\n",
       "      <th></th>\n",
       "      <th>Rate</th>\n",
       "      <th>Rate_F</th>\n",
       "      <th>Rate_M</th>\n",
       "    </tr>\n",
       "  </thead>\n",
       "  <tbody>\n",
       "    <tr>\n",
       "      <th>count</th>\n",
       "      <td>24.000000</td>\n",
       "      <td>17.000000</td>\n",
       "      <td>7.000000</td>\n",
       "    </tr>\n",
       "    <tr>\n",
       "      <th>mean</th>\n",
       "      <td>3.666667</td>\n",
       "      <td>3.705882</td>\n",
       "      <td>3.571429</td>\n",
       "    </tr>\n",
       "    <tr>\n",
       "      <th>std</th>\n",
       "      <td>1.007220</td>\n",
       "      <td>1.046704</td>\n",
       "      <td>0.975900</td>\n",
       "    </tr>\n",
       "    <tr>\n",
       "      <th>min</th>\n",
       "      <td>1.000000</td>\n",
       "      <td>1.000000</td>\n",
       "      <td>2.000000</td>\n",
       "    </tr>\n",
       "    <tr>\n",
       "      <th>25%</th>\n",
       "      <td>3.000000</td>\n",
       "      <td>3.000000</td>\n",
       "      <td>3.000000</td>\n",
       "    </tr>\n",
       "    <tr>\n",
       "      <th>50%</th>\n",
       "      <td>4.000000</td>\n",
       "      <td>4.000000</td>\n",
       "      <td>4.000000</td>\n",
       "    </tr>\n",
       "    <tr>\n",
       "      <th>75%</th>\n",
       "      <td>4.000000</td>\n",
       "      <td>4.000000</td>\n",
       "      <td>4.000000</td>\n",
       "    </tr>\n",
       "    <tr>\n",
       "      <th>max</th>\n",
       "      <td>5.000000</td>\n",
       "      <td>5.000000</td>\n",
       "      <td>5.000000</td>\n",
       "    </tr>\n",
       "  </tbody>\n",
       "</table>\n",
       "</div>"
      ],
      "text/plain": [
       "            Rate     Rate_F    Rate_M\n",
       "count  24.000000  17.000000  7.000000\n",
       "mean    3.666667   3.705882  3.571429\n",
       "std     1.007220   1.046704  0.975900\n",
       "min     1.000000   1.000000  2.000000\n",
       "25%     3.000000   3.000000  3.000000\n",
       "50%     4.000000   4.000000  4.000000\n",
       "75%     4.000000   4.000000  4.000000\n",
       "max     5.000000   5.000000  5.000000"
      ]
     },
     "execution_count": 9,
     "metadata": {},
     "output_type": "execute_result"
    }
   ],
   "source": [
    "df_descr"
   ]
  },
  {
   "cell_type": "markdown",
   "metadata": {},
   "source": [
    "--- \n",
    "#### MNAR: missing not at random\n",
    "\n",
    "**Faltantes não aleatórios** ou respostas não ignoráveis\n",
    "- origem quando descartamos MCAR e MAR;\n",
    "- o valor da variável faltante é a razão pela qual ela está faltando;\n",
    "    \n",
    "*Exemplo*: ao revisar um produto comprado, clientes tendem a omitir o nível satisfação com o produto **devido** ao nível de satisfação,\n",
    "\n",
    "*Nesse caso:* ?\n",
    "\n"
   ]
  },
  {
   "cell_type": "code",
   "execution_count": 10,
   "metadata": {},
   "outputs": [
    {
     "data": {
      "text/html": [
       "<div>\n",
       "<style scoped>\n",
       "    .dataframe tbody tr th:only-of-type {\n",
       "        vertical-align: middle;\n",
       "    }\n",
       "\n",
       "    .dataframe tbody tr th {\n",
       "        vertical-align: top;\n",
       "    }\n",
       "\n",
       "    .dataframe thead th {\n",
       "        text-align: right;\n",
       "    }\n",
       "</style>\n",
       "<table border=\"1\" class=\"dataframe\">\n",
       "  <thead>\n",
       "    <tr style=\"text-align: right;\">\n",
       "      <th></th>\n",
       "      <th>e-mail</th>\n",
       "      <th>Name</th>\n",
       "      <th>Sex</th>\n",
       "      <th>Rate</th>\n",
       "    </tr>\n",
       "  </thead>\n",
       "  <tbody>\n",
       "    <tr>\n",
       "      <th>0</th>\n",
       "      <td>eug_ewell@live.com</td>\n",
       "      <td>Eugenio Ewell</td>\n",
       "      <td>M</td>\n",
       "      <td>4.0</td>\n",
       "    </tr>\n",
       "    <tr>\n",
       "      <th>1</th>\n",
       "      <td>iizi@yahoo.ca</td>\n",
       "      <td>Ivo Izidro</td>\n",
       "      <td>M</td>\n",
       "      <td>5.0</td>\n",
       "    </tr>\n",
       "    <tr>\n",
       "      <th>2</th>\n",
       "      <td>multiplx@mac.com</td>\n",
       "      <td>Lindsey Lever</td>\n",
       "      <td>M</td>\n",
       "      <td>3.0</td>\n",
       "    </tr>\n",
       "    <tr>\n",
       "      <th>3</th>\n",
       "      <td>bader@sbcglobal.net</td>\n",
       "      <td>Desiree Dardar</td>\n",
       "      <td>F</td>\n",
       "      <td>NaN</td>\n",
       "    </tr>\n",
       "    <tr>\n",
       "      <th>4</th>\n",
       "      <td>nasarius@aol.com</td>\n",
       "      <td>Mariann Mulero</td>\n",
       "      <td>F</td>\n",
       "      <td>NaN</td>\n",
       "    </tr>\n",
       "    <tr>\n",
       "      <th>5</th>\n",
       "      <td>jusdisgi@outlook.com</td>\n",
       "      <td>Kathey Kleiman</td>\n",
       "      <td>F</td>\n",
       "      <td>4.0</td>\n",
       "    </tr>\n",
       "    <tr>\n",
       "      <th>6</th>\n",
       "      <td>rrollison@aol.com</td>\n",
       "      <td>Rupert Rollison</td>\n",
       "      <td>M</td>\n",
       "      <td>NaN</td>\n",
       "    </tr>\n",
       "    <tr>\n",
       "      <th>7</th>\n",
       "      <td>seymoress@aol.com</td>\n",
       "      <td>Signe Seymore</td>\n",
       "      <td>F</td>\n",
       "      <td>3.0</td>\n",
       "    </tr>\n",
       "  </tbody>\n",
       "</table>\n",
       "</div>"
      ],
      "text/plain": [
       "                 e-mail             Name Sex  Rate\n",
       "0    eug_ewell@live.com    Eugenio Ewell   M   4.0\n",
       "1         iizi@yahoo.ca       Ivo Izidro   M   5.0\n",
       "2      multiplx@mac.com    Lindsey Lever   M   3.0\n",
       "3   bader@sbcglobal.net   Desiree Dardar   F   NaN\n",
       "4      nasarius@aol.com   Mariann Mulero   F   NaN\n",
       "5  jusdisgi@outlook.com   Kathey Kleiman   F   4.0\n",
       "6     rrollison@aol.com  Rupert Rollison   M   NaN\n",
       "7     seymoress@aol.com    Signe Seymore   F   3.0"
      ]
     },
     "execution_count": 10,
     "metadata": {},
     "output_type": "execute_result"
    }
   ],
   "source": [
    "data_nr = pd.read_csv(\"./dados/TACTD-01-Faltantes_NonRandom.csv\")\n",
    "\n",
    "data_nr.head(8)"
   ]
  },
  {
   "cell_type": "code",
   "execution_count": 11,
   "metadata": {},
   "outputs": [
    {
     "data": {
      "text/html": [
       "<div>\n",
       "<style scoped>\n",
       "    .dataframe tbody tr th:only-of-type {\n",
       "        vertical-align: middle;\n",
       "    }\n",
       "\n",
       "    .dataframe tbody tr th {\n",
       "        vertical-align: top;\n",
       "    }\n",
       "\n",
       "    .dataframe thead th {\n",
       "        text-align: right;\n",
       "    }\n",
       "</style>\n",
       "<table border=\"1\" class=\"dataframe\">\n",
       "  <thead>\n",
       "    <tr style=\"text-align: right;\">\n",
       "      <th></th>\n",
       "      <th>Rate</th>\n",
       "    </tr>\n",
       "  </thead>\n",
       "  <tbody>\n",
       "    <tr>\n",
       "      <th>count</th>\n",
       "      <td>22.000000</td>\n",
       "    </tr>\n",
       "    <tr>\n",
       "      <th>mean</th>\n",
       "      <td>4.090909</td>\n",
       "    </tr>\n",
       "    <tr>\n",
       "      <th>std</th>\n",
       "      <td>0.750180</td>\n",
       "    </tr>\n",
       "    <tr>\n",
       "      <th>min</th>\n",
       "      <td>3.000000</td>\n",
       "    </tr>\n",
       "    <tr>\n",
       "      <th>25%</th>\n",
       "      <td>4.000000</td>\n",
       "    </tr>\n",
       "    <tr>\n",
       "      <th>50%</th>\n",
       "      <td>4.000000</td>\n",
       "    </tr>\n",
       "    <tr>\n",
       "      <th>75%</th>\n",
       "      <td>5.000000</td>\n",
       "    </tr>\n",
       "    <tr>\n",
       "      <th>max</th>\n",
       "      <td>5.000000</td>\n",
       "    </tr>\n",
       "  </tbody>\n",
       "</table>\n",
       "</div>"
      ],
      "text/plain": [
       "            Rate\n",
       "count  22.000000\n",
       "mean    4.090909\n",
       "std     0.750180\n",
       "min     3.000000\n",
       "25%     4.000000\n",
       "50%     4.000000\n",
       "75%     5.000000\n",
       "max     5.000000"
      ]
     },
     "execution_count": 11,
     "metadata": {},
     "output_type": "execute_result"
    }
   ],
   "source": [
    "data_nr.describe()"
   ]
  },
  {
   "cell_type": "code",
   "execution_count": 12,
   "metadata": {},
   "outputs": [
    {
     "data": {
      "text/html": [
       "<div>\n",
       "<style scoped>\n",
       "    .dataframe tbody tr th:only-of-type {\n",
       "        vertical-align: middle;\n",
       "    }\n",
       "\n",
       "    .dataframe tbody tr th {\n",
       "        vertical-align: top;\n",
       "    }\n",
       "\n",
       "    .dataframe thead th {\n",
       "        text-align: right;\n",
       "    }\n",
       "</style>\n",
       "<table border=\"1\" class=\"dataframe\">\n",
       "  <thead>\n",
       "    <tr style=\"text-align: right;\">\n",
       "      <th></th>\n",
       "      <th>e-mail</th>\n",
       "      <th>Name</th>\n",
       "      <th>Sex</th>\n",
       "      <th>Rate</th>\n",
       "    </tr>\n",
       "  </thead>\n",
       "  <tbody>\n",
       "    <tr>\n",
       "      <th>3</th>\n",
       "      <td>bader@sbcglobal.net</td>\n",
       "      <td>Desiree Dardar</td>\n",
       "      <td>F</td>\n",
       "      <td>NaN</td>\n",
       "    </tr>\n",
       "    <tr>\n",
       "      <th>4</th>\n",
       "      <td>nasarius@aol.com</td>\n",
       "      <td>Mariann Mulero</td>\n",
       "      <td>F</td>\n",
       "      <td>NaN</td>\n",
       "    </tr>\n",
       "    <tr>\n",
       "      <th>6</th>\n",
       "      <td>rrollison@aol.com</td>\n",
       "      <td>Rupert Rollison</td>\n",
       "      <td>M</td>\n",
       "      <td>NaN</td>\n",
       "    </tr>\n",
       "    <tr>\n",
       "      <th>11</th>\n",
       "      <td>danzigism@aol.com</td>\n",
       "      <td>Mayra Mcnish</td>\n",
       "      <td>F</td>\n",
       "      <td>NaN</td>\n",
       "    </tr>\n",
       "    <tr>\n",
       "      <th>13</th>\n",
       "      <td>cobree@aol.com</td>\n",
       "      <td>Carlos Cobre</td>\n",
       "      <td>M</td>\n",
       "      <td>NaN</td>\n",
       "    </tr>\n",
       "    <tr>\n",
       "      <th>20</th>\n",
       "      <td>temmink@icloud.com</td>\n",
       "      <td>Willene Wolfgram</td>\n",
       "      <td>F</td>\n",
       "      <td>NaN</td>\n",
       "    </tr>\n",
       "    <tr>\n",
       "      <th>26</th>\n",
       "      <td>tubajon@sbcglobal.net</td>\n",
       "      <td>Joelle Jaffee</td>\n",
       "      <td>F</td>\n",
       "      <td>NaN</td>\n",
       "    </tr>\n",
       "    <tr>\n",
       "      <th>29</th>\n",
       "      <td>dfevre@optonline.net</td>\n",
       "      <td>Douglas Damario</td>\n",
       "      <td>M</td>\n",
       "      <td>NaN</td>\n",
       "    </tr>\n",
       "  </tbody>\n",
       "</table>\n",
       "</div>"
      ],
      "text/plain": [
       "                   e-mail              Name Sex  Rate\n",
       "3     bader@sbcglobal.net    Desiree Dardar   F   NaN\n",
       "4        nasarius@aol.com    Mariann Mulero   F   NaN\n",
       "6       rrollison@aol.com   Rupert Rollison   M   NaN\n",
       "11      danzigism@aol.com      Mayra Mcnish   F   NaN\n",
       "13         cobree@aol.com      Carlos Cobre   M   NaN\n",
       "20     temmink@icloud.com  Willene Wolfgram   F   NaN\n",
       "26  tubajon@sbcglobal.net     Joelle Jaffee   F   NaN\n",
       "29   dfevre@optonline.net   Douglas Damario   M   NaN"
      ]
     },
     "execution_count": 12,
     "metadata": {},
     "output_type": "execute_result"
    }
   ],
   "source": [
    "data_nr[data_nr['Rate'].isnull()]"
   ]
  },
  {
   "cell_type": "code",
   "execution_count": 13,
   "metadata": {
    "scrolled": true
   },
   "outputs": [
    {
     "data": {
      "image/png": "[encoded data removed]",
      "text/plain": [
       "<Figure size 640x480 with 1 Axes>"
      ]
     },
     "metadata": {},
     "output_type": "display_data"
    }
   ],
   "source": [
    "# olhando para a distribuicao dos dados...\n",
    "hist = data_nr.hist(bins=np.arange(1,7))"
   ]
  },
  {
   "cell_type": "code",
   "execution_count": 14,
   "metadata": {},
   "outputs": [
    {
     "data": {
      "text/plain": [
       "4.0    10\n",
       "5.0     7\n",
       "3.0     5\n",
       "Name: Rate, dtype: int64"
      ]
     },
     "execution_count": 14,
     "metadata": {},
     "output_type": "execute_result"
    }
   ],
   "source": [
    "data_nr['Rate'].value_counts()"
   ]
  },
  {
   "cell_type": "markdown",
   "metadata": {},
   "source": [
    "## Resumo e considerações finais\n",
    "\n",
    "Bases de dados reais possuem problemas relacionados à coleta que não podem ser negligenciados\n",
    "\n",
    "Parte importante do trabalho do cientista de dados é reconhecer esses problemas\n",
    "\n",
    "**Dados faltantes** é um desses problemas e pode ocorrer em três tipos principais\n",
    "* Completamente Aleatório - MCAR\n",
    "* Aleatório (condicionalmente) - MAR\n",
    "* Não aleatório\n",
    "\n",
    "A abordagem para tratar cada caso deve ser diferente!\n",
    "\n",
    "> Análise dos dados pode indicar a origem *mais provável*, mas apenas com conhecimento do domínio e do negócio é possível determinar de forma definitiva a causa"
   ]
  },
  {
   "cell_type": "code",
   "execution_count": null,
   "metadata": {},
   "outputs": [],
   "source": []
  }
 ],
 "metadata": {
  "kernelspec": {
   "display_name": "Python 3 (ipykernel)",
   "language": "python",
   "name": "python3"
  },
  "language_info": {
   "codemirror_mode": {
    "name": "ipython",
    "version": 3
   },
   "file_extension": ".py",
   "mimetype": "text/x-python",
   "name": "python",
   "nbconvert_exporter": "python",
   "pygments_lexer": "ipython3",
   "version": "3.11.3"
  }
 },
 "nbformat": 4,
 "nbformat_minor": 4
}
