{
 "cells": [
  {
   "cell_type": "markdown",
   "id": "c4fb81b7-187e-44c2-9ba4-a7ba35405b7a",
   "metadata": {},
   "source": [
    "## Questão 01"
   ]
  },
  {
   "cell_type": "code",
   "execution_count": 1,
   "id": "83a378ee-1cb0-44d8-9092-730a2e550849",
   "metadata": {
    "tags": []
   },
   "outputs": [
    {
     "name": "stdout",
     "output_type": "stream",
     "text": [
      "A resolução da imagem é: (1653, 2339)\n"
     ]
    }
   ],
   "source": [
    "from pdf2image import convert_from_path\n",
    "from PIL import Image\n",
    "\n",
    "# Converte o PDF em imagens\n",
    "images = convert_from_path('nfe-avaliacao.pdf')\n",
    "\n",
    "# Salva a primeira página do PDF como PNG\n",
    "images[0].save('nfe-avaliacao.png', 'PNG')\n",
    "\n",
    "# Carrega a imagem PNG\n",
    "img = Image.open('nfe-avaliacao.png')\n",
    "\n",
    "# Obtém a resolução da imagem\n",
    "resolution = img.size\n",
    "\n",
    "print(f'A resolução da imagem é: {resolution}')"
   ]
  },
  {
   "cell_type": "markdown",
   "id": "d40bec4b-e803-44ba-8f85-c9cdb0cc25b5",
   "metadata": {},
   "source": [
    "Na primeira parte, estamos importando as funções e bibliotecas necessárias.<br>\n",
    "**convert_from_path** é uma função da biblioteca pdf2image que permite converter um arquivo PDF em imagens.<br>\n",
    "**Image** é uma classe da biblioteca PIL (Pillow) que permite manipular imagens."
   ]
  },
  {
   "cell_type": "markdown",
   "id": "3752c1b0-d68a-4382-b453-fa31af553fb1",
   "metadata": {},
   "source": [
    "Nesta linha, chamamos a função **convert_from_path** com o caminho para o arquivo PDF como argumento. Isso retorna uma lista de imagens, onde cada imagem corresponde a uma página do PDF. Se o seu PDF tiver várias páginas, images[0] será a primeira página, images[1] será a segunda, e assim por diante."
   ]
  },
  {
   "cell_type": "markdown",
   "id": "b1bd127c-e114-4571-9a1a-4b3e87ec8d21",
   "metadata": {},
   "source": [
    "Aqui, estamos pegando a primeira imagem da lista (que corresponde à primeira página do PDF) e salvando-a como um arquivo PNG. A função **save** é um método da classe **Image** que permite salvar uma imagem em um arquivo. O primeiro argumento é o nome (e caminho, se necessário) do arquivo a ser criado, e o segundo argumento é o formato da imagem."
   ]
  },
  {
   "cell_type": "markdown",
   "id": "ada19c62-d5e8-4395-9ce5-238a666f9152",
   "metadata": {},
   "source": [
    "Aqui, estamos usando a função **open** da classe **Image** para abrir a imagem PNG que acabamos de criar. Isso retorna um objeto Image que podemos usar para manipular a imagem."
   ]
  },
  {
   "cell_type": "markdown",
   "id": "e0153968-4ec0-4150-83af-f77e80659df4",
   "metadata": {},
   "source": [
    "Aqui, estamos usando a propriedade **size** do objeto **Image** para obter a resolução da imagem. size retorna uma tupla onde o primeiro elemento é a largura da imagem e o segundo elemento é a altura."
   ]
  },
  {
   "cell_type": "markdown",
   "id": "39c93525-b6bd-40d4-84df-3cf53f702061",
   "metadata": {},
   "source": [
    "Finalmente, estamos imprimindo a resolução da imagem. A função **print** exibe seu argumento na saída padrão (geralmente a tela). **f'A resolução da imagem é: {resolution}'** é uma string formatada, que permite inserir o valor de resolution diretamente na string."
   ]
  },
  {
   "cell_type": "markdown",
   "id": "ee2628bf-aacb-40df-ae9f-36d78bb3df99",
   "metadata": {},
   "source": [
    "## Questão 02"
   ]
  },
  {
   "cell_type": "code",
   "execution_count": 2,
   "id": "e3a1a3eb-967f-44c0-af68-7a8d9b63f60a",
   "metadata": {
    "tags": []
   },
   "outputs": [
    {
     "name": "stdout",
     "output_type": "stream",
     "text": [
      " \n",
      "\n",
      " \n",
      "\n",
      "DATA DE RECEBIMENTO\n",
      "\n",
      " \n",
      "\n",
      "JIDENTIFICACAO E ASSINATURA DO RECEBEDOR\n",
      "\n",
      " \n",
      "\n",
      " \n",
      "\n",
      " \n",
      "\n",
      " \n",
      "\n",
      " \n",
      "\n",
      " \n",
      "\n",
      "IDENTIFICACAO DO EMITENTE\n",
      "\n",
      " \n",
      "\n",
      "DOCUMENTO AUXILIAR\n",
      "DA NOTA FISCAL\n",
      "\n",
      " \n",
      "\n",
      " \n",
      "\n",
      " \n",
      "\n",
      " \n",
      "\n",
      " \n",
      "\n",
      " \n",
      "\n",
      "173550010000012101043403614\n",
      "\n",
      " \n",
      "\n",
      "ELETRONICA\n",
      "CHAVE DE ACESSO\n",
      "0 - ENTRADA 1\n",
      "1 - SAIDA\n",
      "N°\n",
      "Série 1\n",
      "Folha 1/1 Autorizadora.\n",
      "\n",
      "Consulta de autenticidade no portal nacional da NF-e\n",
      "www.nfe.fazenda.gov.br/portal ou no site da Sefaz\n",
      "\n",
      " \n",
      "\n",
      "NATUREZA DE OPERACAO\n",
      "s\n",
      "\n",
      "REMESSA DE FATURAMENTO ANTECIPADO\n",
      "\n",
      " \n",
      "\n",
      "IPROTOCOLO DE AUTORIZAGAO DE USO\n",
      "\n",
      "2019 15:04:31\n",
      "\n",
      " \n",
      "\n",
      " \n",
      "\n",
      " \n",
      "\n",
      " \n",
      "\n",
      " \n",
      "\n",
      "INSCRICAO ESTADUAL IINSCRICAO ESTADUAL DO SUBST. TRIBUT. |cNPo\n",
      "DESTINATARIO / REMETENTE\n",
      "NOME 7 RAZAO SOCIAL [CNPT 7 CPF PATA DE EMISSAO\n",
      "\n",
      " \n",
      "\n",
      " \n",
      "\n",
      " \n",
      "\n",
      " \n",
      "\n",
      "26/11/2019\n",
      "ENDERECO IBAIRRO / DISTRITO EP [DATA DA ENTRADA/SAIDA\n",
      "LOTE 227 IPARQUE TECNOLOGICO 17500-200 28/11/2019\n",
      "MUNICIPIO JFONE / FAX UF JINSCRICAO ESTADUAL JHORA DA SAIDA\n",
      "SAO CARLOS SP 08:00\n",
      "\n",
      " \n",
      "\n",
      " \n",
      "\n",
      " \n",
      "\n",
      " \n",
      "\n",
      "FATURA / DUPLICATA\n",
      "\n",
      " \n",
      "\n",
      "CALCULO DO IMPOSTO\n",
      "\n",
      " \n",
      "\n",
      " \n",
      "\n",
      " \n",
      "\n",
      " \n",
      "\n",
      " \n",
      "\n",
      " \n",
      "\n",
      " \n",
      "\n",
      " \n",
      "\n",
      " \n",
      "\n",
      " \n",
      "\n",
      " \n",
      "\n",
      " \n",
      "\n",
      " \n",
      "\n",
      " \n",
      "\n",
      " \n",
      "\n",
      " \n",
      "\n",
      " \n",
      "\n",
      " \n",
      "\n",
      " \n",
      "\n",
      " \n",
      "\n",
      " \n",
      "\n",
      " \n",
      "\n",
      " \n",
      "\n",
      " \n",
      "\n",
      " \n",
      "\n",
      " \n",
      "\n",
      " \n",
      "\n",
      " \n",
      "\n",
      " \n",
      "\n",
      " \n",
      "\n",
      " \n",
      "\n",
      " \n",
      "\n",
      " \n",
      "\n",
      " \n",
      "\n",
      " \n",
      "\n",
      " \n",
      "\n",
      " \n",
      "\n",
      " \n",
      "\n",
      " \n",
      "\n",
      " \n",
      "\n",
      " \n",
      "\n",
      " \n",
      "\n",
      " \n",
      "\n",
      " \n",
      "\n",
      " \n",
      "\n",
      " \n",
      "\n",
      " \n",
      "\n",
      " \n",
      "\n",
      " \n",
      "\n",
      " \n",
      "\n",
      " \n",
      "\n",
      " \n",
      "\n",
      "BASE DE CALCULO DO ICMS [ALOR DO ICMS [BASE DE CALCULO DO ICMS S.T. VALOR DO ICMS SUBSTITUICAO (ALOR TOTAL DOS PRODUTOS\n",
      "0,00 0,00 0,00 0,00 5687,62\n",
      "VALOR DO FRETE (ALOR DO SEGURO JDESCONTO JUTRAS DESP. ACESSORIAS |VALOR TOTAL DO IPI JSALOR APROXIMADO DOS TRIBUTOS (ALOR TOTAL DA NOTA\n",
      "250,00 0,00 337,62 0,00 0,00 1425,19 5600,00\n",
      "TRANSPORTADOR / VOLUMES TRANSPORTADOS\n",
      "NOME 7 RAZAO SOCIAL JFRETE POR CONTA |CODIGO ANTT [PLACA DO VEICULO iF ‘NPI 7 CPF\n",
      "lo-eMrr. 2-TERC.\n",
      "IL-DEST. 9-S/FRETE I\n",
      "ENDERECO IUNICIPIO iF JINSCRICAO ESTADUAL\n",
      "QUANTIDADE [ESPECIE MARCA JUMERACAO JPESO BRUTO [PESO LIQUIDO\n",
      "56 JOLUMES 1358,617 1345, 008\n",
      "DADOS DOS PRODUTOS / SERVICOS\n",
      "6p. PRoDUTO DESCRIGAO DOS PRODUTOS / SERVICOS wew/sa | 8% crop] un | ouawe. | wanor unrr. | vazo tomar |p. cAtc. roms} gator rcxs| yanor xpr |ALIQ: |ALIO.\n",
      "1143 69072100] 0500/5117) M2 | 8,58 67,90 582,58 0,00 0,00 0,00 0 [0,00\n",
      "84867 69072100] 0500/5117} M2 | 16,66 134,90 2247, 43 0,00 0,00 0,00 0 [0,00\n",
      "88737 69072300) 0500|5117) M2 | 51,12 35,90 2857, 61 0,00 0,00 0,00 0 [0,00\n",
      "CALCULO DO ISSQN\n",
      "INSCRICAO MUNICIPAL (ALOR TOTAL DOS SERVICOS [BASE DE CALCULO DO ISSON (ALOR DO ISSON\n",
      "0,00 0,00 0,00\n",
      "DADOS ADICIONAIS\n",
      "INFORMACGOES COMPLEMENTARES JRESERVADO AO FISCO\n",
      "\n",
      " \n",
      "\n",
      " \n",
      "\f",
      "\n",
      "A primeira sequência de caracteres alfanuméricos é: DATA\n"
     ]
    }
   ],
   "source": [
    "import pytesseract\n",
    "from PIL import Image\n",
    "\n",
    "# Carrega a imagem\n",
    "img = Image.open('nfe-avaliacao.png')\n",
    "\n",
    "# Aplica OCR na imagem\n",
    "text = pytesseract.image_to_string(img)\n",
    "\n",
    "# Imprime o texto extraído\n",
    "print(text)\n",
    "\n",
    "# Divide o texto em palavras\n",
    "words = text.split()\n",
    "\n",
    "# Imprime a primeira sequência de caracteres alfanuméricos\n",
    "for word in words:\n",
    "    if word.isalnum():\n",
    "        print('A primeira sequência de caracteres alfanuméricos é:', word)\n",
    "        break"
   ]
  },
  {
   "cell_type": "markdown",
   "id": "a82e5f1e-256c-4dad-b121-5da641f210fd",
   "metadata": {},
   "source": [
    "## Questão 03"
   ]
  },
  {
   "cell_type": "markdown",
   "id": "19fd3e4a-eef0-4477-8e7c-7d3fd0738559",
   "metadata": {},
   "source": [
    "Escreva uma expressão regular para encontrar sequências de dígitos separados por vírgulas no texto extraído no exercício 2) da avaliação. Ou seja, todas as ocorrências de uma sequência de dígitos que precedem uma vírgula, a qual é seguida por outra sequência de dígitos (por exemplo: 7545,436). Quantas sequências destes tipo foram encontradas?\n",
    "\n",
    "DICA: Combine os símbolos [], \\d, +"
   ]
  },
  {
   "cell_type": "code",
   "execution_count": 3,
   "id": "515d1f4c-771d-404d-9535-fd3e738494d1",
   "metadata": {
    "tags": []
   },
   "outputs": [
    {
     "name": "stdout",
     "output_type": "stream",
     "text": [
      "0,00\n",
      "0,00\n",
      "0,00\n",
      "0,00\n",
      "5687,62\n",
      "250,00\n",
      "0,00\n",
      "337,62\n",
      "0,00\n",
      "0,00\n",
      "1425,19\n",
      "5600,00\n",
      "1358,617\n",
      "8,58\n",
      "67,90\n",
      "582,58\n",
      "0,00\n",
      "0,00\n",
      "0,00\n",
      "0,00\n",
      "16,66\n",
      "134,90\n",
      "0,00\n",
      "0,00\n",
      "0,00\n",
      "0,00\n",
      "51,12\n",
      "35,90\n",
      "0,00\n",
      "0,00\n",
      "0,00\n",
      "0,00\n",
      "0,00\n",
      "0,00\n",
      "0,00\n",
      "Foram encontradas 35 sequências.\n"
     ]
    }
   ],
   "source": [
    "import re\n",
    "\n",
    "# Aqui está uma string de exemplo, substitua 'text' pela variável que contém o seu texto\n",
    "text\n",
    "\n",
    "# A expressão regular para encontrar sequências de dígitos separados por vírgulas\n",
    "pattern = r'\\d+,\\d+'\n",
    "\n",
    "# Encontra todas as ocorrências da expressão regular no texto\n",
    "matches = re.findall(pattern, text)\n",
    "\n",
    "# Imprime as sequências encontradas\n",
    "for match in matches:\n",
    "    print(match)\n",
    "\n",
    "# Imprime o número de sequências encontradas\n",
    "print(f'Foram encontradas {len(matches)} sequências.')"
   ]
  },
  {
   "cell_type": "markdown",
   "id": "45c702f3-218a-422b-9cc0-a4462592f410",
   "metadata": {},
   "source": [
    "## Questão 04"
   ]
  },
  {
   "cell_type": "code",
   "execution_count": 7,
   "id": "512327df-983b-4226-81ee-2b2ff02e62d7",
   "metadata": {
    "tags": []
   },
   "outputs": [
    {
     "name": "stdout",
     "output_type": "stream",
     "text": [
      "Aparecem 7 palavras distintas:\n",
      " {'PRoDUTO', 'AUTORIZAGAO', 'PRODUTOS', 'TRIBUTOS', 'DISTRITO', 'BRUTO', 'IMPOSTO'}\n"
     ]
    }
   ],
   "source": [
    "regex = re.findall('\\w*[ISU]TO\\w*', text)\n",
    "regex_distintas = set(regex)\n",
    "contagem = len(regex_distintas)\n",
    "print(f'Aparecem {contagem} palavras distintas:\\n {regex_distintas}')"
   ]
  },
  {
   "cell_type": "markdown",
   "id": "8b812d37-5038-45d0-bdf1-854b13e0b48f",
   "metadata": {},
   "source": [
    "Este é um script em Python que usa expressões regulares para procurar palavras que contêm as sequências 'ITO', 'STO' ou 'UTO'. Vou explicar cada linha:\n",
    "\n",
    "**regex = re.findall('\\w*[ISU]TO\\w*', text)**:\n",
    "Este comando procura no texto todas as palavras que contêm as sequências 'ITO', 'STO' ou 'UTO'. O padrão de expressão regular '\\w*[ISU]TO\\w*' é dividido da seguinte maneira:\n",
    "\n",
    "\\w* - corresponde a qualquer número (incluindo zero) de caracteres de palavra (isto é, letras maiúsculas e minúsculas, dígitos e sublinhados)\n",
    "\n",
    "[ISU] - corresponde a qualquer um dos caracteres 'I', 'S' ou 'U'\n",
    "\n",
    "TO - corresponde à sequência de caracteres 'TO'\n",
    "\n",
    "\\w* - novamente, corresponde a qualquer número (incluindo zero) de caracteres de palavra\n",
    "\n",
    "A função **re.findall** retorna todas as correspondências não sobrepostas do padrão em string, como uma lista de strings.\n",
    "\n",
    "**regex_distintas = set(regex)**:\n",
    "\n",
    "Este comando transforma a lista de palavras correspondentes em um conjunto. Em Python, um conjunto (set) é uma coleção não ordenada de itens únicos. Portanto, ao transformar a lista em um conjunto, todas as palavras duplicadas são removidas.\n",
    "\n",
    "**contagem = len(regex_distintas)**:\n",
    "\n",
    "Este comando conta o número de itens no conjunto (que representa o número de palavras distintas que correspondem ao padrão de expressão regular).\n",
    "\n",
    "**print(f'Aparecem {contagem} palavras distintas:\\n {regex_distintas}')**:\n",
    "\n",
    "Este comando imprime o número de palavras distintas e o conjunto de palavras distintas. O \\n é um caractere de nova linha, o que significa que as palavras distintas serão impressas em uma nova linha após a mensagem.\n",
    "\n",
    "Portanto, este script procura palavras que contêm as sequências 'ITO', 'STO' ou 'UTO', remove as duplicatas e conta o número de palavras únicas que correspondem a esse padrão."
   ]
  },
  {
   "cell_type": "markdown",
   "id": "a8e05cb6-16be-40da-953b-f34cd38c2fce",
   "metadata": {},
   "source": [
    "## Questão 5"
   ]
  },
  {
   "cell_type": "markdown",
   "id": "4386b769-3a4c-4d2d-af39-77a5b561b967",
   "metadata": {},
   "source": [
    "O texto da célula abaixo foi obtido aplicando OCR em um documento PDF. Como pode ser notado, o OCR gerou alguns caracteres errados, principalmente a letra \"v\" da palavra \"valor\", que, por alguma razão, pode não ter sido corretamente reconhecida pelo OCR. Note que em alguns casos a letra \"v\" nem foi identificada, resultando em \"alor\", o que também foi um erro do OCR.\n",
    "\n",
    "Encontre todas as ocorrências da palavra \"valor\" e suas variações (como \"valores\" e \"valorizado\"), considerando os erros de identificação do OCR. Quantas ocorrências distintas foram encontradas (distintas significa não considerar a mesma palavra mais que uma vez)?\n",
    "\n",
    "**Dica 1**: Preste atenção para não contar mais de uma vez cada palavra. Você pode utilizar o comando set para extrair as palavras distintas da lista de palavras encontradas."
   ]
  },
  {
   "cell_type": "code",
   "execution_count": 5,
   "id": "4d8a0567-92f7-4346-91a3-5a7de2c2c32f",
   "metadata": {
    "tags": []
   },
   "outputs": [
    {
     "name": "stdout",
     "output_type": "stream",
     "text": [
      "Foram encontradas 0 palavras distintas.\n"
     ]
    }
   ],
   "source": [
    "import re\n",
    "\n",
    "# Substitua 'text' pela variável que contém o seu texto\n",
    "text\n",
    "\n",
    "# A expressão regular para encontrar palavras com as sequências desejadas\n",
    "pattern = r'\\b\\w*l[ou]r(?:es|izado)?\\b'\n",
    "\n",
    "# Encontra todas as ocorrências da expressão regular no texto\n",
    "matches = re.findall(pattern, text)\n",
    "\n",
    "# Cria um conjunto para armazenar palavras distintas\n",
    "distinct_words = set(matches)\n",
    "\n",
    "# Imprime as palavras distintas encontradas\n",
    "for word in distinct_words:\n",
    "    print(word)\n",
    "\n",
    "# Imprime o número de palavras distintas encontradas\n",
    "print(f'Foram encontradas {len(distinct_words)} palavras distintas.')"
   ]
  },
  {
   "cell_type": "code",
   "execution_count": null,
   "id": "d4a2ecc7-cfe2-4c74-9d06-1b2c8ed7ccf6",
   "metadata": {},
   "outputs": [],
   "source": []
  }
 ],
 "metadata": {
  "kernelspec": {
   "display_name": "Python 3 (ipykernel)",
   "language": "python",
   "name": "python3"
  },
  "language_info": {
   "codemirror_mode": {
    "name": "ipython",
    "version": 3
   },
   "file_extension": ".py",
   "mimetype": "text/x-python",
   "name": "python",
   "nbconvert_exporter": "python",
   "pygments_lexer": "ipython3",
   "version": "3.10.9"
  }
 },
 "nbformat": 4,
 "nbformat_minor": 5
}
