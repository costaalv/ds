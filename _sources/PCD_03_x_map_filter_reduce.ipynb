{
 "cells": [
  {
   "cell_type": "markdown",
   "id": "2ba9c696",
   "metadata": {},
   "source": [
    "# Aula 03 - Funções 'map', 'filter' e 'reduce'"
   ]
  },
  {
   "cell_type": "markdown",
   "id": "cac42086",
   "metadata": {},
   "source": [
    "# Função 'map'"
   ]
  },
  {
   "cell_type": "markdown",
   "id": "ad608d20",
   "metadata": {},
   "source": [
    "Em Python, a função map é usada para aplicar uma função a cada elemento de uma sequência (como uma lista, tupla ou conjunto) e retornar um iterador com os resultados. A sintaxe básica da função map é a seguinte:"
   ]
  },
  {
   "cell_type": "code",
   "execution_count": 1,
   "id": "97140009",
   "metadata": {},
   "outputs": [],
   "source": [
    "# map(funcao, sequencia)"
   ]
  },
  {
   "cell_type": "markdown",
   "id": "2909ae03",
   "metadata": {},
   "source": [
    "- funcao: é uma função que será aplicada a cada elemento da sequência.\n",
    "\n",
    "- sequencia: é a sequência de entrada que será percorrida pela função.\n",
    "\n",
    "A função map retorna um iterador que contém os resultados da aplicação da função em cada elemento da sequência. Esse iterador pode ser convertido em uma lista, tupla ou conjunto, se desejado.\n",
    "\n",
    "A função passada como argumento para map deve ter um único argumento, que é um elemento da sequência de entrada. Por exemplo, se a sequência de entrada for uma lista de números [1, 2, 3, 4], a função passada para map deve ser capaz de lidar com um número de cada vez, como a função quadrado definida abaixo:"
   ]
  },
  {
   "cell_type": "code",
   "execution_count": 2,
   "id": "33ba4c59",
   "metadata": {},
   "outputs": [],
   "source": [
    "def quadrado(x):\n",
    "    return x ** 2"
   ]
  },
  {
   "cell_type": "markdown",
   "id": "6971e600",
   "metadata": {},
   "source": [
    "Ao chamar a função map com a função quadrado e a lista [1, 2, 3, 4] como argumentos:"
   ]
  },
  {
   "cell_type": "code",
   "execution_count": 3,
   "id": "6c5b0a98",
   "metadata": {},
   "outputs": [],
   "source": [
    "lista = [1, 2, 3, 4]\n",
    "resultado = map(quadrado, lista)"
   ]
  },
  {
   "cell_type": "code",
   "execution_count": 4,
   "id": "615f8385",
   "metadata": {},
   "outputs": [
    {
     "data": {
      "text/plain": [
       "map"
      ]
     },
     "execution_count": 4,
     "metadata": {},
     "output_type": "execute_result"
    }
   ],
   "source": [
    "type(resultado)"
   ]
  },
  {
   "cell_type": "markdown",
   "id": "b9330267",
   "metadata": {},
   "source": [
    "O resultado será um iterador com os quadrados de cada elemento da lista [1, 2, 3, 4]. Para visualizar os resultados como uma lista, podemos fazer:"
   ]
  },
  {
   "cell_type": "code",
   "execution_count": 5,
   "id": "fe4bfa65",
   "metadata": {},
   "outputs": [
    {
     "name": "stdout",
     "output_type": "stream",
     "text": [
      "[1, 4, 9, 16]\n"
     ]
    }
   ],
   "source": [
    "lista_resultado = list(resultado)\n",
    "print(lista_resultado)\n",
    "# Saída: [1, 4, 9, 16]"
   ]
  },
  {
   "cell_type": "markdown",
   "id": "75a88b08",
   "metadata": {},
   "source": [
    "É importante notar que a função map não altera a sequência de entrada original, mas cria um novo iterador com os resultados da aplicação da função. Além disso, a função passada para map não precisa ser uma função definida previamente, ela pode ser uma expressão lambda ou uma função definida em linha (também chamada de função anônima)."
   ]
  },
  {
   "cell_type": "markdown",
   "id": "3ff4d9b6",
   "metadata": {},
   "source": [
    "# Função 'filter'"
   ]
  },
  {
   "cell_type": "markdown",
   "id": "9a422a43",
   "metadata": {},
   "source": [
    "Em Python, a função filter é usada para criar uma nova sequência (como uma lista, tupla ou conjunto) contendo apenas os elementos de uma sequência de entrada que satisfazem a uma determinada condição. A sintaxe básica da função filter é a seguinte:"
   ]
  },
  {
   "cell_type": "code",
   "execution_count": 6,
   "id": "7fa627f0",
   "metadata": {},
   "outputs": [],
   "source": [
    "# filter(funcao, sequencia)"
   ]
  },
  {
   "cell_type": "markdown",
   "id": "c0892263",
   "metadata": {},
   "source": [
    "- funcao: é uma função que recebe um elemento da sequência como argumento e retorna True ou False indicando se o elemento deve ser incluído na sequência de saída.\n",
    "\n",
    "- sequencia: é a sequência de entrada que será filtrada.\n",
    "\n",
    "A função filter retorna um iterador que contém os elementos da sequência de entrada que satisfazem a condição da função passada como argumento. Esse iterador pode ser convertido em uma lista, tupla ou conjunto, se desejado.\n",
    "\n",
    "A função passada como argumento para filter deve retornar um valor booleano, indicando se o elemento deve ser incluído na sequência de saída ou não. Por exemplo, se a sequência de entrada for uma lista de números [1, 2, 3, 4], a função passada para filter deve ser capaz de lidar com um número de cada vez e retornar True ou False com base em uma determinada condição, como a função par definida abaixo:"
   ]
  },
  {
   "cell_type": "code",
   "execution_count": 7,
   "id": "9f9670cf",
   "metadata": {},
   "outputs": [],
   "source": [
    "def par(x):\n",
    "    return x % 2 == 0"
   ]
  },
  {
   "cell_type": "markdown",
   "id": "c2a481b4",
   "metadata": {},
   "source": [
    "Ao chamar a função filter com a função par e a lista [1, 2, 3, 4] como argumentos:"
   ]
  },
  {
   "cell_type": "code",
   "execution_count": 8,
   "id": "c689d3bf",
   "metadata": {},
   "outputs": [],
   "source": [
    "lista = [1, 2, 3, 4]\n",
    "resultado = filter(par, lista)"
   ]
  },
  {
   "cell_type": "markdown",
   "id": "24238ea3",
   "metadata": {},
   "source": [
    "O resultado será um iterador com os elementos pares da lista [1, 2, 3, 4]. Para visualizar os resultados como uma lista, podemos fazer:"
   ]
  },
  {
   "cell_type": "code",
   "execution_count": 9,
   "id": "7807ecd4",
   "metadata": {},
   "outputs": [
    {
     "name": "stdout",
     "output_type": "stream",
     "text": [
      "[2, 4]\n"
     ]
    }
   ],
   "source": [
    "lista_resultado = list(resultado)\n",
    "print(lista_resultado)\n",
    "# Saída: [2, 4]"
   ]
  },
  {
   "cell_type": "markdown",
   "id": "0437ac5c",
   "metadata": {},
   "source": [
    "É importante notar que a função filter não altera a sequência de entrada original, mas cria um novo iterador com os elementos que satisfazem a condição da função. Além disso, a função passada para filter não precisa ser uma função definida previamente, ela pode ser uma expressão lambda ou uma função definida em linha (também chamada de função anônima)."
   ]
  },
  {
   "cell_type": "markdown",
   "id": "3a44f14b",
   "metadata": {},
   "source": [
    "# Função 'reduce'"
   ]
  },
  {
   "cell_type": "markdown",
   "id": "fa8c05a3",
   "metadata": {},
   "source": [
    "A função reduce é uma função da biblioteca padrão de Python que permite aplicar uma função a uma sequência de elementos, de forma cumulativa, para reduzir a sequência a um único valor.\n",
    "\n",
    "A sintaxe básica da função reduce é a seguinte:"
   ]
  },
  {
   "cell_type": "code",
   "execution_count": 10,
   "id": "292b2f5a",
   "metadata": {},
   "outputs": [],
   "source": [
    "# reduce(funcao, sequencia)"
   ]
  },
  {
   "cell_type": "markdown",
   "id": "fed9ed6d",
   "metadata": {},
   "source": [
    "- *funcao*: é uma função que recebe dois argumentos e retorna um único valor. A função é aplicada cumulativamente à sequência, começando com os dois primeiros elementos, depois o resultado é combinado com o próximo elemento, e assim por diante, até que todos os elementos da sequência tenham sido processados. A função deve ser capaz de lidar com a operação entre dois elementos e retornar um resultado para ser combinado com o próximo elemento.\n",
    "\n",
    "- *sequencia*: é a sequência de entrada que será reduzida.\n",
    "\n",
    "É importante notar que a função reduce requer que a sequência tenha pelo menos dois elementos. Se a sequência tiver apenas um elemento, o valor desse elemento será retornado sem que a função seja aplicada a ele.\n",
    "\n",
    "Por exemplo, suponha que temos uma lista de números [1, 2, 3, 4, 5] e queremos calcular a soma de todos os elementos da lista. Podemos usar a função reduce com a função soma definida abaixo:"
   ]
  },
  {
   "cell_type": "code",
   "execution_count": 11,
   "id": "f7e86c52",
   "metadata": {},
   "outputs": [],
   "source": [
    "from functools import reduce\n",
    "\n",
    "def soma(x, y):\n",
    "    return x + y"
   ]
  },
  {
   "cell_type": "markdown",
   "id": "b4a5dc69",
   "metadata": {},
   "source": [
    "Para calcular a soma dos elementos da lista numeros, fazemos:"
   ]
  },
  {
   "cell_type": "code",
   "execution_count": 12,
   "id": "118ce5d2",
   "metadata": {},
   "outputs": [
    {
     "name": "stdout",
     "output_type": "stream",
     "text": [
      "15\n"
     ]
    }
   ],
   "source": [
    "numeros = [1, 2, 3, 4, 5]\n",
    "resultado = reduce(soma, numeros)\n",
    "print(resultado)\n",
    "# Saída: 15"
   ]
  },
  {
   "cell_type": "markdown",
   "id": "f48ee3de",
   "metadata": {},
   "source": [
    "O primeiro passo é aplicar a função soma aos dois primeiros elementos da lista, 1 e 2, produzindo 3. Em seguida, a função é aplicada a 3 e 3, produzindo 6, e assim por diante até que todos os elementos da lista tenham sido processados.\n",
    "\n",
    "Outro exemplo é a concatenação de uma lista de strings. Suponha que temos a lista ['a', 'b', 'c', 'd'] e queremos concatenar todos os elementos em uma única string. Podemos usar a função reduce com a função concatena definida abaixo:"
   ]
  },
  {
   "cell_type": "code",
   "execution_count": 13,
   "id": "ea8a7bb5",
   "metadata": {},
   "outputs": [],
   "source": [
    "def concatena(x, y):\n",
    "    return x + y"
   ]
  },
  {
   "cell_type": "markdown",
   "id": "92adf742",
   "metadata": {},
   "source": [
    "Para concatenar os elementos da lista letras, fazemos:"
   ]
  },
  {
   "cell_type": "code",
   "execution_count": 14,
   "id": "670cc89e",
   "metadata": {},
   "outputs": [
    {
     "name": "stdout",
     "output_type": "stream",
     "text": [
      "abcd\n"
     ]
    }
   ],
   "source": [
    "letras = ['a', 'b', 'c', 'd']\n",
    "resultado = reduce(concatena, letras)\n",
    "print(resultado)\n",
    "# Saída: 'abcd'"
   ]
  },
  {
   "cell_type": "markdown",
   "id": "d5130641",
   "metadata": {},
   "source": [
    "O primeiro passo é aplicar a função concatena aos dois primeiros elementos da lista, 'a' e 'b', produzindo 'ab'. Em seguida, a função é aplicada a 'ab' e 'c', produzindo 'abc', e assim por diante até que todos os elementos da lista tenham sido processados."
   ]
  },
  {
   "cell_type": "markdown",
   "id": "d5f15c0f",
   "metadata": {},
   "source": [
    "## Exemplo 01"
   ]
  },
  {
   "cell_type": "markdown",
   "id": "dd821c10",
   "metadata": {},
   "source": [
    "Vamos supor que temos uma lista de dicionários, onde cada dicionário contém informações sobre uma pessoa, incluindo nome, idade e profissão. Queremos filtrar as pessoas que têm menos de 30 anos, mapear seus nomes em letras maiúsculas e reduzir a lista de nomes em uma única string, separando cada nome por vírgula."
   ]
  },
  {
   "cell_type": "code",
   "execution_count": 15,
   "id": "df0c291a",
   "metadata": {},
   "outputs": [
    {
     "name": "stdout",
     "output_type": "stream",
     "text": [
      "ALICE, CAROL, DAVE, FRANK\n"
     ]
    }
   ],
   "source": [
    "from functools import reduce\n",
    "\n",
    "pessoas = [\n",
    "    {\"nome\": \"Alice\", \"idade\": 25, \"profissao\": \"engenheira\"},\n",
    "    {\"nome\": \"Bob\", \"idade\": 30, \"profissao\": \"programador\"},\n",
    "    {\"nome\": \"Carol\", \"idade\": 28, \"profissao\": \"advogada\"},\n",
    "    {\"nome\": \"Dave\", \"idade\": 22, \"profissao\": \"estudante\"},\n",
    "    {\"nome\": \"Eve\", \"idade\": 31, \"profissao\": \"jornalista\"},\n",
    "    {\"nome\": \"Frank\", \"idade\": 27, \"profissao\": \"médico\"}\n",
    "]\n",
    "\n",
    "nomes_filtrados = filter(lambda x: x['idade'] < 30, pessoas)\n",
    "nomes_maiusculas = map(lambda x: x['nome'].upper(), nomes_filtrados)\n",
    "nomes_concatenados = reduce(lambda x, y: x + ', ' + y, nomes_maiusculas)\n",
    "\n",
    "print(nomes_concatenados)\n",
    "# Saída: \"ALICE, CAROL, DAVE, FRANK\"\n"
   ]
  },
  {
   "cell_type": "markdown",
   "id": "c2823c4d",
   "metadata": {},
   "source": [
    "Primeiro, usamos a função filter para filtrar os dicionários que contêm pessoas com idade inferior a 30 anos. Em seguida, usamos a função map para converter os nomes das pessoas em letras maiúsculas. Finalmente, usamos a função reduce para concatenar os nomes em uma única string separada por vírgulas. O resultado final é a string \"ALICE, CAROL, DAVE, FRANK\"."
   ]
  },
  {
   "cell_type": "markdown",
   "id": "052eb62f",
   "metadata": {},
   "source": [
    "## Exemplo 02"
   ]
  },
  {
   "cell_type": "markdown",
   "id": "712dcf83",
   "metadata": {},
   "source": [
    "Suponha que temos uma lista de compras com produtos e seus preços, e queremos calcular o preço total dos produtos que custam menos de R$10,00, aplicar um desconto de 5% em cada um desses produtos e, finalmente, somar o preço total desses produtos com o preço total dos demais produtos da lista. Podemos usar as funções filter, map e reduce para realizar essas operações em conjunto."
   ]
  },
  {
   "cell_type": "code",
   "execution_count": 16,
   "id": "bf66b3e0",
   "metadata": {},
   "outputs": [
    {
     "name": "stdout",
     "output_type": "stream",
     "text": [
      "O preço total da lista de compras é: R$ 47.62\n"
     ]
    }
   ],
   "source": [
    "from functools import reduce\n",
    "\n",
    "compras = [\n",
    "    {'produto': 'banana', 'preco': 3.50},\n",
    "    {'produto': 'maçã', 'preco': 5.00},\n",
    "    {'produto': 'laranja', 'preco': 2.00},\n",
    "    {'produto': 'uva', 'preco': 12.00},\n",
    "    {'produto': 'abacaxi', 'preco': 7.50},\n",
    "    {'produto': 'mamão', 'preco': 4.00},\n",
    "    {'produto': 'limão', 'preco': 1.50},\n",
    "    {'produto': 'manga', 'preco': 8.00},\n",
    "    {'produto': 'melão', 'preco': 6.00},\n",
    "]\n",
    "\n",
    "precos_filtrados = filter(lambda x: x['preco'] < 10, compras)\n",
    "precos_descontados = map(lambda x: x['preco'] * 0.95, precos_filtrados)\n",
    "preco_total_descontado = reduce(lambda x, y: x + y, precos_descontados)\n",
    "\n",
    "precos_maiores = filter(lambda x: x['preco'] >= 10, compras)\n",
    "precos_normais = map(lambda x: x['preco'], precos_maiores)\n",
    "preco_total_normal = reduce(lambda x, y: x + y, precos_normais)\n",
    "\n",
    "preco_total = preco_total_descontado + preco_total_normal\n",
    "\n",
    "print(f'O preço total da lista de compras é: R$ {preco_total:.2f}')"
   ]
  },
  {
   "cell_type": "markdown",
   "id": "b470b5b9",
   "metadata": {},
   "source": [
    "Primeiro, usamos a função filter para filtrar os produtos que custam menos de 10 reais. Em seguida, usamos a função map para aplicar um desconto de 5% em cada um desses produtos. Usamos a função reduce para somar o preço total desses produtos. Fazemos o mesmo para os produtos que custam R$ 10,00 ou mais. Finalmente, somamos o preço total dos produtos com desconto com o preço total dos produtos que não estão com desconto, e imprimimos o resultado."
   ]
  },
  {
   "cell_type": "markdown",
   "id": "ad880e29",
   "metadata": {},
   "source": [
    "## Exemplo 03"
   ]
  },
  {
   "cell_type": "markdown",
   "id": "14eca753",
   "metadata": {},
   "source": [
    "Podemos adaptar o exemplo anterior para calcular a integral de uma função usando o método de Riemann, que consiste em aproximar a área sob a curva da função com uma soma de retângulos. Para isso, podemos usar as funções map, filter e reduce para calcular os valores da função em intervalos igualmente espaçados, filtrar os valores que estão abaixo de um determinado limite e calcular a soma dos valores que estão acima do limite, multiplicados pela largura dos intervalos.\n",
    "\n",
    "Suponha que queremos calcular a integral da função f(x) = x^2 no intervalo [0, 10]. Podemos dividir esse intervalo em n subintervalos de igual largura e usar o ponto médio de cada subintervalo para aproximar o valor da função em cada intervalo. Podemos então filtrar os valores que estão abaixo de um limite, como 50, e somar os valores que estão acima do limite multiplicados pela largura do intervalo."
   ]
  },
  {
   "cell_type": "code",
   "execution_count": 17,
   "id": "6a7ed13f",
   "metadata": {},
   "outputs": [
    {
     "name": "stdout",
     "output_type": "stream",
     "text": [
      "A área acima do limite é: 214.03\n"
     ]
    }
   ],
   "source": [
    "from functools import reduce\n",
    "\n",
    "def f(x):\n",
    "    return x**2\n",
    "\n",
    "a, b = 0, 10\n",
    "n = 100\n",
    "dx = (b - a) / n\n",
    "\n",
    "pontos_medios = map(lambda i: a + (i + 0.5) * dx, range(n))\n",
    "valores = map(f, pontos_medios)\n",
    "valores_acima = filter(lambda x: x >= 50, valores)\n",
    "area_acima = reduce(lambda x, y: x + y, valores_acima) * dx\n",
    "print(f'A área acima do limite é: {area_acima:.2f}')"
   ]
  },
  {
   "cell_type": "markdown",
   "id": "943dfefb",
   "metadata": {},
   "source": [
    "Aqui, definimos a função f(x) como a função cuja integral queremos calcular. Em seguida, definimos os limites inferior e superior do intervalo, a quantidade de subintervalos n e a largura de cada subintervalo dx. Usando a função map, calculamos os pontos médios de cada subintervalo e, em seguida, usamos a função map novamente para calcular os valores da função nos pontos médios. Usando a função filter, filtramos os valores que estão acima do limite e, em seguida, usamos a função reduce para calcular a soma desses valores multiplicados pela largura dos intervalos. Finalmente, imprimimos o resultado."
   ]
  },
  {
   "cell_type": "code",
   "execution_count": null,
   "id": "5a61371b",
   "metadata": {},
   "outputs": [],
   "source": []
  }
 ],
 "metadata": {
  "kernelspec": {
   "display_name": "Python 3 (ipykernel)",
   "language": "python",
   "name": "python3"
  },
  "language_info": {
   "codemirror_mode": {
    "name": "ipython",
    "version": 3
   },
   "file_extension": ".py",
   "mimetype": "text/x-python",
   "name": "python",
   "nbconvert_exporter": "python",
   "pygments_lexer": "ipython3",
   "version": "3.11.3"
  }
 },
 "nbformat": 4,
 "nbformat_minor": 5
}
