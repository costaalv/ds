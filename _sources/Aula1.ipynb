{
 "cells": [
  {
   "cell_type": "markdown",
   "id": "c826b435",
   "metadata": {},
   "source": [
    "# Aula 01 - MBA em Ciência de Dados: Bibliotecas importantes"
   ]
  },
  {
   "cell_type": "markdown",
   "id": "86a49a53",
   "metadata": {},
   "source": [
    "Francisco Aparecido Rodrigues, francisco@icmc.usp.br.<br>\n",
    "Universidade de São Paulo, São Carlos, Brasil.<br>\n",
    "Copyright (c) 2020."
   ]
  },
  {
   "cell_type": "markdown",
   "id": "c1e879b9",
   "metadata": {},
   "source": [
    "<hr>"
   ]
  },
  {
   "cell_type": "markdown",
   "id": "4673b630",
   "metadata": {},
   "source": [
    "Nesta apresentaremos uma breve introdução às principais bibliotecas usadas em Ciência de Dados."
   ]
  },
  {
   "cell_type": "markdown",
   "id": "1b2bb768",
   "metadata": {},
   "source": [
    "### Numpy"
   ]
  },
  {
   "cell_type": "markdown",
   "id": "e941bef0",
   "metadata": {},
   "source": [
    "Para trabalhar com dados, há várias biblitecas importantes na linguagem Python. Uma das mais básicias, que usamos rotineiramente é a biblioteca Numpy (https://numpy.org/). Essa biblioteca é importante para realizarmos manipulações de matrizes e cálculos numéricos. Para instalar o numpy:"
   ]
  },
  {
   "cell_type": "code",
   "execution_count": 1,
   "id": "a03ad876",
   "metadata": {},
   "outputs": [],
   "source": [
    "#!pip install numpy"
   ]
  },
  {
   "cell_type": "markdown",
   "id": "57b42ca9",
   "metadata": {},
   "source": [
    "Como exemplo, vamos multiplicar duas matrizes."
   ]
  },
  {
   "cell_type": "code",
   "execution_count": 2,
   "id": "255406e7",
   "metadata": {},
   "outputs": [
    {
     "name": "stdout",
     "output_type": "stream",
     "text": [
      "Matriz A:\n",
      " [[1 2 3]\n",
      " [4 5 6]\n",
      " [6 7 9]]\n"
     ]
    }
   ],
   "source": [
    "import numpy as np\n",
    "\n",
    "A = np.array([[1, 2, 3],[4, 5, 6],[6, 7, 9],])\n",
    "print(\"Matriz A:\\n\", A)\n",
    "\n"
   ]
  },
  {
   "cell_type": "code",
   "execution_count": 3,
   "id": "7ad0dc84",
   "metadata": {},
   "outputs": [
    {
     "name": "stdout",
     "output_type": "stream",
     "text": [
      "Matriz B:\n",
      " [[ 2  4  6]\n",
      " [ 8 10 12]\n",
      " [14 16 18]]\n"
     ]
    }
   ],
   "source": [
    "B = np.array([[2, 4, 6],[8, 10, 12],[14, 16, 18],])\n",
    "print(\"Matriz B:\\n\", B)"
   ]
  },
  {
   "cell_type": "code",
   "execution_count": 4,
   "id": "bbf2bd48",
   "metadata": {},
   "outputs": [
    {
     "name": "stdout",
     "output_type": "stream",
     "text": [
      "A*B = \n",
      " [[  2   8  18]\n",
      " [ 32  50  72]\n",
      " [ 84 112 162]]\n"
     ]
    }
   ],
   "source": [
    "print(\"A*B = \\n\", A*B)"
   ]
  },
  {
   "cell_type": "code",
   "execution_count": 5,
   "id": "dbe30c46",
   "metadata": {},
   "outputs": [
    {
     "name": "stdout",
     "output_type": "stream",
     "text": [
      "A@B = \n",
      "\n",
      " [[ 60  72  84]\n",
      " [132 162 192]\n",
      " [194 238 282]]\n"
     ]
    }
   ],
   "source": [
    "print('A@B = \\n\\n', A@B)"
   ]
  },
  {
   "cell_type": "markdown",
   "id": "26f8ad89",
   "metadata": {},
   "source": [
    "No Numpy, a operação \"*\" representa multiplicação elemento a elemento, enquanto que a operação \"@\" representa multiplicação matricial ou produto interno de matrizes. Em outras palavras, \"A * B\" calcula o produto escalar de cada elemento da matriz A com o elemento correspondente em B, enquanto que \"A @ B\" calcula o resultado da multiplicação matricial de A e B, ou seja, o produto AB."
   ]
  },
  {
   "cell_type": "markdown",
   "id": "86ca6fe3",
   "metadata": {},
   "source": [
    "Podemos encontrar o máximo o mínimo em uma matriz:"
   ]
  },
  {
   "cell_type": "code",
   "execution_count": 6,
   "id": "225c5b48",
   "metadata": {},
   "outputs": [
    {
     "name": "stdout",
     "output_type": "stream",
     "text": [
      "[[ 1  2 -1]\n",
      " [10 -5  0]\n",
      " [ 6  3  1]]\n"
     ]
    }
   ],
   "source": [
    "A = np.array([[1, 2, -1],[10, -5, 0],[6, 3, 1],])\n",
    "print(A)"
   ]
  },
  {
   "cell_type": "code",
   "execution_count": 7,
   "id": "aafc821a",
   "metadata": {},
   "outputs": [
    {
     "name": "stdout",
     "output_type": "stream",
     "text": [
      "Maior valor na matrix: 10\n"
     ]
    }
   ],
   "source": [
    "print(\"Maior valor na matrix:\", A.max())"
   ]
  },
  {
   "cell_type": "code",
   "execution_count": 8,
   "id": "ab7a99df",
   "metadata": {},
   "outputs": [
    {
     "name": "stdout",
     "output_type": "stream",
     "text": [
      "Menor valor na matrix: -5\n"
     ]
    }
   ],
   "source": [
    "print(\"Menor valor na matrix:\", A.min())"
   ]
  },
  {
   "cell_type": "code",
   "execution_count": 9,
   "id": "38f65e0c",
   "metadata": {},
   "outputs": [
    {
     "name": "stdout",
     "output_type": "stream",
     "text": [
      "Maior valor de cada coluna: [10  3  1]\n"
     ]
    }
   ],
   "source": [
    "print(\"Maior valor de cada coluna:\", A.max(axis=0))"
   ]
  },
  {
   "cell_type": "code",
   "execution_count": 10,
   "id": "e18f6c3b",
   "metadata": {},
   "outputs": [
    {
     "name": "stdout",
     "output_type": "stream",
     "text": [
      "Menor valor de cada coluna: [ 1 -5 -1]\n"
     ]
    }
   ],
   "source": [
    "print(\"Menor valor de cada coluna:\", A.min(axis=0))"
   ]
  },
  {
   "cell_type": "code",
   "execution_count": 11,
   "id": "dcce33e0",
   "metadata": {},
   "outputs": [
    {
     "name": "stdout",
     "output_type": "stream",
     "text": [
      "Menor valor de cada linha: [-1 -5  1]\n"
     ]
    }
   ],
   "source": [
    "print(\"Menor valor de cada linha:\", A.min(axis=1))"
   ]
  },
  {
   "cell_type": "markdown",
   "id": "1f36cf24",
   "metadata": {},
   "source": [
    "Gerando uma matriz com valores aleatórios no intervalor [0,1]:"
   ]
  },
  {
   "cell_type": "code",
   "execution_count": 12,
   "id": "4f48625b",
   "metadata": {},
   "outputs": [
    {
     "name": "stdout",
     "output_type": "stream",
     "text": [
      "Maior valor de cada linha: [ 2 10  6]\n"
     ]
    }
   ],
   "source": [
    "print(\"Maior valor de cada linha:\", A.max(axis=1))"
   ]
  },
  {
   "cell_type": "code",
   "execution_count": 13,
   "id": "f66c8755",
   "metadata": {},
   "outputs": [
    {
     "name": "stdout",
     "output_type": "stream",
     "text": [
      "[[0.77132064 0.02075195 0.63364823]\n",
      " [0.74880388 0.49850701 0.22479665]\n",
      " [0.19806286 0.76053071 0.16911084]\n",
      " [0.08833981 0.68535982 0.95339335]]\n"
     ]
    }
   ],
   "source": [
    "np.random.seed(10)\n",
    "n = 4\n",
    "m = 3\n",
    "A = np.random.rand(n,m)\n",
    "print(A)"
   ]
  },
  {
   "cell_type": "markdown",
   "id": "5b783fe8",
   "metadata": {},
   "source": [
    "O comando np.random.seed(10) é utilizado no módulo NumPy para inicializar o gerador de números aleatórios. A função seed recebe um valor inteiro como argumento e usa-o como semente para a geração de números pseudo-aleatórios.\n",
    "\n",
    "<b>Ao estabelecer uma semente, é possível garantir que os números gerados sejam sempre os mesmos</b>, independentemente da execução do programa. Isso é útil em situações em que é necessário reproduzir resultados ou comparar resultados com valores previamente conhecidos.\n",
    "\n",
    "Em resumo, o comando np.random.seed(10) inicializa o gerador de números aleatórios com a semente 10, o que permite que os números gerados sejam reproduzidos sempre que o mesmo código for executado."
   ]
  },
  {
   "cell_type": "markdown",
   "id": "735bb048",
   "metadata": {},
   "source": [
    "A transposta de uma matriz:"
   ]
  },
  {
   "cell_type": "code",
   "execution_count": 14,
   "id": "7eaca44e",
   "metadata": {},
   "outputs": [
    {
     "name": "stdout",
     "output_type": "stream",
     "text": [
      "A:\n",
      " [[1 2]\n",
      " [3 4]\n",
      " [5 6]]\n"
     ]
    }
   ],
   "source": [
    "A = np.array([[1, 2],[3, 4],[5, 6]])\n",
    "print(\"A:\\n\", A)"
   ]
  },
  {
   "cell_type": "code",
   "execution_count": 15,
   "id": "83a7cf6c",
   "metadata": {},
   "outputs": [
    {
     "name": "stdout",
     "output_type": "stream",
     "text": [
      "A^T:\n",
      " [[1 3 5]\n",
      " [2 4 6]]\n"
     ]
    }
   ],
   "source": [
    "print(\"A^T:\\n\", A.T)"
   ]
  },
  {
   "cell_type": "code",
   "execution_count": 16,
   "id": "ed56d6a4",
   "metadata": {},
   "outputs": [
    {
     "data": {
      "text/plain": [
       "array([[ 5, 11, 17],\n",
       "       [11, 25, 39],\n",
       "       [17, 39, 61]])"
      ]
     },
     "execution_count": 16,
     "metadata": {},
     "output_type": "execute_result"
    }
   ],
   "source": [
    "A @ A.T"
   ]
  },
  {
   "cell_type": "markdown",
   "id": "326251fe",
   "metadata": {},
   "source": [
    "Ordenação dos valores de uma matriz:"
   ]
  },
  {
   "cell_type": "code",
   "execution_count": 17,
   "id": "28a9578c",
   "metadata": {},
   "outputs": [
    {
     "name": "stdout",
     "output_type": "stream",
     "text": [
      "Matrix original:\n",
      "[[ 1  2 -1]\n",
      " [10 -5  0]\n",
      " [ 6  3  1]]\n"
     ]
    }
   ],
   "source": [
    "A = np.array([[1, 2, -1],[10, -5, 0],[6, 3, 1],])\n",
    "print(\"Matrix original:\")\n",
    "print(A)"
   ]
  },
  {
   "cell_type": "code",
   "execution_count": 18,
   "id": "4d1c27c8",
   "metadata": {},
   "outputs": [
    {
     "name": "stdout",
     "output_type": "stream",
     "text": [
      "\n",
      "Ordena os valores das colunas:\n"
     ]
    },
    {
     "data": {
      "text/plain": [
       "array([[ 1, -5, -1],\n",
       "       [ 6,  2,  0],\n",
       "       [10,  3,  1]])"
      ]
     },
     "execution_count": 18,
     "metadata": {},
     "output_type": "execute_result"
    }
   ],
   "source": [
    "print(\"\\nOrdena os valores das colunas:\")\n",
    "np.sort(A, axis=0)"
   ]
  },
  {
   "cell_type": "code",
   "execution_count": 19,
   "id": "26071eb2",
   "metadata": {},
   "outputs": [
    {
     "name": "stdout",
     "output_type": "stream",
     "text": [
      "\n",
      "Ordena os valores das linhas:\n"
     ]
    },
    {
     "data": {
      "text/plain": [
       "array([[-1,  1,  2],\n",
       "       [-5,  0, 10],\n",
       "       [ 1,  3,  6]])"
      ]
     },
     "execution_count": 19,
     "metadata": {},
     "output_type": "execute_result"
    }
   ],
   "source": [
    "print(\"\\nOrdena os valores das linhas:\")\n",
    "np.sort(A, axis=1)"
   ]
  },
  {
   "cell_type": "markdown",
   "id": "f1594040",
   "metadata": {},
   "source": [
    "Concatenando duas matrizes:"
   ]
  },
  {
   "cell_type": "code",
   "execution_count": 20,
   "id": "eb7ea24e",
   "metadata": {},
   "outputs": [
    {
     "name": "stdout",
     "output_type": "stream",
     "text": [
      "A:\n",
      " [[4 8]\n",
      " [6 1]]\n"
     ]
    }
   ],
   "source": [
    "a = np.array([\n",
    "   ...:     [4, 8],\n",
    "   ...:     [6, 1]\n",
    "   ...: ])\n",
    "print(\"A:\\n\", a)"
   ]
  },
  {
   "cell_type": "code",
   "execution_count": 21,
   "id": "a33f62d4",
   "metadata": {},
   "outputs": [
    {
     "name": "stdout",
     "output_type": "stream",
     "text": [
      "\n",
      "B:\n",
      " [[3 5]\n",
      " [7 2]]\n"
     ]
    }
   ],
   "source": [
    "b = np.array([\n",
    "   ...:     [3, 5],\n",
    "   ...:     [7, 2],\n",
    "   ...: ])\n",
    "print(\"\\nB:\\n\", b)"
   ]
  },
  {
   "cell_type": "code",
   "execution_count": 22,
   "id": "80f3c4fe",
   "metadata": {},
   "outputs": [
    {
     "name": "stdout",
     "output_type": "stream",
     "text": [
      "\n",
      "Concatenando por coluna\n",
      "[[4 8 3 5]\n",
      " [6 1 7 2]]\n"
     ]
    }
   ],
   "source": [
    "print(\"\\nConcatenando por coluna\")\n",
    "print(np.hstack((a, b)))"
   ]
  },
  {
   "cell_type": "code",
   "execution_count": 23,
   "id": "72302e0d",
   "metadata": {},
   "outputs": [
    {
     "name": "stdout",
     "output_type": "stream",
     "text": [
      "\n",
      "Concatenando por linha\n",
      "[[4 8]\n",
      " [6 1]\n",
      " [3 5]\n",
      " [7 2]]\n"
     ]
    }
   ],
   "source": [
    "print(\"\\nConcatenando por linha\")\n",
    "print(np.vstack((a, b)))"
   ]
  },
  {
   "cell_type": "markdown",
   "id": "6d4b636c",
   "metadata": {},
   "source": [
    "Podemos criar matrizes com mais de um tipo de dados:"
   ]
  },
  {
   "cell_type": "code",
   "execution_count": 24,
   "id": "27c0a2e3",
   "metadata": {},
   "outputs": [
    {
     "name": "stdout",
     "output_type": "stream",
     "text": [
      "[('joe', 32, 6) ('mary', 15, 0) ('felipe', 80, 4) ('tom', 38, 1)]\n"
     ]
    }
   ],
   "source": [
    " data = np.array([\n",
    "   ...:     (\"joe\", 32, 6),\n",
    "   ...:     (\"mary\", 15, 0),\n",
    "   ...:     (\"felipe\", 80, 4),\n",
    "   ...:     (\"tom\", 38, 1),\n",
    "   ...: ], dtype=[(\"nome\", str, 10), (\"idade\", int), (\"filhos\", int)])\n",
    "print(data)"
   ]
  },
  {
   "cell_type": "markdown",
   "id": "72646941",
   "metadata": {},
   "source": [
    "Nesse caso, podemos acessar as colunas de acordo com os labels:"
   ]
  },
  {
   "cell_type": "code",
   "execution_count": 25,
   "id": "5bdcc6ca",
   "metadata": {},
   "outputs": [
    {
     "name": "stdout",
     "output_type": "stream",
     "text": [
      "Nomes: ['joe' 'mary' 'felipe' 'tom']\n",
      "Idades: [32 15 80 38]\n",
      "Filhos: [6 0 4 1]\n"
     ]
    }
   ],
   "source": [
    "print('Nomes:', data['nome'])\n",
    "print('Idades:', data['idade'])\n",
    "print('Filhos:', data['filhos'])"
   ]
  },
  {
   "cell_type": "markdown",
   "id": "45ea96d4",
   "metadata": {},
   "source": [
    "Também podemos acessar as linhas:"
   ]
  },
  {
   "cell_type": "code",
   "execution_count": 26,
   "id": "4f3b2a17",
   "metadata": {},
   "outputs": [
    {
     "data": {
      "text/plain": [
       "('joe', 32, 6)"
      ]
     },
     "execution_count": 26,
     "metadata": {},
     "output_type": "execute_result"
    }
   ],
   "source": [
    "data[0]"
   ]
  },
  {
   "cell_type": "markdown",
   "id": "4e28bef4",
   "metadata": {},
   "source": [
    "### Pandas"
   ]
  },
  {
   "cell_type": "markdown",
   "id": "63439105",
   "metadata": {},
   "source": [
    "Outra biblioteca fundamental é a Pandas (https://pandas.pydata.org), que é usada para manipulação dos dados. Essa biblioteca usa uma estrutura, chamada Dataframe, para armazenar os dados."
   ]
  },
  {
   "cell_type": "markdown",
   "id": "f9de2744",
   "metadata": {},
   "source": [
    "Para instalar a biblioteca:"
   ]
  },
  {
   "cell_type": "code",
   "execution_count": 27,
   "id": "ec834c72",
   "metadata": {},
   "outputs": [],
   "source": [
    "#!pip install pandas"
   ]
  },
  {
   "cell_type": "markdown",
   "id": "5b7b4265",
   "metadata": {},
   "source": [
    "A estrutura do dados armazenados pela Pandas (https://pandas.pydata.org/docs/user_guide/dsintro.html):"
   ]
  },
  {
   "cell_type": "markdown",
   "id": "d1220185",
   "metadata": {},
   "source": [
    " <img src=\"https://storage.googleapis.com/lds-media/images/series-and-dataframe.width-1200.png\" />"
   ]
  },
  {
   "cell_type": "markdown",
   "id": "9791be7c",
   "metadata": {},
   "source": [
    "Vamos criar um dataframe."
   ]
  },
  {
   "cell_type": "code",
   "execution_count": 28,
   "id": "6e711962",
   "metadata": {},
   "outputs": [
    {
     "data": {
      "text/html": [
       "<div>\n",
       "<style scoped>\n",
       "    .dataframe tbody tr th:only-of-type {\n",
       "        vertical-align: middle;\n",
       "    }\n",
       "\n",
       "    .dataframe tbody tr th {\n",
       "        vertical-align: top;\n",
       "    }\n",
       "\n",
       "    .dataframe thead th {\n",
       "        text-align: right;\n",
       "    }\n",
       "</style>\n",
       "<table border=\"1\" class=\"dataframe\">\n",
       "  <thead>\n",
       "    <tr style=\"text-align: right;\">\n",
       "      <th></th>\n",
       "      <th>X1</th>\n",
       "      <th>X2</th>\n",
       "      <th>X3</th>\n",
       "    </tr>\n",
       "  </thead>\n",
       "  <tbody>\n",
       "    <tr>\n",
       "      <th>0</th>\n",
       "      <td>1</td>\n",
       "      <td>a</td>\n",
       "      <td>0.2</td>\n",
       "    </tr>\n",
       "    <tr>\n",
       "      <th>1</th>\n",
       "      <td>2</td>\n",
       "      <td>b</td>\n",
       "      <td>0.4</td>\n",
       "    </tr>\n",
       "    <tr>\n",
       "      <th>2</th>\n",
       "      <td>3</td>\n",
       "      <td>c</td>\n",
       "      <td>0.5</td>\n",
       "    </tr>\n",
       "    <tr>\n",
       "      <th>3</th>\n",
       "      <td>4</td>\n",
       "      <td>d</td>\n",
       "      <td>0.6</td>\n",
       "    </tr>\n",
       "    <tr>\n",
       "      <th>4</th>\n",
       "      <td>5</td>\n",
       "      <td>e</td>\n",
       "      <td>0.7</td>\n",
       "    </tr>\n",
       "    <tr>\n",
       "      <th>5</th>\n",
       "      <td>6</td>\n",
       "      <td>f</td>\n",
       "      <td>0.8</td>\n",
       "    </tr>\n",
       "    <tr>\n",
       "      <th>6</th>\n",
       "      <td>7</td>\n",
       "      <td>g</td>\n",
       "      <td>0.9</td>\n",
       "    </tr>\n",
       "    <tr>\n",
       "      <th>7</th>\n",
       "      <td>8</td>\n",
       "      <td>h</td>\n",
       "      <td>1.0</td>\n",
       "    </tr>\n",
       "  </tbody>\n",
       "</table>\n",
       "</div>"
      ],
      "text/plain": [
       "   X1 X2   X3\n",
       "0   1  a  0.2\n",
       "1   2  b  0.4\n",
       "2   3  c  0.5\n",
       "3   4  d  0.6\n",
       "4   5  e  0.7\n",
       "5   6  f  0.8\n",
       "6   7  g  0.9\n",
       "7   8  h  1.0"
      ]
     },
     "execution_count": 28,
     "metadata": {},
     "output_type": "execute_result"
    }
   ],
   "source": [
    "import pandas as pd\n",
    "\n",
    "# cria os dados\n",
    "X = {'X1': [1,2,3,4,5,6,7,8], 'X2': ['a','b','c','d','e','f','g','h'], \n",
    "     'X3': [0.2, 0.4, 0.5, 0.6, 0.7, 0.8, 0.9, 1.0]}\n",
    "# cria o dataframe do pandas\n",
    "df = pd.DataFrame(data=X)\n",
    "df.head(10) # mostra os dados"
   ]
  },
  {
   "cell_type": "markdown",
   "id": "d759245d",
   "metadata": {},
   "source": [
    "Para acessar o dataframe do pandas, usamos os comandos (notem que em Python, a indexação começa em 0 e não em 1):"
   ]
  },
  {
   "cell_type": "code",
   "execution_count": 29,
   "id": "78413b9d",
   "metadata": {},
   "outputs": [
    {
     "name": "stdout",
     "output_type": "stream",
     "text": [
      "Elemento da terceira linha e segunda coluna\n",
      "c\n",
      "Terceira coluna\n",
      "0    0.2\n",
      "1    0.4\n",
      "2    0.5\n",
      "3    0.6\n",
      "4    0.7\n",
      "5    0.8\n",
      "6    0.9\n",
      "7    1.0\n",
      "Name: X3, dtype: float64\n",
      "Segunda coluna\n",
      "0    a\n",
      "1    b\n",
      "2    c\n",
      "3    d\n",
      "4    e\n",
      "5    f\n",
      "6    g\n",
      "7    h\n",
      "Name: X2, dtype: object\n",
      "Quarta linha\n",
      "X1      4\n",
      "X2      d\n",
      "X3    0.6\n",
      "Name: 3, dtype: object\n"
     ]
    }
   ],
   "source": [
    "print(\"Elemento da terceira linha e segunda coluna\")\n",
    "print(df.iloc[2,1])\n",
    "print(\"Terceira coluna\")\n",
    "print(df.iloc[:,2])\n",
    "print(\"Segunda coluna\")\n",
    "print(df['X2'])\n",
    "print(\"Quarta linha\")\n",
    "print(df.iloc[3,:])"
   ]
  },
  {
   "cell_type": "markdown",
   "id": "fbe70f31",
   "metadata": {},
   "source": [
    "Podemos converter o dataframe do pandas para uma matriz do numpy."
   ]
  },
  {
   "cell_type": "code",
   "execution_count": 30,
   "id": "3a81c872",
   "metadata": {},
   "outputs": [
    {
     "name": "stdout",
     "output_type": "stream",
     "text": [
      "[[1 'a' 0.2]\n",
      " [2 'b' 0.4]\n",
      " [3 'c' 0.5]\n",
      " [4 'd' 0.6]\n",
      " [5 'e' 0.7]\n",
      " [6 'f' 0.8]\n",
      " [7 'g' 0.9]\n",
      " [8 'h' 1.0]]\n"
     ]
    }
   ],
   "source": [
    "X = np.array(df)\n",
    "print(X)"
   ]
  },
  {
   "cell_type": "markdown",
   "id": "88ca7676",
   "metadata": {},
   "source": [
    "A bibliteoca pandas pode ser usada na leitura de dados."
   ]
  },
  {
   "cell_type": "code",
   "execution_count": 31,
   "id": "0b536539",
   "metadata": {},
   "outputs": [
    {
     "name": "stdout",
     "output_type": "stream",
     "text": [
      "Número de linhas e colunas: (150, 5)\n"
     ]
    },
    {
     "data": {
      "text/html": [
       "<div>\n",
       "<style scoped>\n",
       "    .dataframe tbody tr th:only-of-type {\n",
       "        vertical-align: middle;\n",
       "    }\n",
       "\n",
       "    .dataframe tbody tr th {\n",
       "        vertical-align: top;\n",
       "    }\n",
       "\n",
       "    .dataframe thead th {\n",
       "        text-align: right;\n",
       "    }\n",
       "</style>\n",
       "<table border=\"1\" class=\"dataframe\">\n",
       "  <thead>\n",
       "    <tr style=\"text-align: right;\">\n",
       "      <th></th>\n",
       "      <th>sepal_length</th>\n",
       "      <th>sepal_width</th>\n",
       "      <th>petal_length</th>\n",
       "      <th>petal_width</th>\n",
       "      <th>species</th>\n",
       "    </tr>\n",
       "  </thead>\n",
       "  <tbody>\n",
       "    <tr>\n",
       "      <th>0</th>\n",
       "      <td>5.1</td>\n",
       "      <td>3.5</td>\n",
       "      <td>1.4</td>\n",
       "      <td>0.2</td>\n",
       "      <td>setosa</td>\n",
       "    </tr>\n",
       "    <tr>\n",
       "      <th>1</th>\n",
       "      <td>4.9</td>\n",
       "      <td>3.0</td>\n",
       "      <td>1.4</td>\n",
       "      <td>0.2</td>\n",
       "      <td>setosa</td>\n",
       "    </tr>\n",
       "    <tr>\n",
       "      <th>2</th>\n",
       "      <td>4.7</td>\n",
       "      <td>3.2</td>\n",
       "      <td>1.3</td>\n",
       "      <td>0.2</td>\n",
       "      <td>setosa</td>\n",
       "    </tr>\n",
       "    <tr>\n",
       "      <th>3</th>\n",
       "      <td>4.6</td>\n",
       "      <td>3.1</td>\n",
       "      <td>1.5</td>\n",
       "      <td>0.2</td>\n",
       "      <td>setosa</td>\n",
       "    </tr>\n",
       "    <tr>\n",
       "      <th>4</th>\n",
       "      <td>5.0</td>\n",
       "      <td>3.6</td>\n",
       "      <td>1.4</td>\n",
       "      <td>0.2</td>\n",
       "      <td>setosa</td>\n",
       "    </tr>\n",
       "    <tr>\n",
       "      <th>5</th>\n",
       "      <td>5.4</td>\n",
       "      <td>3.9</td>\n",
       "      <td>1.7</td>\n",
       "      <td>0.4</td>\n",
       "      <td>setosa</td>\n",
       "    </tr>\n",
       "    <tr>\n",
       "      <th>6</th>\n",
       "      <td>4.6</td>\n",
       "      <td>3.4</td>\n",
       "      <td>1.4</td>\n",
       "      <td>0.3</td>\n",
       "      <td>setosa</td>\n",
       "    </tr>\n",
       "    <tr>\n",
       "      <th>7</th>\n",
       "      <td>5.0</td>\n",
       "      <td>3.4</td>\n",
       "      <td>1.5</td>\n",
       "      <td>0.2</td>\n",
       "      <td>setosa</td>\n",
       "    </tr>\n",
       "    <tr>\n",
       "      <th>8</th>\n",
       "      <td>4.4</td>\n",
       "      <td>2.9</td>\n",
       "      <td>1.4</td>\n",
       "      <td>0.2</td>\n",
       "      <td>setosa</td>\n",
       "    </tr>\n",
       "    <tr>\n",
       "      <th>9</th>\n",
       "      <td>4.9</td>\n",
       "      <td>3.1</td>\n",
       "      <td>1.5</td>\n",
       "      <td>0.1</td>\n",
       "      <td>setosa</td>\n",
       "    </tr>\n",
       "  </tbody>\n",
       "</table>\n",
       "</div>"
      ],
      "text/plain": [
       "   sepal_length  sepal_width  petal_length  petal_width species\n",
       "0           5.1          3.5           1.4          0.2  setosa\n",
       "1           4.9          3.0           1.4          0.2  setosa\n",
       "2           4.7          3.2           1.3          0.2  setosa\n",
       "3           4.6          3.1           1.5          0.2  setosa\n",
       "4           5.0          3.6           1.4          0.2  setosa\n",
       "5           5.4          3.9           1.7          0.4  setosa\n",
       "6           4.6          3.4           1.4          0.3  setosa\n",
       "7           5.0          3.4           1.5          0.2  setosa\n",
       "8           4.4          2.9           1.4          0.2  setosa\n",
       "9           4.9          3.1           1.5          0.1  setosa"
      ]
     },
     "execution_count": 31,
     "metadata": {},
     "output_type": "execute_result"
    }
   ],
   "source": [
    "import pandas as pd \n",
    "data = pd.read_csv('data/iris.csv', header=(0))\n",
    "print(\"Número de linhas e colunas:\",data.shape)\n",
    "data.head(10)"
   ]
  },
  {
   "cell_type": "markdown",
   "id": "746fd8de",
   "metadata": {},
   "source": [
    "Para acessarmos as 5 primeiras linhas:"
   ]
  },
  {
   "cell_type": "code",
   "execution_count": 32,
   "id": "ee09edf2",
   "metadata": {},
   "outputs": [
    {
     "data": {
      "text/html": [
       "<div>\n",
       "<style scoped>\n",
       "    .dataframe tbody tr th:only-of-type {\n",
       "        vertical-align: middle;\n",
       "    }\n",
       "\n",
       "    .dataframe tbody tr th {\n",
       "        vertical-align: top;\n",
       "    }\n",
       "\n",
       "    .dataframe thead th {\n",
       "        text-align: right;\n",
       "    }\n",
       "</style>\n",
       "<table border=\"1\" class=\"dataframe\">\n",
       "  <thead>\n",
       "    <tr style=\"text-align: right;\">\n",
       "      <th></th>\n",
       "      <th>sepal_length</th>\n",
       "      <th>sepal_width</th>\n",
       "      <th>petal_length</th>\n",
       "      <th>petal_width</th>\n",
       "      <th>species</th>\n",
       "    </tr>\n",
       "  </thead>\n",
       "  <tbody>\n",
       "    <tr>\n",
       "      <th>0</th>\n",
       "      <td>5.1</td>\n",
       "      <td>3.5</td>\n",
       "      <td>1.4</td>\n",
       "      <td>0.2</td>\n",
       "      <td>setosa</td>\n",
       "    </tr>\n",
       "    <tr>\n",
       "      <th>1</th>\n",
       "      <td>4.9</td>\n",
       "      <td>3.0</td>\n",
       "      <td>1.4</td>\n",
       "      <td>0.2</td>\n",
       "      <td>setosa</td>\n",
       "    </tr>\n",
       "    <tr>\n",
       "      <th>2</th>\n",
       "      <td>4.7</td>\n",
       "      <td>3.2</td>\n",
       "      <td>1.3</td>\n",
       "      <td>0.2</td>\n",
       "      <td>setosa</td>\n",
       "    </tr>\n",
       "    <tr>\n",
       "      <th>3</th>\n",
       "      <td>4.6</td>\n",
       "      <td>3.1</td>\n",
       "      <td>1.5</td>\n",
       "      <td>0.2</td>\n",
       "      <td>setosa</td>\n",
       "    </tr>\n",
       "    <tr>\n",
       "      <th>4</th>\n",
       "      <td>5.0</td>\n",
       "      <td>3.6</td>\n",
       "      <td>1.4</td>\n",
       "      <td>0.2</td>\n",
       "      <td>setosa</td>\n",
       "    </tr>\n",
       "  </tbody>\n",
       "</table>\n",
       "</div>"
      ],
      "text/plain": [
       "   sepal_length  sepal_width  petal_length  petal_width species\n",
       "0           5.1          3.5           1.4          0.2  setosa\n",
       "1           4.9          3.0           1.4          0.2  setosa\n",
       "2           4.7          3.2           1.3          0.2  setosa\n",
       "3           4.6          3.1           1.5          0.2  setosa\n",
       "4           5.0          3.6           1.4          0.2  setosa"
      ]
     },
     "execution_count": 32,
     "metadata": {},
     "output_type": "execute_result"
    }
   ],
   "source": [
    "data[:5]"
   ]
  },
  {
   "cell_type": "markdown",
   "id": "1cc80c78",
   "metadata": {},
   "source": [
    "Podemos calcular medidas estatística dos dados de uma forma simples:"
   ]
  },
  {
   "cell_type": "code",
   "execution_count": 33,
   "id": "30504e92",
   "metadata": {},
   "outputs": [
    {
     "data": {
      "text/html": [
       "<div>\n",
       "<style scoped>\n",
       "    .dataframe tbody tr th:only-of-type {\n",
       "        vertical-align: middle;\n",
       "    }\n",
       "\n",
       "    .dataframe tbody tr th {\n",
       "        vertical-align: top;\n",
       "    }\n",
       "\n",
       "    .dataframe thead th {\n",
       "        text-align: right;\n",
       "    }\n",
       "</style>\n",
       "<table border=\"1\" class=\"dataframe\">\n",
       "  <thead>\n",
       "    <tr style=\"text-align: right;\">\n",
       "      <th></th>\n",
       "      <th>sepal_length</th>\n",
       "      <th>sepal_width</th>\n",
       "      <th>petal_length</th>\n",
       "      <th>petal_width</th>\n",
       "    </tr>\n",
       "  </thead>\n",
       "  <tbody>\n",
       "    <tr>\n",
       "      <th>count</th>\n",
       "      <td>150.000000</td>\n",
       "      <td>150.000000</td>\n",
       "      <td>150.000000</td>\n",
       "      <td>150.000000</td>\n",
       "    </tr>\n",
       "    <tr>\n",
       "      <th>mean</th>\n",
       "      <td>5.843333</td>\n",
       "      <td>3.054000</td>\n",
       "      <td>3.758667</td>\n",
       "      <td>1.198667</td>\n",
       "    </tr>\n",
       "    <tr>\n",
       "      <th>std</th>\n",
       "      <td>0.828066</td>\n",
       "      <td>0.433594</td>\n",
       "      <td>1.764420</td>\n",
       "      <td>0.763161</td>\n",
       "    </tr>\n",
       "    <tr>\n",
       "      <th>min</th>\n",
       "      <td>4.300000</td>\n",
       "      <td>2.000000</td>\n",
       "      <td>1.000000</td>\n",
       "      <td>0.100000</td>\n",
       "    </tr>\n",
       "    <tr>\n",
       "      <th>25%</th>\n",
       "      <td>5.100000</td>\n",
       "      <td>2.800000</td>\n",
       "      <td>1.600000</td>\n",
       "      <td>0.300000</td>\n",
       "    </tr>\n",
       "    <tr>\n",
       "      <th>50%</th>\n",
       "      <td>5.800000</td>\n",
       "      <td>3.000000</td>\n",
       "      <td>4.350000</td>\n",
       "      <td>1.300000</td>\n",
       "    </tr>\n",
       "    <tr>\n",
       "      <th>75%</th>\n",
       "      <td>6.400000</td>\n",
       "      <td>3.300000</td>\n",
       "      <td>5.100000</td>\n",
       "      <td>1.800000</td>\n",
       "    </tr>\n",
       "    <tr>\n",
       "      <th>max</th>\n",
       "      <td>7.900000</td>\n",
       "      <td>4.400000</td>\n",
       "      <td>6.900000</td>\n",
       "      <td>2.500000</td>\n",
       "    </tr>\n",
       "  </tbody>\n",
       "</table>\n",
       "</div>"
      ],
      "text/plain": [
       "       sepal_length  sepal_width  petal_length  petal_width\n",
       "count    150.000000   150.000000    150.000000   150.000000\n",
       "mean       5.843333     3.054000      3.758667     1.198667\n",
       "std        0.828066     0.433594      1.764420     0.763161\n",
       "min        4.300000     2.000000      1.000000     0.100000\n",
       "25%        5.100000     2.800000      1.600000     0.300000\n",
       "50%        5.800000     3.000000      4.350000     1.300000\n",
       "75%        6.400000     3.300000      5.100000     1.800000\n",
       "max        7.900000     4.400000      6.900000     2.500000"
      ]
     },
     "execution_count": 33,
     "metadata": {},
     "output_type": "execute_result"
    }
   ],
   "source": [
    "data.describe()"
   ]
  },
  {
   "cell_type": "markdown",
   "id": "57b151fa",
   "metadata": {},
   "source": [
    "A biblioteca pandas também oferece métodos para tratar séries temporais."
   ]
  },
  {
   "cell_type": "code",
   "execution_count": 34,
   "id": "f38bc87e",
   "metadata": {},
   "outputs": [
    {
     "name": "stdout",
     "output_type": "stream",
     "text": [
      "0    1.0\n",
      "1    3.0\n",
      "2    5.0\n",
      "3    NaN\n",
      "4    6.0\n",
      "5    8.0\n",
      "dtype: float64\n"
     ]
    }
   ],
   "source": [
    "s = pd.Series([1, 3, 5, np.nan, 6, 8])\n",
    "print(s)"
   ]
  },
  {
   "cell_type": "markdown",
   "id": "3ef30dc0",
   "metadata": {},
   "source": [
    "Notem que np.nan retorna um valor desconhecido."
   ]
  },
  {
   "cell_type": "markdown",
   "id": "9752dc96",
   "metadata": {},
   "source": [
    "Outra maneira de gerar uma série temporal. Podemos gerar dados de acordo com dias ('D'), meses ('M') ou anos ('Y')."
   ]
  },
  {
   "cell_type": "code",
   "execution_count": 35,
   "id": "4cef9067",
   "metadata": {},
   "outputs": [
    {
     "name": "stdout",
     "output_type": "stream",
     "text": [
      "Dias: DatetimeIndex(['2013-01-01', '2013-01-02', '2013-01-03', '2013-01-04'], dtype='datetime64[ns]', freq='D')\n",
      "Meses: DatetimeIndex(['2013-01-31', '2013-02-28', '2013-03-31', '2013-04-30'], dtype='datetime64[ns]', freq='M')\n",
      "Anos DatetimeIndex(['2013-12-31', '2014-12-31', '2015-12-31', '2016-12-31'], dtype='datetime64[ns]', freq='A-DEC')\n"
     ]
    }
   ],
   "source": [
    "dates = pd.date_range(\"20130101\", periods=4, freq='D')\n",
    "print('Dias:', dates)\n",
    "dates = pd.date_range(\"20130101\", periods=4, freq='M')\n",
    "print('Meses:', dates)\n",
    "dates = pd.date_range(\"20130101\", periods=4, freq='Y')\n",
    "print('Anos', dates)"
   ]
  },
  {
   "cell_type": "markdown",
   "id": "2f422288",
   "metadata": {},
   "source": [
    "Podemos converter uma matriz do numpy para o formato dataframe do pandas."
   ]
  },
  {
   "cell_type": "code",
   "execution_count": 36,
   "id": "e83d6392",
   "metadata": {},
   "outputs": [
    {
     "data": {
      "text/html": [
       "<div>\n",
       "<style scoped>\n",
       "    .dataframe tbody tr th:only-of-type {\n",
       "        vertical-align: middle;\n",
       "    }\n",
       "\n",
       "    .dataframe tbody tr th {\n",
       "        vertical-align: top;\n",
       "    }\n",
       "\n",
       "    .dataframe thead th {\n",
       "        text-align: right;\n",
       "    }\n",
       "</style>\n",
       "<table border=\"1\" class=\"dataframe\">\n",
       "  <thead>\n",
       "    <tr style=\"text-align: right;\">\n",
       "      <th></th>\n",
       "      <th>number</th>\n",
       "      <th>squares</th>\n",
       "      <th>cubes</th>\n",
       "    </tr>\n",
       "  </thead>\n",
       "  <tbody>\n",
       "    <tr>\n",
       "      <th>first</th>\n",
       "      <td>1</td>\n",
       "      <td>1</td>\n",
       "      <td>1</td>\n",
       "    </tr>\n",
       "    <tr>\n",
       "      <th>second</th>\n",
       "      <td>2</td>\n",
       "      <td>4</td>\n",
       "      <td>8</td>\n",
       "    </tr>\n",
       "    <tr>\n",
       "      <th>third</th>\n",
       "      <td>3</td>\n",
       "      <td>9</td>\n",
       "      <td>27</td>\n",
       "    </tr>\n",
       "    <tr>\n",
       "      <th>fourth</th>\n",
       "      <td>4</td>\n",
       "      <td>16</td>\n",
       "      <td>64</td>\n",
       "    </tr>\n",
       "    <tr>\n",
       "      <th>fifth</th>\n",
       "      <td>5</td>\n",
       "      <td>25</td>\n",
       "      <td>125</td>\n",
       "    </tr>\n",
       "  </tbody>\n",
       "</table>\n",
       "</div>"
      ],
      "text/plain": [
       "        number  squares  cubes\n",
       "first        1        1      1\n",
       "second       2        4      8\n",
       "third        3        9     27\n",
       "fourth       4       16     64\n",
       "fifth        5       25    125"
      ]
     },
     "execution_count": 36,
     "metadata": {},
     "output_type": "execute_result"
    }
   ],
   "source": [
    "import pandas as pd\n",
    "import numpy as np\n",
    "  \n",
    "# cria um vetor do numpy\n",
    "array = np.array([[1, 1, 1], [2, 4, 8], [3, 9, 27], \n",
    "                  [4, 16, 64], [5, 25, 125], [6, 36, 216], \n",
    "                  [7, 49, 343]])\n",
    "  \n",
    "# indices das linhas\n",
    "index_values = ['first', 'second', 'third','fourth', 'fifth', 'sixth', 'seventh']\n",
    "   \n",
    "# nomes das colunas\n",
    "column_values = ['number', 'squares', 'cubes']\n",
    "  \n",
    "# cria o dataframe\n",
    "df = pd.DataFrame(data = array, \n",
    "                  index = index_values, \n",
    "                  columns = column_values)\n",
    "  \n",
    "# mostra o dataframe\n",
    "df.head()"
   ]
  },
  {
   "cell_type": "markdown",
   "id": "ec407aa4",
   "metadata": {},
   "source": [
    "Outro exemplo:"
   ]
  },
  {
   "cell_type": "code",
   "execution_count": 37,
   "id": "5dd1764e",
   "metadata": {},
   "outputs": [
    {
     "data": {
      "text/html": [
       "<div>\n",
       "<style scoped>\n",
       "    .dataframe tbody tr th:only-of-type {\n",
       "        vertical-align: middle;\n",
       "    }\n",
       "\n",
       "    .dataframe tbody tr th {\n",
       "        vertical-align: top;\n",
       "    }\n",
       "\n",
       "    .dataframe thead th {\n",
       "        text-align: right;\n",
       "    }\n",
       "</style>\n",
       "<table border=\"1\" class=\"dataframe\">\n",
       "  <thead>\n",
       "    <tr style=\"text-align: right;\">\n",
       "      <th></th>\n",
       "      <th>X1</th>\n",
       "      <th>X2</th>\n",
       "      <th>X3</th>\n",
       "    </tr>\n",
       "  </thead>\n",
       "  <tbody>\n",
       "    <tr>\n",
       "      <th>L1</th>\n",
       "      <td>0.003948</td>\n",
       "      <td>0.512192</td>\n",
       "      <td>0.812621</td>\n",
       "    </tr>\n",
       "    <tr>\n",
       "      <th>L2</th>\n",
       "      <td>0.612526</td>\n",
       "      <td>0.721755</td>\n",
       "      <td>0.291876</td>\n",
       "    </tr>\n",
       "    <tr>\n",
       "      <th>L3</th>\n",
       "      <td>0.917774</td>\n",
       "      <td>0.714576</td>\n",
       "      <td>0.542544</td>\n",
       "    </tr>\n",
       "    <tr>\n",
       "      <th>L4</th>\n",
       "      <td>0.142170</td>\n",
       "      <td>0.373341</td>\n",
       "      <td>0.674134</td>\n",
       "    </tr>\n",
       "  </tbody>\n",
       "</table>\n",
       "</div>"
      ],
      "text/plain": [
       "          X1        X2        X3\n",
       "L1  0.003948  0.512192  0.812621\n",
       "L2  0.612526  0.721755  0.291876\n",
       "L3  0.917774  0.714576  0.542544\n",
       "L4  0.142170  0.373341  0.674134"
      ]
     },
     "execution_count": 37,
     "metadata": {},
     "output_type": "execute_result"
    }
   ],
   "source": [
    "A = np.random.rand(4,3)\n",
    "\n",
    "index_values = ['L1', 'L2', 'L3','L4']\n",
    "   \n",
    "# nomes das colunas\n",
    "column_values = ['X1', 'X2', 'X3']\n",
    "  \n",
    "# cria o dataframe\n",
    "df = pd.DataFrame(data = A, \n",
    "                  index = index_values, \n",
    "                  columns = column_values)\n",
    "  \n",
    "# mostra o dataframe\n",
    "df.head()"
   ]
  },
  {
   "cell_type": "markdown",
   "id": "4df07e69",
   "metadata": {},
   "source": [
    "Para selecionarmos as entradas da matriz maiores do que um certo valor:"
   ]
  },
  {
   "cell_type": "code",
   "execution_count": 38,
   "id": "8fff222f",
   "metadata": {},
   "outputs": [
    {
     "name": "stdout",
     "output_type": "stream",
     "text": [
      "          X1        X2        X3\n",
      "L1       NaN  0.512192  0.812621\n",
      "L2  0.612526  0.721755       NaN\n",
      "L3  0.917774  0.714576  0.542544\n",
      "L4       NaN       NaN  0.674134\n"
     ]
    }
   ],
   "source": [
    "print(df[df > 0.5])"
   ]
  },
  {
   "cell_type": "markdown",
   "id": "e93d8e9b",
   "metadata": {},
   "source": [
    "### Matplotlib"
   ]
  },
  {
   "cell_type": "markdown",
   "id": "638b4695",
   "metadata": {},
   "source": [
    "Gráficos podem ser construídos usando-se a bibiloteca matplotlib (https://matplotlib.org)"
   ]
  },
  {
   "cell_type": "code",
   "execution_count": 39,
   "id": "9e124f86",
   "metadata": {},
   "outputs": [
    {
     "data": {
      "image/png": "[encoded data removed]",
      "text/plain": [
       "<Figure size 640x480 with 1 Axes>"
      ]
     },
     "metadata": {},
     "output_type": "display_data"
    }
   ],
   "source": [
    "import matplotlib.pyplot as plt\n",
    "\n",
    "x = np.arange(0,2*np.pi, 0.1)\n",
    "y = np.sin(x)\n",
    "z = np.cos(x)\n",
    "plt.plot(x, y, marker='s', linestyle='-', color=\"blue\", linewidth=2.5, label='Função seno')\n",
    "plt.plot(x, z, marker='*', linestyle='-', color=\"red\", linewidth=2.5, label='Função cosseno')\n",
    "plt.xlabel(\"x\", fontsize=20)\n",
    "plt.ylabel(\"f(x)\", fontsize=20)\n",
    "plt.legend()\n",
    "plt.show(True)"
   ]
  },
  {
   "cell_type": "markdown",
   "id": "c4af95b8",
   "metadata": {},
   "source": [
    "Para mostramos um scatterplot:"
   ]
  },
  {
   "cell_type": "code",
   "execution_count": 40,
   "id": "4148fbc4",
   "metadata": {},
   "outputs": [
    {
     "data": {
      "image/png": "[encoded data removed]",
      "text/plain": [
       "<Figure size 600x400 with 1 Axes>"
      ]
     },
     "metadata": {},
     "output_type": "display_data"
    }
   ],
   "source": [
    "import numpy as np\n",
    "import matplotlib.pyplot as plt\n",
    "\n",
    "x = np.array([0, 1, 2, 3, 4, 5, 6, 7, 8, 9]) \n",
    "y = np.array([1, 3, 2, 5, 7, 8, 8, 9, 10, 12]) \n",
    "# mostra os dados\n",
    "plt.figure(figsize=(6,4))\n",
    "plt.scatter(x,y, s=50, alpha=0.9)\n",
    "plt.show(True)"
   ]
  },
  {
   "cell_type": "markdown",
   "id": "cc789419",
   "metadata": {},
   "source": [
    "Podemos também construir graficos de setores."
   ]
  },
  {
   "cell_type": "code",
   "execution_count": 41,
   "id": "5031ced3",
   "metadata": {},
   "outputs": [
    {
     "data": {
      "image/png": "[encoded data removed]",
      "text/plain": [
       "<Figure size 640x480 with 1 Axes>"
      ]
     },
     "metadata": {},
     "output_type": "display_data"
    }
   ],
   "source": [
    "import matplotlib.pyplot as plt\n",
    "\n",
    "labels = 'Frogs', 'Hogs', 'Dogs', 'Logs'\n",
    "sizes = [15, 30, 45, 10]\n",
    "explode = (0, 0.1, 0, 0)  # only \"explode\" the 2nd slice (i.e. 'Hogs')\n",
    "\n",
    "fig1, ax1 = plt.subplots()\n",
    "ax1.pie(sizes, explode=explode, labels=labels, autopct='%1.1f%%',\n",
    "        shadow=True, startangle=90)\n",
    "ax1.axis('equal')  # Equal aspect ratio ensures that pie is drawn as a circle.\n",
    "\n",
    "plt.show()"
   ]
  },
  {
   "cell_type": "markdown",
   "id": "a63873d1",
   "metadata": {},
   "source": [
    "Gráficos de barras."
   ]
  },
  {
   "cell_type": "code",
   "execution_count": 42,
   "id": "1eb80072",
   "metadata": {},
   "outputs": [
    {
     "data": {
      "image/png": "[encoded data removed]",
      "text/plain": [
       "<Figure size 640x480 with 1 Axes>"
      ]
     },
     "metadata": {},
     "output_type": "display_data"
    }
   ],
   "source": [
    "n = 12\n",
    "X = np.arange(n)\n",
    "Y1 = (1 - X / float(n)) * np.random.uniform(0.5, 1.0, n)\n",
    "Y2 = (1 - X / float(n)) * np.random.uniform(0.5, 1.0, n)\n",
    "plt.bar(X, +Y1, facecolor='#9999ff', edgecolor='white')\n",
    "plt.bar(X, -Y2, facecolor='#ff9999', edgecolor='white')\n",
    "for x, y in zip(X, Y1): #Mostra os valores\n",
    "    plt.text(x + 0.4, y + 0.05, '%.2f' % y, ha='center', va= 'bottom')\n",
    "plt.ylim(-1.25, +1.25)\n",
    "plt.show(True)       "
   ]
  },
  {
   "cell_type": "markdown",
   "id": "9d8ea0f1",
   "metadata": {},
   "source": [
    "Histogramas."
   ]
  },
  {
   "cell_type": "code",
   "execution_count": 43,
   "id": "d8fa8b60",
   "metadata": {},
   "outputs": [
    {
     "data": {
      "image/png": "[encoded data removed]",
      "text/plain": [
       "<Figure size 640x480 with 1 Axes>"
      ]
     },
     "metadata": {},
     "output_type": "display_data"
    }
   ],
   "source": [
    "data = np.random.randn(100)\n",
    "plt.hist(data, density = True, color='#0504aa',alpha=0.7, rwidth=0.85);\n",
    "plt.show(True)"
   ]
  },
  {
   "cell_type": "markdown",
   "id": "a52db826",
   "metadata": {},
   "source": [
    "Gráficos em 3D:"
   ]
  },
  {
   "cell_type": "code",
   "execution_count": 44,
   "id": "9e0cdf7f",
   "metadata": {},
   "outputs": [
    {
     "data": {
      "image/png": "[encoded data removed]",
      "text/plain": [
       "<Figure size 640x480 with 2 Axes>"
      ]
     },
     "metadata": {},
     "output_type": "display_data"
    }
   ],
   "source": [
    "import matplotlib.pyplot as plt\n",
    "from matplotlib import cm\n",
    "from matplotlib.ticker import LinearLocator\n",
    "import numpy as np\n",
    "\n",
    "fig, ax = plt.subplots(subplot_kw={\"projection\": \"3d\"})\n",
    "\n",
    "# Make data.\n",
    "X = np.arange(-5, 5, 0.25)\n",
    "Y = np.arange(-5, 5, 0.25)\n",
    "X, Y = np.meshgrid(X, Y)\n",
    "R = np.sqrt(X**2 + Y**2)\n",
    "Z = np.sin(R)\n",
    "\n",
    "# Plot the surface.\n",
    "surf = ax.plot_surface(X, Y, Z, cmap=cm.coolwarm,\n",
    "                       linewidth=0, antialiased=False)\n",
    "\n",
    "# Customize the z axis.\n",
    "ax.set_zlim(-1.01, 1.01)\n",
    "ax.zaxis.set_major_locator(LinearLocator(10))\n",
    "# A StrMethodFormatter is used automatically\n",
    "ax.zaxis.set_major_formatter('{x:.02f}')\n",
    "\n",
    "# Add a color bar which maps values to colors.\n",
    "fig.colorbar(surf, shrink=0.5, aspect=5)\n",
    "\n",
    "plt.show()"
   ]
  },
  {
   "cell_type": "markdown",
   "id": "89737db2",
   "metadata": {},
   "source": [
    "Mais exemplos podem ser vistos nesse link: https://matplotlib.org/stable/gallery/index.html"
   ]
  },
  {
   "cell_type": "markdown",
   "id": "a8c19141",
   "metadata": {},
   "source": [
    "### Scikt-learn\n"
   ]
  },
  {
   "cell_type": "markdown",
   "id": "9fd49408",
   "metadata": {},
   "source": [
    "A biblioteca scikt-learn fornece métodos para tratarmos os dados e usarmos os algoritmos de aprendizado de máquina."
   ]
  },
  {
   "cell_type": "markdown",
   "id": "d0b22adb",
   "metadata": {},
   "source": [
    "Para instalar essa biblioteca:"
   ]
  },
  {
   "cell_type": "code",
   "execution_count": 45,
   "id": "c81695c5",
   "metadata": {},
   "outputs": [],
   "source": [
    "#!pip install scikit-learn"
   ]
  },
  {
   "cell_type": "markdown",
   "id": "e88b325e",
   "metadata": {},
   "source": [
    "Vamos ler os dados da flor iris (https://en.wikipedia.org/wiki/Iris_flower_data_set) e realizar a normalização dos atributos, de modo que todos tenham escala em [0,1]."
   ]
  },
  {
   "cell_type": "code",
   "execution_count": 46,
   "id": "53401de8",
   "metadata": {},
   "outputs": [
    {
     "name": "stdout",
     "output_type": "stream",
     "text": [
      "Mínimo da coluna 0 é igual a:  4.3\n",
      "Máximo da coluna 0 é igual a:  7.9 \n",
      "\n",
      "Mínimo da coluna 1 é igual a:  2.0\n",
      "Máximo da coluna 1 é igual a:  4.4 \n",
      "\n"
     ]
    }
   ],
   "source": [
    "import matplotlib.pyplot as plt\n",
    "from sklearn import datasets\n",
    "\n",
    "# import some data to play with\n",
    "iris = datasets.load_iris()\n",
    "X = iris.data[:, :2]  # we only take the first two features.\n",
    "y = iris.target\n",
    "\n",
    "for i in range(0,X.shape[1]):\n",
    "    print('Mínimo da coluna', i, 'é igual a: ', np.min(X[:,i]))\n",
    "    print('Máximo da coluna', i, 'é igual a: ', np.max(X[:,i]),'\\n')"
   ]
  },
  {
   "cell_type": "code",
   "execution_count": 47,
   "id": "6e2480dc",
   "metadata": {},
   "outputs": [
    {
     "name": "stdout",
     "output_type": "stream",
     "text": [
      "Mínimo da coluna 0 é igual a:  0.0\n",
      "Máximo da coluna 0 é igual a:  1.0 \n",
      "\n",
      "Mínimo da coluna 1 é igual a:  0.0\n",
      "Máximo da coluna 1 é igual a:  1.0 \n",
      "\n"
     ]
    }
   ],
   "source": [
    "from sklearn.preprocessing import MinMaxScaler\n",
    "# prepara a função para transformar os dados\n",
    "scaler = MinMaxScaler().fit(X)\n",
    "rescaledX = scaler.transform(X)\n",
    "\n",
    "for i in range(0,X.shape[1]):\n",
    "    print('Mínimo da coluna', i, 'é igual a: ', np.min(rescaledX[:,i]))\n",
    "    print('Máximo da coluna', i, 'é igual a: ', np.max(rescaledX[:,i]),'\\n')"
   ]
  },
  {
   "cell_type": "markdown",
   "id": "9be92252",
   "metadata": {},
   "source": [
    "Ao longo do curso, essa biblioteca será usada nas tarefas de classificação, regressão e agrupamento de dados."
   ]
  },
  {
   "cell_type": "markdown",
   "id": "e5cd23dd",
   "metadata": {},
   "source": [
    "### Outras bibliotecas"
   ]
  },
  {
   "cell_type": "markdown",
   "id": "395f7e7f",
   "metadata": {},
   "source": [
    "Ao longo do curso, usaramos outras bibliotecas, como a scikit-learn (https://scikit-learn.org), keras (https://keras.io), tensorflow (https://www.tensorflow.org), PyTorch (https://pytorch.org) e Beautiful Soup (https://beautiful-soup-4.readthedocs.io/en/latest)."
   ]
  },
  {
   "cell_type": "code",
   "execution_count": null,
   "id": "f0422485",
   "metadata": {},
   "outputs": [],
   "source": []
  }
 ],
 "metadata": {
  "kernelspec": {
   "display_name": "Python 3 (ipykernel)",
   "language": "python",
   "name": "python3"
  },
  "language_info": {
   "codemirror_mode": {
    "name": "ipython",
    "version": 3
   },
   "file_extension": ".py",
   "mimetype": "text/x-python",
   "name": "python",
   "nbconvert_exporter": "python",
   "pygments_lexer": "ipython3",
   "version": "3.11.3"
  }
 },
 "nbformat": 4,
 "nbformat_minor": 5
}
